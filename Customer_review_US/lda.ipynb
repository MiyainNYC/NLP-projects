{
 "cells": [
  {
   "cell_type": "code",
   "execution_count": 1,
   "metadata": {
    "collapsed": false
   },
   "outputs": [
    {
     "name": "stderr",
     "output_type": "stream",
     "text": [
      "C:\\Users\\mnan\\Anaconda3\\lib\\site-packages\\gensim\\utils.py:840: UserWarning: detected Windows; aliasing chunkize to chunkize_serial\n",
      "  warnings.warn(\"detected Windows; aliasing chunkize to chunkize_serial\")\n",
      "C:\\Users\\mnan\\Anaconda3\\lib\\site-packages\\gensim\\utils.py:1015: UserWarning: Pattern library is not installed, lemmatization won't be available.\n",
      "  warnings.warn(\"Pattern library is not installed, lemmatization won't be available.\")\n"
     ]
    }
   ],
   "source": [
    "from gensim.models.ldamodel import LdaModel\n",
    "import gensim\n",
    "import pandas as pd\n",
    "import glob\n",
    "from nltk.corpus import stopwords\n",
    "import string\n",
    "from gensim import corpora,models\n",
    "from gensim.utils import lemmatize # Only keep nums\n",
    "from gensim.corpora import Dictionary\n",
    "%matplotlib inline\n",
    "import matplotlib.pyplot as plt\n",
    "from nltk.stem.wordnet import WordNetLemmatizer\n",
    "import sys\n",
    "import numpy as np\n",
    "import enchant"
   ]
  },
  {
   "cell_type": "code",
   "execution_count": 2,
   "metadata": {
    "collapsed": false
   },
   "outputs": [],
   "source": [
    "def process_text(content_list):\n",
    "    \"\"\"\n",
    "    stopwords\n",
    "    \n",
    "    punctuation\n",
    "    \n",
    "    digits\n",
    "    \n",
    "    english words\n",
    "    \n",
    "    \"\"\"\n",
    "    typical_words = ['light','therapy','facial','skin','rt','treatment']\n",
    "    stoplist = stopwords.words('english') + typical_words \n",
    "    \n",
    "    remove_digits = str.maketrans('', '', string.digits)\n",
    "    remove_punctuation = str.maketrans('', '', string.punctuation)\n",
    "    \n",
    "    dict_english = enchant.Dict(\"en_US\")\n",
    "    \n",
    "    lemma = WordNetLemmatizer()\n",
    "    \n",
    "    content_cleaned =[i.translate(remove_digits) for i in content_list]\n",
    "    \n",
    "    content_cleaned = [i.translate(remove_punctuation) for i in content_cleaned]\n",
    "    \n",
    "    content_cleaned = [[lemma.lemmatize(word.lower()) for word in line.split()\n",
    "                        if (word.lower() not in stoplist) and dict_english.check(word.lower())==True] for line in content_cleaned]\n",
    "\n",
    "    return content_cleaned"
   ]
  },
  {
   "cell_type": "code",
   "execution_count": 4,
   "metadata": {
    "collapsed": false
   },
   "outputs": [
    {
     "name": "stdout",
     "output_type": "stream",
     "text": [
      "8001\n",
      "after process....\n",
      "8001\n"
     ]
    }
   ],
   "source": [
    "content = pd.read_csv('text.csv',encoding = 'iso-8859-1',header=None)\n",
    "content.columns = ['content']\n",
    "content['content']\n",
    "print(len(content))\n",
    "content_list = content['content'].values\n",
    "cleaned_list = process_text(content_list)\n",
    "print('after process....')\n",
    "print(len(cleaned_list))"
   ]
  },
  {
   "cell_type": "markdown",
   "metadata": {},
   "source": [
    "Reviews with no extracted value"
   ]
  },
  {
   "cell_type": "code",
   "execution_count": 42,
   "metadata": {
    "collapsed": false
   },
   "outputs": [
    {
     "data": {
      "text/plain": [
       "62"
      ]
     },
     "execution_count": 42,
     "metadata": {},
     "output_type": "execute_result"
    }
   ],
   "source": [
    "len(list(filter(lambda x:x==[],cleaned_list)))"
   ]
  },
  {
   "cell_type": "markdown",
   "metadata": {},
   "source": [
    "** Build Dict **"
   ]
  },
  {
   "cell_type": "code",
   "execution_count": 43,
   "metadata": {
    "collapsed": false
   },
   "outputs": [],
   "source": [
    "dictionary = Dictionary(cleaned_list)\n",
    "corpus = [dictionary.doc2bow(text) for text in cleaned_list]"
   ]
  },
  {
   "cell_type": "markdown",
   "metadata": {},
   "source": [
    "** Topic Modeling **"
   ]
  },
  {
   "cell_type": "code",
   "execution_count": 44,
   "metadata": {
    "collapsed": false
   },
   "outputs": [
    {
     "data": {
      "text/plain": [
       "[(0,\n",
       "  '0.016*\"led\" + 0.013*\"ultrasonic\" + 0.012*\"home\" + 0.011*\"galvanic\" + 0.009*\"plus\" + 0.009*\"nutrition\" + 0.009*\"sun\" + 0.009*\"damage\" + 0.008*\"million\" + 0.008*\"affect\" + 0.007*\"according\" + 0.007*\"estimated\" + 0.007*\"disorder\" + 0.007*\"treatment\" + 0.006*\"lifting\"'),\n",
       " (1,\n",
       "  '0.098*\"technology\" + 0.098*\"energy\" + 0.098*\"panel\" + 0.098*\"stop\" + 0.098*\"brighten\" + 0.098*\"news\" + 0.098*\"winter\" + 0.098*\"environment\" + 0.098*\"bus\" + 0.009*\"acne\" + 0.006*\"blue\" + 0.004*\"led\" + 0.003*\"red\" + 0.003*\"sun\" + 0.003*\"new\"'),\n",
       " (2,\n",
       "  '0.033*\"led\" + 0.022*\"skincare\" + 0.019*\"min\" + 0.017*\"acne\" + 0.016*\"high\" + 0.016*\"like\" + 0.016*\"intensity\" + 0.016*\"ultrasound\" + 0.015*\"focused\" + 0.014*\"look\" + 0.014*\"ultrasonic\" + 0.014*\"spa\" + 0.013*\"wrinkle\" + 0.013*\"stuff\" + 0.012*\"machine\"'),\n",
       " (3,\n",
       "  '0.015*\"work\" + 0.015*\"new\" + 0.011*\"way\" + 0.011*\"dermatology\" + 0.011*\"added\" + 0.011*\"people\" + 0.011*\"problem\" + 0.011*\"many\" + 0.010*\"even\" + 0.009*\"aging\" + 0.008*\"may\" + 0.008*\"related\" + 0.008*\"video\" + 0.007*\"cheek\" + 0.007*\"probably\"'),\n",
       " (4,\n",
       "  '0.033*\"red\" + 0.031*\"anti\" + 0.024*\"led\" + 0.020*\"care\" + 0.018*\"aging\" + 0.017*\"issue\" + 0.017*\"cause\" + 0.017*\"skincare\" + 0.014*\"cell\" + 0.014*\"green\" + 0.013*\"step\" + 0.013*\"remedy\" + 0.011*\"wavelength\" + 0.011*\"complexion\" + 0.011*\"revive\"'),\n",
       " (5,\n",
       "  '0.022*\"violet\" + 0.018*\"skincare\" + 0.017*\"benefit\" + 0.012*\"cosmetic\" + 0.012*\"beauty\" + 0.009*\"wrinkle\" + 0.009*\"face\" + 0.009*\"laser\" + 0.008*\"natural\" + 0.008*\"sleep\" + 0.006*\"right\" + 0.006*\"like\" + 0.006*\"anti\" + 0.006*\"study\" + 0.006*\"skin\"'),\n",
       " (6,\n",
       "  '0.066*\"led\" + 0.039*\"photon\" + 0.030*\"rejuvenation\" + 0.029*\"beauty\" + 0.021*\"psoriasis\" + 0.020*\"mask\" + 0.017*\"used\" + 0.017*\"system\" + 0.015*\"condition\" + 0.014*\"care\" + 0.013*\"treat\" + 0.012*\"color\" + 0.012*\"machine\" + 0.010*\"serious\" + 0.009*\"ultrasound\"'),\n",
       " (7,\n",
       "  '0.032*\"skincare\" + 0.031*\"led\" + 0.022*\"think\" + 0.016*\"system\" + 0.014*\"got\" + 0.013*\"relief\" + 0.012*\"pain\" + 0.012*\"quality\" + 0.012*\"perhaps\" + 0.011*\"via\" + 0.011*\"mask\" + 0.010*\"care\" + 0.007*\"intensity\" + 0.007*\"matter\" + 0.007*\"new\"'),\n",
       " (8,\n",
       "  '0.055*\"led\" + 0.049*\"mask\" + 0.041*\"acne\" + 0.034*\"new\" + 0.024*\"red\" + 0.019*\"blue\" + 0.018*\"rejuvenation\" + 0.017*\"beauty\" + 0.016*\"color\" + 0.014*\"photon\" + 0.013*\"face\" + 0.012*\"skincare\" + 0.011*\"wrinkle\" + 0.008*\"device\" + 0.008*\"improves\"'),\n",
       " (9,\n",
       "  '0.095*\"acne\" + 0.027*\"blue\" + 0.026*\"mask\" + 0.025*\"led\" + 0.016*\"day\" + 0.016*\"skincare\" + 0.015*\"wrinkle\" + 0.015*\"spot\" + 0.013*\"exciting\" + 0.013*\"complete\" + 0.013*\"launching\" + 0.012*\"treat\" + 0.010*\"system\" + 0.010*\"salon\" + 0.010*\"work\"')]"
      ]
     },
     "execution_count": 44,
     "metadata": {},
     "output_type": "execute_result"
    }
   ],
   "source": [
    "num_topics = 10\n",
    "lda = LdaModel(corpus, num_topics= num_topics,id2word = dictionary)\n",
    "lda.show_topics(num_topics,15)"
   ]
  },
  {
   "cell_type": "markdown",
   "metadata": {},
   "source": [
    "** Save the model **"
   ]
  },
  {
   "cell_type": "code",
   "execution_count": 53,
   "metadata": {
    "collapsed": false
   },
   "outputs": [],
   "source": [
    "#import pickle\n",
    "#with open('lda.pickle', 'wb') as handle:\n",
    "#    pickle.dump(lda, handle, protocol=pickle.HIGHEST_PROTOCOL)"
   ]
  },
  {
   "cell_type": "markdown",
   "metadata": {},
   "source": [
    "** Read the model **"
   ]
  },
  {
   "cell_type": "code",
   "execution_count": null,
   "metadata": {
    "collapsed": true
   },
   "outputs": [],
   "source": [
    "import pickle\n",
    "with open('lda.pickle', 'rb') as handle:\n",
    "    lda = pickle.load(handle)"
   ]
  },
  {
   "cell_type": "code",
   "execution_count": 45,
   "metadata": {
    "collapsed": false
   },
   "outputs": [],
   "source": [
    "assign = []\n",
    "for i in range(len(corpus)):\n",
    "    assign.append(sorted(lda[corpus[i]],key = lambda x:x[1],reverse = True)[0][0])\n",
    "conf_score = []\n",
    "for i in range(len(corpus)):\n",
    "    conf_score.append(sorted(lda[corpus[i]],key = lambda x:x[1],reverse = True)[0][1])"
   ]
  },
  {
   "cell_type": "code",
   "execution_count": 46,
   "metadata": {
    "collapsed": true
   },
   "outputs": [],
   "source": [
    "df_bow = pd.DataFrame({'original_text':content.content.values,\n",
    "             'corpus':corpus,\n",
    "            'assign':assign,\n",
    "            'conf_score':conf_score,\n",
    "                      'bow':cleaned_list})"
   ]
  },
  {
   "cell_type": "markdown",
   "metadata": {},
   "source": [
    "** data is been saved in csv file 'topic assign.csv'**"
   ]
  },
  {
   "cell_type": "code",
   "execution_count": 58,
   "metadata": {
    "collapsed": true
   },
   "outputs": [],
   "source": [
    "df_bow.to_csv('topic_assign.csv')"
   ]
  },
  {
   "cell_type": "code",
   "execution_count": 57,
   "metadata": {
    "collapsed": false
   },
   "outputs": [
    {
     "data": {
      "text/plain": [
       "<matplotlib.figure.Figure at 0xea9e070>"
      ]
     },
     "execution_count": 57,
     "metadata": {},
     "output_type": "execute_result"
    },
    {
     "data": {
      "image/png": "[encoded data removed]",
      "text/plain": [
       "<matplotlib.figure.Figure at 0xea9e330>"
      ]
     },
     "metadata": {},
     "output_type": "display_data"
    },
    {
     "data": {
      "text/plain": [
       "<matplotlib.figure.Figure at 0xea9e070>"
      ]
     },
     "metadata": {},
     "output_type": "display_data"
    }
   ],
   "source": [
    "df_bow.groupby('assign').count()['original_text'].plot(kind='pie')\n",
    "plt.title('Topic Count Ratio')\n",
    "plt.figure(figsize=(5,5))"
   ]
  },
  {
   "cell_type": "markdown",
   "metadata": {},
   "source": [
    "check the 8 category"
   ]
  },
  {
   "cell_type": "code",
   "execution_count": 54,
   "metadata": {
    "collapsed": false
   },
   "outputs": [
    {
     "name": "stdout",
     "output_type": "stream",
     "text": [
      "RT @DermaSpaDist: How Light Therapy Improves a #Microdermabrasion Treatment dermaspadistributors.com/best-facials-i?  #phototherapy #skincare pic.twitter.com/yb9XyqYJFF\n",
      "\n",
      "RT @Theralight: Apparently, light therapy can do much more than treat depression!  Take a look at the #skincare possibilities! su.pr/1xpM95\n",
      "\n",
      "RT @DermaSpaDist: How Light Therapy Improves a #Microdermabrasion Treatment dermaspadistributors.com/best-facials-i?  #phototherapy #skincare pic.twitter.com/yb9XyqYJFF\n",
      "\n",
      "RT @Theralight: Apparently, light therapy can do much more than treat depression!  Take a look at the #skincare possibilities! su.pr/1xpM95\n",
      "\n",
      "7 Colors LED Photon Facial Mask Skin Rejuvenation Light Therapy Reduces Wrinkles toys-and-hobbies.info/tysnd/hbbs026/? pic.twitter.com/AsAP9dTzG6\n",
      "\n",
      "RT @Theralight: Apparently, light therapy can do much more than treat depression!  Take a look at the #skincare possibilities! su.pr/1xpM95\n",
      "\n",
      "face mask always when watching #realitytv time to re watch the @PumpRules while I @BeautyKitchenHM n light mask???????? pic.twitter.com/fUfh3E9vuZ\n",
      "\n",
      "Previous\n",
      "\n",
      "Chatham Township Recognizes JAG President?s Award\n",
      "\n",
      "JAG Physical Therapy, led by founder and president John Gallucci Jr. of Chatham Township, has been recognized as a New Jersey SmartCEO Future 50 award winner. \n",
      "Click here to learn why JAG won this prestigious NJ award!\n",
      "\n",
      "tbsmo2015-12-28T17:20:41+00:00 Share This Story, Choose Your Platform!\n",
      "\n",
      "Related Posts\n",
      "\n",
      "Preventing Cold Weather Injuries\n",
      "\n",
      "December 21st, 2015|0 Comments\n",
      "\n",
      "JAG Physical Therapy Named Future 50 Award Winner by New Jersey SmartCEO!\n",
      "\n",
      "December 16th, 2015|0 Comments\n",
      "\n",
      "What Not To Do After A Marathon\n",
      "\n",
      "December 1st, 2015|0 Comments\n",
      "\n",
      "Pressure Situations in Youth Soccer\n",
      "\n",
      "December 1st, 2015|0 Comments\n",
      "\n",
      "Avoiding Injuries While Playing Backyard Sports\n",
      "\n",
      "November 26th, 2015|0 Comments\n",
      "\n",
      "Search\n",
      "\n",
      "Popular\n",
      "\n",
      "Recent\n",
      "\n",
      "Low Back Injuries in Hockey\n",
      "\n",
      "LED Therapy Facial Mask Light Skin Rejuvenation Face Ance Treatment Photodynamic to-dubai.info/td/if/?query=1? pic.twitter.com/9IPp4mMNyg\n",
      "\n",
      "NEW Caribbean Sun LED Red Blue Light Therapy Acne Treatment Pro Carribbean Lamp health-beauty-items.info/hlthb/tytms/?q? pic.twitter.com/H9zSmzw4ML\n",
      "\n"
     ]
    }
   ],
   "source": [
    "for i in df_bow[df_bow['assign']==8]['original_text'].sample(10):\n",
    "    print(i+'\\n')"
   ]
  },
  {
   "cell_type": "markdown",
   "metadata": {},
   "source": [
    "** 9 category is likely to be ads (many general and descriptive words related to promotion, let's see. **"
   ]
  },
  {
   "cell_type": "code",
   "execution_count": 48,
   "metadata": {
    "collapsed": false
   },
   "outputs": [
    {
     "name": "stdout",
     "output_type": "stream",
     "text": [
      "reVive Deep-Penetrating Anti-Acne Light Therapy System for $99.99: reVive Deep-Penetrating? goo.gl/fb/yez7zb\n",
      "\n",
      "RT @skinchats: 10 Tips to Get the Most Out of Light Therapy puls.ly/PFnKig #acne pic.twitter.com/IYfPSaS2f5\n",
      "\n",
      "Alien looking acne treating light mask from Neutrogena \n",
      "#acne #mask #facemask #skincare\n",
      "\n",
      "light therapy for acne\n",
      "\n",
      "Video link: https://youtu.be/HeBsRA8_O-w\n",
      "Acne treatments ? Certain medical procedures may help clear your skin. ... Medical procedures, such as light therapy or chemical peels, may help clear.Lumie Clear is a compact hand-held LED light therapy device clinically proven to treat mild to moderate acne. It combines blue light to attack the bacteria.\n",
      "Subscribe my channel: https://www.youtube.com/channel/UCCmlDv8vKa4fYqlr-MBD1bQ\n",
      "\n",
      "Facebook: \n",
      "Website: \n",
      "\n",
      "light therapy for acne\n",
      "light therapy for acne at home, light therapy for acne scarring, light therapy for acne rosacea, light therapy for acne during pregnancy, light therapy for acne walmart, light therapy for acne side effects, light therapy for acne, light therapy for acne treatment, blue light therapy for acne,5,30], light therapy for acne and wrinkles, light therapy for acne london, light therapy (medical treatment), treatment, skin, skincare, light therapy for acne, acne skincare review,\n",
      "\n",
      "#light therapy for acne\n",
      "#blue light therapy for acne reviews\n",
      "#light therapy for acne reviews\n",
      "#phototherapy acne\n",
      "#light therapy for acne walmart\n",
      "#light therapy for acne scars\n",
      "#red light therapy for acne scars\n",
      "#light therapy for acne and wrinkles\n",
      "#light therapy for acne rosacea\n",
      "\n",
      "light therapy for acne at home, light therapy for acne scarring, light therapy for acne rosacea, light therapy for acne during pregnancy, light therapy for acne walmart, light therapy for acne side effects, light therapy for acne, light therapy for acne treatment, blue light therapy for acne,5,30], light therapy for acne and wrinkles, light therapy for acne london, light therapy (medical treatment), treatment, skin, skincare, light therapy for acne, acne skincare review\n",
      "\n",
      "Treating Acne with Blue LightÿTherapy raodermatology.com/treating-acne-? pic.twitter.com/tX82u81oVC\n",
      "\n",
      "Why acne blue light therapy works. bit.ly/uA6kgn\n",
      "\n",
      ".@Refinery29 has a glowing (get it?) review of our Light Therapy Acne Mask to #LightYourWay to clear skin.\n",
      "\n",
      "RT @vBBlogDirectory: How blue light therapy can help to prevent #acne su.pr/33iIih\n",
      "\n",
      "Acne Light Therapy Treatment people.com/style/we-tried?\n",
      "\n",
      "light therapy for acne\n",
      "\n",
      "Video link: https://youtu.be/v10Jafg1Juc\n",
      "\n",
      "Acne treatments ? Certain medical procedures may help clear your skin. ... Medical procedures, such as light therapy or chemical peels, may help clear.Lumie Clear is a compact hand-held LED light therapy device clinically proven to treat mild to moderate acne. It combines blue light to attack the bacteria.\n",
      "\n",
      "Subscribe my channel: https://www.youtube.com/channel/UCCmlDv8vKa4fYqlr-MBD1bQ\n",
      "\n",
      "Facebook: \n",
      "\n",
      "Website: \n",
      "\n",
      "light therapy for acne\n",
      "\n",
      "light therapy for acne at home, light therapy for acne scarring, light therapy for acne rosacea, light therapy for acne during pregnancy, light therapy for acne walmart, light therapy for acne side effects, light therapy for acne, light therapy for acne treatment, blue light therapy for acne,5,30], light therapy for acne and wrinkles, light therapy for acne london, light therapy (medical treatment), treatment, skin, skincare, light therapy for acne, acne skincare review,\n",
      "\n",
      "#light therapy for acne\n",
      "\n",
      "#blue light therapy for acne reviews\n",
      "#light therapy for acne reviews\n",
      "#phototherapy acne\n",
      "#light therapy for acne walmart\n",
      "#light therapy for acne scars\n",
      "#red light therapy for acne scars\n",
      "#light therapy for acne and wrinkles\n",
      "#light therapy for acne rosacea\n",
      "\n"
     ]
    }
   ],
   "source": [
    "for i in df_bow[df_bow['assign']==9]['original_text'].sample(10):\n",
    "    print(i+'\\n')"
   ]
  },
  {
   "cell_type": "markdown",
   "metadata": {},
   "source": [
    "** Looks like most of them are actually are ads!!! **"
   ]
  },
  {
   "cell_type": "code",
   "execution_count": null,
   "metadata": {
    "collapsed": true
   },
   "outputs": [],
   "source": []
  },
  {
   "cell_type": "markdown",
   "metadata": {},
   "source": [
    "** The model is confident in topic assignment over 80% of the time.**"
   ]
  },
  {
   "cell_type": "code",
   "execution_count": 37,
   "metadata": {
    "collapsed": false
   },
   "outputs": [
    {
     "data": {
      "text/plain": [
       "<matplotlib.axes._subplots.AxesSubplot at 0xe77d330>"
      ]
     },
     "execution_count": 37,
     "metadata": {},
     "output_type": "execute_result"
    },
    {
     "data": {
      "image/png": "[encoded data removed]",
      "text/plain": [
       "<matplotlib.figure.Figure at 0xe7358d0>"
      ]
     },
     "metadata": {},
     "output_type": "display_data"
    }
   ],
   "source": [
    "df_bow['conf_score'].hist()"
   ]
  },
  {
   "cell_type": "markdown",
   "metadata": {},
   "source": [
    "** check records the model not sure of assignment :**"
   ]
  },
  {
   "cell_type": "code",
   "execution_count": 41,
   "metadata": {
    "collapsed": false
   },
   "outputs": [
    {
     "data": {
      "text/html": [
       "<div>\n",
       "<table border=\"1\" class=\"dataframe\">\n",
       "  <thead>\n",
       "    <tr style=\"text-align: right;\">\n",
       "      <th></th>\n",
       "      <th>bow</th>\n",
       "      <th>original_text</th>\n",
       "    </tr>\n",
       "  </thead>\n",
       "  <tbody>\n",
       "    <tr>\n",
       "      <th>3</th>\n",
       "      <td>[may, face, lotion, lite, review, two, favorit...</td>\n",
       "      <td>Sunday, May 1, 2016\\n\\nGlyDerm Face Lotion Lit...</td>\n",
       "    </tr>\n",
       "    <tr>\n",
       "      <th>11</th>\n",
       "      <td>[intranasal, infrared, heal, naturally]</td>\n",
       "      <td>$499 VieLight Intranasal Light Therapy 810 Inf...</td>\n",
       "    </tr>\n",
       "    <tr>\n",
       "      <th>31</th>\n",
       "      <td>[skincare, issue, care]</td>\n",
       "      <td>have any #skincare issues? #olivegold03 and li...</td>\n",
       "    </tr>\n",
       "    <tr>\n",
       "      <th>48</th>\n",
       "      <td>[health, acne, new, blue, color, skincare, acn...</td>\n",
       "      <td>RT @WXU_DEZ_025: #Health #Acne sherif.ws/acne/...</td>\n",
       "    </tr>\n",
       "    <tr>\n",
       "      <th>66</th>\n",
       "      <td>[added, video, hair, mask, acne, lip, smacker]</td>\n",
       "      <td>I added a video to a @YouTube playlist youtu.b...</td>\n",
       "    </tr>\n",
       "    <tr>\n",
       "      <th>74</th>\n",
       "      <td>[talking, away, winter, blue, posted, biologic...</td>\n",
       "      <td>Talking away the winter blues\\n\\nPosted by Bre...</td>\n",
       "    </tr>\n",
       "    <tr>\n",
       "      <th>103</th>\n",
       "      <td>[attention, new, led, available, come, get, st]</td>\n",
       "      <td>Attention! New LED light therapy now available...</td>\n",
       "    </tr>\n",
       "    <tr>\n",
       "      <th>111</th>\n",
       "      <td>[looking, device, help, shoulder, recover, sur...</td>\n",
       "      <td>While looking for a NIR light therapy device t...</td>\n",
       "    </tr>\n",
       "    <tr>\n",
       "      <th>112</th>\n",
       "      <td>[also, wonder]</td>\n",
       "      <td>Light therapy also does wonders! Led-mask.com</td>\n",
       "    </tr>\n",
       "    <tr>\n",
       "      <th>154</th>\n",
       "      <td>[love, led, face, mask, natural, suit, type, p...</td>\n",
       "      <td>Kourtney Kardashian loves the LED Face Mask.. ...</td>\n",
       "    </tr>\n",
       "    <tr>\n",
       "      <th>162</th>\n",
       "      <td>[]</td>\n",
       "      <td>RT @vBBlogDirectory: What is #Rosacea? therali...</td>\n",
       "    </tr>\n",
       "    <tr>\n",
       "      <th>166</th>\n",
       "      <td>[hello, beautiful, say, acne, blue, green]</td>\n",
       "      <td>Hello beautiful skin! Say bye-bye acne! Blue a...</td>\n",
       "    </tr>\n",
       "    <tr>\n",
       "      <th>182</th>\n",
       "      <td>[twitter, alternative, beautiful, beauty, blue...</td>\n",
       "      <td>Facebook | Instagram | Twitter\\n\\n#d800 #lucaf...</td>\n",
       "    </tr>\n",
       "    <tr>\n",
       "      <th>183</th>\n",
       "      <td>[department, pediatric, dermatology, woman, ho...</td>\n",
       "      <td>The Department of Pediatric Dermatology at Wom...</td>\n",
       "    </tr>\n",
       "    <tr>\n",
       "      <th>199</th>\n",
       "      <td>[tip, taking, care, mask, available, rite, aid]</td>\n",
       "      <td>Tips for Taking Care of Your Skin + Neutrogena...</td>\n",
       "    </tr>\n",
       "    <tr>\n",
       "      <th>204</th>\n",
       "      <td>[ready, little, led, thank, led, skincare]</td>\n",
       "      <td>Who is ready for a little LED Light Therapy? Y...</td>\n",
       "    </tr>\n",
       "    <tr>\n",
       "      <th>208</th>\n",
       "      <td>[face, treatment, value]</td>\n",
       "      <td>IPL-e-light Photofacial, Face &amp; Neck-Three Tre...</td>\n",
       "    </tr>\n",
       "    <tr>\n",
       "      <th>220</th>\n",
       "      <td>[us, led, rejuvenation, acne, get, acne, blue]</td>\n",
       "      <td>RT @DianeNivern: Madonna uses LED light therap...</td>\n",
       "    </tr>\n",
       "    <tr>\n",
       "      <th>235</th>\n",
       "      <td>[new, mask, photography]</td>\n",
       "      <td>New #DarthVader Instagram by @y.meys // #starw...</td>\n",
       "    </tr>\n",
       "    <tr>\n",
       "      <th>251</th>\n",
       "      <td>[fall, love, led]</td>\n",
       "      <td>Fall in Love with your Skin with a MicoCurrent...</td>\n",
       "    </tr>\n",
       "    <tr>\n",
       "      <th>263</th>\n",
       "      <td>[clear, complexion, something, many, people, w...</td>\n",
       "      <td>A clear complexion is something many people wa...</td>\n",
       "    </tr>\n",
       "    <tr>\n",
       "      <th>273</th>\n",
       "      <td>[led, mask, course, winchester]</td>\n",
       "      <td>LED FACIAL MASK COURSE: Hampshire (nr Winchest...</td>\n",
       "    </tr>\n",
       "    <tr>\n",
       "      <th>278</th>\n",
       "      <td>[led, technology, ii, used, rejuvenation, pain...</td>\n",
       "      <td>Amazon-US: http://podopia.space/slus/2/com/B01...</td>\n",
       "    </tr>\n",
       "    <tr>\n",
       "      <th>289</th>\n",
       "      <td>[led, safest, effective, care]</td>\n",
       "      <td>RT @elpzo: #LED light therapy is the safest an...</td>\n",
       "    </tr>\n",
       "    <tr>\n",
       "      <th>303</th>\n",
       "      <td>[struggling, acne, try, led, blue, beneficial,...</td>\n",
       "      <td>#TreatmentThursday: Struggling with acne?\\n\\nT...</td>\n",
       "    </tr>\n",
       "    <tr>\n",
       "      <th>304</th>\n",
       "      <td>[client, literally, wait, get, home, try, new,...</td>\n",
       "      <td>Client, literally couldn't wait to get home an...</td>\n",
       "    </tr>\n",
       "    <tr>\n",
       "      <th>312</th>\n",
       "      <td>[led, best, home]</td>\n",
       "      <td>LED light Therapy is THE best at home skin tre...</td>\n",
       "    </tr>\n",
       "    <tr>\n",
       "      <th>326</th>\n",
       "      <td>[acne, professional, blue, new, full, size, li...</td>\n",
       "      <td>Lightstim FOR Acne Professional Blue Light The...</td>\n",
       "    </tr>\n",
       "    <tr>\n",
       "      <th>362</th>\n",
       "      <td>[stretch, mark, stretch, mark, stria, common, ...</td>\n",
       "      <td>Carboxy For Stretch Marks\\n\\nStretch marks or ...</td>\n",
       "    </tr>\n",
       "    <tr>\n",
       "      <th>371</th>\n",
       "      <td>[red, rejuvenation, visit, website, info]</td>\n",
       "      <td>Red Light Therapy Skin Rejuvenation\\n?????????...</td>\n",
       "    </tr>\n",
       "    <tr>\n",
       "      <th>...</th>\n",
       "      <td>...</td>\n",
       "      <td>...</td>\n",
       "    </tr>\n",
       "    <tr>\n",
       "      <th>7800</th>\n",
       "      <td>[treatment, provide, safe, reliable, many, con...</td>\n",
       "      <td>RT @MidwestLaserCen: #IPL treatments provide s...</td>\n",
       "    </tr>\n",
       "    <tr>\n",
       "      <th>7803</th>\n",
       "      <td>[new, galvanic, ultrasonic, ion, photon, vibra...</td>\n",
       "      <td>New Galvanic Ultrasonic Ion Photon Light Thera...</td>\n",
       "    </tr>\n",
       "    <tr>\n",
       "      <th>7809</th>\n",
       "      <td>[]</td>\n",
       "      <td>RT @vBBlogDirectory: What is #Rosacea? therali...</td>\n",
       "    </tr>\n",
       "    <tr>\n",
       "      <th>7815</th>\n",
       "      <td>[]</td>\n",
       "      <td>What is #Rosacea? theralightinc.com/light-ther...</td>\n",
       "    </tr>\n",
       "    <tr>\n",
       "      <th>7818</th>\n",
       "      <td>[oh, meant, eczema, apparently, thats, suppose...</td>\n",
       "      <td>@AntSac76 oh no I meant that light therapy the...</td>\n",
       "    </tr>\n",
       "    <tr>\n",
       "      <th>7822</th>\n",
       "      <td>[skincare, benefit, violet, via]</td>\n",
       "      <td>RT @KimHeadlee: Skincare Benefits of Violet Li...</td>\n",
       "    </tr>\n",
       "    <tr>\n",
       "      <th>7824</th>\n",
       "      <td>[natural, cure, psoriasis, employed, harmony, ...</td>\n",
       "      <td>Natural cures for psoriasis be employed in har...</td>\n",
       "    </tr>\n",
       "    <tr>\n",
       "      <th>7845</th>\n",
       "      <td>[trophy, red, device, safe, effective, led, an...</td>\n",
       "      <td>RejuvaliteMD by Trophy Skin. Red Light Therapy...</td>\n",
       "    </tr>\n",
       "    <tr>\n",
       "      <th>7847</th>\n",
       "      <td>[mask, treat, eczema]</td>\n",
       "      <td>10 Skin issues/conditions that the AgeVantage ...</td>\n",
       "    </tr>\n",
       "    <tr>\n",
       "      <th>7852</th>\n",
       "      <td>[workout, red, beauty, angel, total, body]</td>\n",
       "      <td>#Tuesday #workout solardimensions  Brookhaven ...</td>\n",
       "    </tr>\n",
       "    <tr>\n",
       "      <th>7876</th>\n",
       "      <td>[infrared, led, rejuvenation, remove, acne]</td>\n",
       "      <td>Infrared Anti-Aging LED Light Therapy Skin Rej...</td>\n",
       "    </tr>\n",
       "    <tr>\n",
       "      <th>7877</th>\n",
       "      <td>[baby, quasar, plus, extra, powerful, red, dev...</td>\n",
       "      <td>Baby Quasar PLUS is an extra powerful red ligh...</td>\n",
       "    </tr>\n",
       "    <tr>\n",
       "      <th>7878</th>\n",
       "      <td>[get, k, per, hour, cash, per, hour, k, per, h...</td>\n",
       "      <td>I get about 350k per hour at prif and about 1-...</td>\n",
       "    </tr>\n",
       "    <tr>\n",
       "      <th>7880</th>\n",
       "      <td>[trying, awesome, new, available]</td>\n",
       "      <td>@vylamm trying out our awesome new @celluma_le...</td>\n",
       "    </tr>\n",
       "    <tr>\n",
       "      <th>7882</th>\n",
       "      <td>[today, marvelous, day, first, first, preparat...</td>\n",
       "      <td>Today was a marvelous day of firsts. First @_o...</td>\n",
       "    </tr>\n",
       "    <tr>\n",
       "      <th>7884</th>\n",
       "      <td>[absolutely, fabulous, day, spent, walk, direc...</td>\n",
       "      <td>Absolutely fabulous day spent in Huntington LI...</td>\n",
       "    </tr>\n",
       "    <tr>\n",
       "      <th>7893</th>\n",
       "      <td>[blue, acne, laser, pen, soft, scar, wrinkle, ...</td>\n",
       "      <td>Blue Light Therapy Acne Laser Pen Soft Scar Wr...</td>\n",
       "    </tr>\n",
       "    <tr>\n",
       "      <th>7897</th>\n",
       "      <td>[beauty, device, sale, remain, flat, due, stru...</td>\n",
       "      <td>\"Beauty device sales remain flat due to a stru...</td>\n",
       "    </tr>\n",
       "    <tr>\n",
       "      <th>7900</th>\n",
       "      <td>[jet, lag, fun, known, medical, community, con...</td>\n",
       "      <td>Jet lag is not fun. \\nKnown by the medical com...</td>\n",
       "    </tr>\n",
       "    <tr>\n",
       "      <th>7909</th>\n",
       "      <td>[blue, best, known, acne, confident, summer]</td>\n",
       "      <td>Blue Light Therapy is the best known light tre...</td>\n",
       "    </tr>\n",
       "    <tr>\n",
       "      <th>7927</th>\n",
       "      <td>[sprint, trial, data, find, aggressive, led, s...</td>\n",
       "      <td>#SPRINT trial data in @NEJM finds aggressive t...</td>\n",
       "    </tr>\n",
       "    <tr>\n",
       "      <th>7932</th>\n",
       "      <td>[body, creator, collection, box, due, arcade, ...</td>\n",
       "      <td>AO\\n\\nbarberyumyum\\n\\nBody Lunguage SLC\\n\\nCRE...</td>\n",
       "    </tr>\n",
       "    <tr>\n",
       "      <th>7943</th>\n",
       "      <td>[]</td>\n",
       "      <td>RT @vBBlogDirectory: What is #Rosacea? therali...</td>\n",
       "    </tr>\n",
       "    <tr>\n",
       "      <th>7948</th>\n",
       "      <td>[]</td>\n",
       "      <td>What Is Anti-Ageing Omnilux Light Therapy For ...</td>\n",
       "    </tr>\n",
       "    <tr>\n",
       "      <th>7950</th>\n",
       "      <td>[led, mask, effect, led, main, kill, bacteria,...</td>\n",
       "      <td>led mask \\nEffects of led facial main\\nKill ba...</td>\n",
       "    </tr>\n",
       "    <tr>\n",
       "      <th>7955</th>\n",
       "      <td>[win, clear, unit, worth]</td>\n",
       "      <td>RT @AttachmentMumma: Win a Lumie Clear Skin Li...</td>\n",
       "    </tr>\n",
       "    <tr>\n",
       "      <th>7966</th>\n",
       "      <td>[gadget, range, drone, mirror, make, one, morn...</td>\n",
       "      <td>These June 2016 gadgets range from fire-starti...</td>\n",
       "    </tr>\n",
       "    <tr>\n",
       "      <th>7971</th>\n",
       "      <td>[developed, device, reduce, fatigue, cancer, p...</td>\n",
       "      <td>RT @StanfordMedX: Larry Pederson (@litebook) h...</td>\n",
       "    </tr>\n",
       "    <tr>\n",
       "      <th>7979</th>\n",
       "      <td>[vein, using, dramatic, difference]</td>\n",
       "      <td>Facial  vein treatment using IPL Photofacial, ...</td>\n",
       "    </tr>\n",
       "    <tr>\n",
       "      <th>7992</th>\n",
       "      <td>[avoiding, estrogen, led, death, nearly, woman...</td>\n",
       "      <td>Avoiding estrogen therapy led to deaths of nea...</td>\n",
       "    </tr>\n",
       "  </tbody>\n",
       "</table>\n",
       "<p>1054 rows × 2 columns</p>\n",
       "</div>"
      ],
      "text/plain": [
       "                                                    bow  \\\n",
       "3     [may, face, lotion, lite, review, two, favorit...   \n",
       "11              [intranasal, infrared, heal, naturally]   \n",
       "31                              [skincare, issue, care]   \n",
       "48    [health, acne, new, blue, color, skincare, acn...   \n",
       "66       [added, video, hair, mask, acne, lip, smacker]   \n",
       "74    [talking, away, winter, blue, posted, biologic...   \n",
       "103     [attention, new, led, available, come, get, st]   \n",
       "111   [looking, device, help, shoulder, recover, sur...   \n",
       "112                                      [also, wonder]   \n",
       "154   [love, led, face, mask, natural, suit, type, p...   \n",
       "162                                                  []   \n",
       "166          [hello, beautiful, say, acne, blue, green]   \n",
       "182   [twitter, alternative, beautiful, beauty, blue...   \n",
       "183   [department, pediatric, dermatology, woman, ho...   \n",
       "199     [tip, taking, care, mask, available, rite, aid]   \n",
       "204          [ready, little, led, thank, led, skincare]   \n",
       "208                            [face, treatment, value]   \n",
       "220      [us, led, rejuvenation, acne, get, acne, blue]   \n",
       "235                            [new, mask, photography]   \n",
       "251                                   [fall, love, led]   \n",
       "263   [clear, complexion, something, many, people, w...   \n",
       "273                     [led, mask, course, winchester]   \n",
       "278   [led, technology, ii, used, rejuvenation, pain...   \n",
       "289                      [led, safest, effective, care]   \n",
       "303   [struggling, acne, try, led, blue, beneficial,...   \n",
       "304   [client, literally, wait, get, home, try, new,...   \n",
       "312                                   [led, best, home]   \n",
       "326   [acne, professional, blue, new, full, size, li...   \n",
       "362   [stretch, mark, stretch, mark, stria, common, ...   \n",
       "371           [red, rejuvenation, visit, website, info]   \n",
       "...                                                 ...   \n",
       "7800  [treatment, provide, safe, reliable, many, con...   \n",
       "7803  [new, galvanic, ultrasonic, ion, photon, vibra...   \n",
       "7809                                                 []   \n",
       "7815                                                 []   \n",
       "7818  [oh, meant, eczema, apparently, thats, suppose...   \n",
       "7822                   [skincare, benefit, violet, via]   \n",
       "7824  [natural, cure, psoriasis, employed, harmony, ...   \n",
       "7845  [trophy, red, device, safe, effective, led, an...   \n",
       "7847                              [mask, treat, eczema]   \n",
       "7852         [workout, red, beauty, angel, total, body]   \n",
       "7876        [infrared, led, rejuvenation, remove, acne]   \n",
       "7877  [baby, quasar, plus, extra, powerful, red, dev...   \n",
       "7878  [get, k, per, hour, cash, per, hour, k, per, h...   \n",
       "7880                  [trying, awesome, new, available]   \n",
       "7882  [today, marvelous, day, first, first, preparat...   \n",
       "7884  [absolutely, fabulous, day, spent, walk, direc...   \n",
       "7893  [blue, acne, laser, pen, soft, scar, wrinkle, ...   \n",
       "7897  [beauty, device, sale, remain, flat, due, stru...   \n",
       "7900  [jet, lag, fun, known, medical, community, con...   \n",
       "7909       [blue, best, known, acne, confident, summer]   \n",
       "7927  [sprint, trial, data, find, aggressive, led, s...   \n",
       "7932  [body, creator, collection, box, due, arcade, ...   \n",
       "7943                                                 []   \n",
       "7948                                                 []   \n",
       "7950  [led, mask, effect, led, main, kill, bacteria,...   \n",
       "7955                          [win, clear, unit, worth]   \n",
       "7966  [gadget, range, drone, mirror, make, one, morn...   \n",
       "7971  [developed, device, reduce, fatigue, cancer, p...   \n",
       "7979                [vein, using, dramatic, difference]   \n",
       "7992  [avoiding, estrogen, led, death, nearly, woman...   \n",
       "\n",
       "                                          original_text  \n",
       "3     Sunday, May 1, 2016\\n\\nGlyDerm Face Lotion Lit...  \n",
       "11    $499 VieLight Intranasal Light Therapy 810 Inf...  \n",
       "31    have any #skincare issues? #olivegold03 and li...  \n",
       "48    RT @WXU_DEZ_025: #Health #Acne sherif.ws/acne/...  \n",
       "66    I added a video to a @YouTube playlist youtu.b...  \n",
       "74    Talking away the winter blues\\n\\nPosted by Bre...  \n",
       "103   Attention! New LED light therapy now available...  \n",
       "111   While looking for a NIR light therapy device t...  \n",
       "112       Light therapy also does wonders! Led-mask.com  \n",
       "154   Kourtney Kardashian loves the LED Face Mask.. ...  \n",
       "162   RT @vBBlogDirectory: What is #Rosacea? therali...  \n",
       "166   Hello beautiful skin! Say bye-bye acne! Blue a...  \n",
       "182   Facebook | Instagram | Twitter\\n\\n#d800 #lucaf...  \n",
       "183   The Department of Pediatric Dermatology at Wom...  \n",
       "199   Tips for Taking Care of Your Skin + Neutrogena...  \n",
       "204   Who is ready for a little LED Light Therapy? Y...  \n",
       "208   IPL-e-light Photofacial, Face & Neck-Three Tre...  \n",
       "220   RT @DianeNivern: Madonna uses LED light therap...  \n",
       "235   New #DarthVader Instagram by @y.meys // #starw...  \n",
       "251   Fall in Love with your Skin with a MicoCurrent...  \n",
       "263   A clear complexion is something many people wa...  \n",
       "273   LED FACIAL MASK COURSE: Hampshire (nr Winchest...  \n",
       "278   Amazon-US: http://podopia.space/slus/2/com/B01...  \n",
       "289   RT @elpzo: #LED light therapy is the safest an...  \n",
       "303   #TreatmentThursday: Struggling with acne?\\n\\nT...  \n",
       "304   Client, literally couldn't wait to get home an...  \n",
       "312   LED light Therapy is THE best at home skin tre...  \n",
       "326   Lightstim FOR Acne Professional Blue Light The...  \n",
       "362   Carboxy For Stretch Marks\\n\\nStretch marks or ...  \n",
       "371   Red Light Therapy Skin Rejuvenation\\n?????????...  \n",
       "...                                                 ...  \n",
       "7800  RT @MidwestLaserCen: #IPL treatments provide s...  \n",
       "7803  New Galvanic Ultrasonic Ion Photon Light Thera...  \n",
       "7809  RT @vBBlogDirectory: What is #Rosacea? therali...  \n",
       "7815  What is #Rosacea? theralightinc.com/light-ther...  \n",
       "7818  @AntSac76 oh no I meant that light therapy the...  \n",
       "7822  RT @KimHeadlee: Skincare Benefits of Violet Li...  \n",
       "7824  Natural cures for psoriasis be employed in har...  \n",
       "7845  RejuvaliteMD by Trophy Skin. Red Light Therapy...  \n",
       "7847  10 Skin issues/conditions that the AgeVantage ...  \n",
       "7852  #Tuesday #workout solardimensions  Brookhaven ...  \n",
       "7876  Infrared Anti-Aging LED Light Therapy Skin Rej...  \n",
       "7877  Baby Quasar PLUS is an extra powerful red ligh...  \n",
       "7878  I get about 350k per hour at prif and about 1-...  \n",
       "7880  @vylamm trying out our awesome new @celluma_le...  \n",
       "7882  Today was a marvelous day of firsts. First @_o...  \n",
       "7884  Absolutely fabulous day spent in Huntington LI...  \n",
       "7893  Blue Light Therapy Acne Laser Pen Soft Scar Wr...  \n",
       "7897  \"Beauty device sales remain flat due to a stru...  \n",
       "7900  Jet lag is not fun. \\nKnown by the medical com...  \n",
       "7909  Blue Light Therapy is the best known light tre...  \n",
       "7927  #SPRINT trial data in @NEJM finds aggressive t...  \n",
       "7932  AO\\n\\nbarberyumyum\\n\\nBody Lunguage SLC\\n\\nCRE...  \n",
       "7943  RT @vBBlogDirectory: What is #Rosacea? therali...  \n",
       "7948  What Is Anti-Ageing Omnilux Light Therapy For ...  \n",
       "7950  led mask \\nEffects of led facial main\\nKill ba...  \n",
       "7955  RT @AttachmentMumma: Win a Lumie Clear Skin Li...  \n",
       "7966  These June 2016 gadgets range from fire-starti...  \n",
       "7971  RT @StanfordMedX: Larry Pederson (@litebook) h...  \n",
       "7979  Facial  vein treatment using IPL Photofacial, ...  \n",
       "7992  Avoiding estrogen therapy led to deaths of nea...  \n",
       "\n",
       "[1054 rows x 2 columns]"
      ]
     },
     "execution_count": 41,
     "metadata": {},
     "output_type": "execute_result"
    }
   ],
   "source": [
    "df_bow[df_bow['conf_score']<0.5][['bow','original_text']]"
   ]
  },
  {
   "cell_type": "code",
   "execution_count": null,
   "metadata": {
    "collapsed": true
   },
   "outputs": [],
   "source": []
  },
  {
   "cell_type": "code",
   "execution_count": null,
   "metadata": {
    "collapsed": true
   },
   "outputs": [],
   "source": []
  },
  {
   "cell_type": "markdown",
   "metadata": {
    "collapsed": true
   },
   "source": [
    "### Now we try to use TFIDF"
   ]
  },
  {
   "cell_type": "code",
   "execution_count": 59,
   "metadata": {
    "collapsed": false
   },
   "outputs": [
    {
     "data": {
      "text/plain": [
       "[(0,\n",
       "  '0.016*\"led\" + 0.013*\"ultrasonic\" + 0.012*\"home\" + 0.011*\"galvanic\" + 0.009*\"plus\" + 0.009*\"nutrition\" + 0.009*\"sun\" + 0.009*\"damage\" + 0.008*\"million\" + 0.008*\"affect\" + 0.007*\"according\" + 0.007*\"estimated\" + 0.007*\"disorder\" + 0.007*\"treatment\" + 0.006*\"lifting\"'),\n",
       " (1,\n",
       "  '0.098*\"technology\" + 0.098*\"energy\" + 0.098*\"panel\" + 0.098*\"stop\" + 0.098*\"brighten\" + 0.098*\"news\" + 0.098*\"winter\" + 0.098*\"environment\" + 0.098*\"bus\" + 0.009*\"acne\" + 0.006*\"blue\" + 0.004*\"led\" + 0.003*\"red\" + 0.003*\"sun\" + 0.003*\"new\"'),\n",
       " (2,\n",
       "  '0.033*\"led\" + 0.022*\"skincare\" + 0.019*\"min\" + 0.017*\"acne\" + 0.016*\"high\" + 0.016*\"like\" + 0.016*\"intensity\" + 0.016*\"ultrasound\" + 0.015*\"focused\" + 0.014*\"look\" + 0.014*\"ultrasonic\" + 0.014*\"spa\" + 0.013*\"wrinkle\" + 0.013*\"stuff\" + 0.012*\"machine\"'),\n",
       " (3,\n",
       "  '0.015*\"work\" + 0.015*\"new\" + 0.011*\"way\" + 0.011*\"dermatology\" + 0.011*\"added\" + 0.011*\"people\" + 0.011*\"problem\" + 0.011*\"many\" + 0.010*\"even\" + 0.009*\"aging\" + 0.008*\"may\" + 0.008*\"related\" + 0.008*\"video\" + 0.007*\"cheek\" + 0.007*\"probably\"'),\n",
       " (4,\n",
       "  '0.033*\"red\" + 0.031*\"anti\" + 0.024*\"led\" + 0.020*\"care\" + 0.018*\"aging\" + 0.017*\"issue\" + 0.017*\"cause\" + 0.017*\"skincare\" + 0.014*\"cell\" + 0.014*\"green\" + 0.013*\"step\" + 0.013*\"remedy\" + 0.011*\"wavelength\" + 0.011*\"complexion\" + 0.011*\"revive\"'),\n",
       " (5,\n",
       "  '0.022*\"violet\" + 0.018*\"skincare\" + 0.017*\"benefit\" + 0.012*\"cosmetic\" + 0.012*\"beauty\" + 0.009*\"wrinkle\" + 0.009*\"face\" + 0.009*\"laser\" + 0.008*\"natural\" + 0.008*\"sleep\" + 0.006*\"right\" + 0.006*\"like\" + 0.006*\"anti\" + 0.006*\"study\" + 0.006*\"skin\"'),\n",
       " (6,\n",
       "  '0.066*\"led\" + 0.039*\"photon\" + 0.030*\"rejuvenation\" + 0.029*\"beauty\" + 0.021*\"psoriasis\" + 0.020*\"mask\" + 0.017*\"used\" + 0.017*\"system\" + 0.015*\"condition\" + 0.014*\"care\" + 0.013*\"treat\" + 0.012*\"color\" + 0.012*\"machine\" + 0.010*\"serious\" + 0.009*\"ultrasound\"'),\n",
       " (7,\n",
       "  '0.032*\"skincare\" + 0.031*\"led\" + 0.022*\"think\" + 0.016*\"system\" + 0.014*\"got\" + 0.013*\"relief\" + 0.012*\"pain\" + 0.012*\"quality\" + 0.012*\"perhaps\" + 0.011*\"via\" + 0.011*\"mask\" + 0.010*\"care\" + 0.007*\"intensity\" + 0.007*\"matter\" + 0.007*\"new\"'),\n",
       " (8,\n",
       "  '0.055*\"led\" + 0.049*\"mask\" + 0.041*\"acne\" + 0.034*\"new\" + 0.024*\"red\" + 0.019*\"blue\" + 0.018*\"rejuvenation\" + 0.017*\"beauty\" + 0.016*\"color\" + 0.014*\"photon\" + 0.013*\"face\" + 0.012*\"skincare\" + 0.011*\"wrinkle\" + 0.008*\"device\" + 0.008*\"improves\"'),\n",
       " (9,\n",
       "  '0.095*\"acne\" + 0.027*\"blue\" + 0.026*\"mask\" + 0.025*\"led\" + 0.016*\"day\" + 0.016*\"skincare\" + 0.015*\"wrinkle\" + 0.015*\"spot\" + 0.013*\"exciting\" + 0.013*\"complete\" + 0.013*\"launching\" + 0.012*\"treat\" + 0.010*\"system\" + 0.010*\"salon\" + 0.010*\"work\"')]"
      ]
     },
     "execution_count": 59,
     "metadata": {},
     "output_type": "execute_result"
    }
   ],
   "source": [
    "tfidf = models.TfidfModel(corpus)\n",
    "corpus_tfidf = tfidf[corpus]\n",
    "num_topics = 10\n",
    "lda_tfidf = LdaModel(corpus_tfidf, id2word=dictionary, num_topics=num_topics)\n",
    "lda.show_topics(num_topics,15)"
   ]
  },
  {
   "cell_type": "code",
   "execution_count": 60,
   "metadata": {
    "collapsed": true
   },
   "outputs": [],
   "source": [
    "assign = []\n",
    "for i in range(len(corpus_tfidf)):\n",
    "    assign.append(sorted(lda_tfidf[corpus_tfidf[i]],key = lambda x:x[1],reverse = True)[0][0])\n",
    "conf_score = []\n",
    "for i in range(len(corpus_tfidf)):\n",
    "    conf_score.append(sorted(lda[corpus_tfidf[i]],key = lambda x:x[1],reverse = True)[0][1])"
   ]
  },
  {
   "cell_type": "code",
   "execution_count": 61,
   "metadata": {
    "collapsed": true
   },
   "outputs": [],
   "source": [
    "df_tfidf = pd.DataFrame({'original_text':content.content.values,\n",
    "             'corpus':corpus,\n",
    "            'assign':assign,\n",
    "            'conf_score':conf_score,\n",
    "                      'bow':cleaned_list})"
   ]
  },
  {
   "cell_type": "markdown",
   "metadata": {},
   "source": [
    "** the model is less confident: **"
   ]
  },
  {
   "cell_type": "code",
   "execution_count": 62,
   "metadata": {
    "collapsed": false
   },
   "outputs": [
    {
     "data": {
      "text/plain": [
       "<matplotlib.axes._subplots.AxesSubplot at 0xf94a50>"
      ]
     },
     "execution_count": 62,
     "metadata": {},
     "output_type": "execute_result"
    },
    {
     "data": {
      "image/png": "[encoded data removed]",
      "text/plain": [
       "<matplotlib.figure.Figure at 0xf940f0>"
      ]
     },
     "metadata": {},
     "output_type": "display_data"
    }
   ],
   "source": [
    "df_tfidf['conf_score'].hist()"
   ]
  },
  {
   "cell_type": "markdown",
   "metadata": {},
   "source": [
    "** assignment is more evenly distributed: **"
   ]
  },
  {
   "cell_type": "code",
   "execution_count": 63,
   "metadata": {
    "collapsed": false
   },
   "outputs": [
    {
     "data": {
      "text/plain": [
       "<matplotlib.figure.Figure at 0xea94630>"
      ]
     },
     "execution_count": 63,
     "metadata": {},
     "output_type": "execute_result"
    },
    {
     "data": {
      "image/png": "[encoded data removed]",
      "text/plain": [
       "<matplotlib.figure.Figure at 0xea94f90>"
      ]
     },
     "metadata": {},
     "output_type": "display_data"
    },
    {
     "data": {
      "text/plain": [
       "<matplotlib.figure.Figure at 0xea94630>"
      ]
     },
     "metadata": {},
     "output_type": "display_data"
    }
   ],
   "source": [
    "df_tfidf.groupby('assign').count()['original_text'].plot(kind='pie')\n",
    "plt.title('Topic Count Ratio')\n",
    "plt.figure(figsize=(5,5))"
   ]
  },
  {
   "cell_type": "code",
   "execution_count": 23,
   "metadata": {
    "collapsed": false
   },
   "outputs": [
    {
     "data": {
      "text/html": [
       "<div>\n",
       "<table border=\"1\" class=\"dataframe\">\n",
       "  <thead>\n",
       "    <tr style=\"text-align: right;\">\n",
       "      <th></th>\n",
       "      <th>bow</th>\n",
       "      <th>original_text</th>\n",
       "    </tr>\n",
       "  </thead>\n",
       "  <tbody>\n",
       "    <tr>\n",
       "      <th>2</th>\n",
       "      <td>[spotted, new, favorite, beauty, acne, mask]</td>\n",
       "      <td>@Star_news spotted @Olivia_Holt with her new f...</td>\n",
       "    </tr>\n",
       "    <tr>\n",
       "      <th>3</th>\n",
       "      <td>[may, face, lotion, lite, review, two, favorit...</td>\n",
       "      <td>Sunday, May 1, 2016\\n\\nGlyDerm Face Lotion Lit...</td>\n",
       "    </tr>\n",
       "    <tr>\n",
       "      <th>25</th>\n",
       "      <td>[present, doc, peel, wonderful, experience]</td>\n",
       "      <td>#DmvNetworks presents\\n\\nDC Derm Docs\\nBotox, ...</td>\n",
       "    </tr>\n",
       "    <tr>\n",
       "      <th>31</th>\n",
       "      <td>[skincare, issue, care]</td>\n",
       "      <td>have any #skincare issues? #olivegold03 and li...</td>\n",
       "    </tr>\n",
       "    <tr>\n",
       "      <th>48</th>\n",
       "      <td>[health, acne, new, blue, color, skincare, acn...</td>\n",
       "      <td>RT @WXU_DEZ_025: #Health #Acne sherif.ws/acne/...</td>\n",
       "    </tr>\n",
       "    <tr>\n",
       "      <th>49</th>\n",
       "      <td>[take, control, skincare]</td>\n",
       "      <td>Take control of your #rosacea with an #IPL #Ph...</td>\n",
       "    </tr>\n",
       "    <tr>\n",
       "      <th>53</th>\n",
       "      <td>[color, led, light, photon, rejuvenation, lift...</td>\n",
       "      <td>4 Colors Led Light Therapy Lights Photon Rejuv...</td>\n",
       "    </tr>\n",
       "    <tr>\n",
       "      <th>63</th>\n",
       "      <td>[improves, appearance, application]</td>\n",
       "      <td>RT @Theralight: #Photorejuvenation improves th...</td>\n",
       "    </tr>\n",
       "    <tr>\n",
       "      <th>83</th>\n",
       "      <td>[interested, red, read, skincare]</td>\n",
       "      <td>Interested in having a Red Light Therapy?\\nRea...</td>\n",
       "    </tr>\n",
       "    <tr>\n",
       "      <th>89</th>\n",
       "      <td>[opera, led, mask, action, orchid, spa, wellne...</td>\n",
       "      <td>This is the OPERA LED facial mask in action at...</td>\n",
       "    </tr>\n",
       "    <tr>\n",
       "      <th>103</th>\n",
       "      <td>[attention, new, led, available, come, get, st]</td>\n",
       "      <td>Attention! New LED light therapy now available...</td>\n",
       "    </tr>\n",
       "    <tr>\n",
       "      <th>121</th>\n",
       "      <td>[photon, mask, led, anti, aging, led, mask]</td>\n",
       "      <td>Photon Skin Facial Mask LED Light Therapy Phot...</td>\n",
       "    </tr>\n",
       "    <tr>\n",
       "      <th>124</th>\n",
       "      <td>[diode, laser, led, helmet, hair, loss, regrow...</td>\n",
       "      <td>38 Diodes Laser LED Therapy Helmet Hair Loss R...</td>\n",
       "    </tr>\n",
       "    <tr>\n",
       "      <th>150</th>\n",
       "      <td>[detail, led, acne, removal, led]</td>\n",
       "      <td>Details:  http://cavitation-slimming.com/Beaut...</td>\n",
       "    </tr>\n",
       "    <tr>\n",
       "      <th>152</th>\n",
       "      <td>[u, want, discover, mask, helping, heal, acne,...</td>\n",
       "      <td>IF u want 2discover how @Neutrogena Light Ther...</td>\n",
       "    </tr>\n",
       "    <tr>\n",
       "      <th>154</th>\n",
       "      <td>[love, led, face, mask, natural, suit, type, p...</td>\n",
       "      <td>Kourtney Kardashian loves the LED Face Mask.. ...</td>\n",
       "    </tr>\n",
       "    <tr>\n",
       "      <th>162</th>\n",
       "      <td>[]</td>\n",
       "      <td>RT @vBBlogDirectory: What is #Rosacea? therali...</td>\n",
       "    </tr>\n",
       "    <tr>\n",
       "      <th>166</th>\n",
       "      <td>[hello, beautiful, say, acne, blue, green]</td>\n",
       "      <td>Hello beautiful skin! Say bye-bye acne! Blue a...</td>\n",
       "    </tr>\n",
       "    <tr>\n",
       "      <th>167</th>\n",
       "      <td>[also, check, acne, use, home]</td>\n",
       "      <td>@SkinCareTips3 and also check out @LustrePureL...</td>\n",
       "    </tr>\n",
       "    <tr>\n",
       "      <th>169</th>\n",
       "      <td>[maybe, wear, sunglass, shield, tender, eye, r...</td>\n",
       "      <td>@mariskreizman maybe wear sunglasses? To shiel...</td>\n",
       "    </tr>\n",
       "    <tr>\n",
       "      <th>182</th>\n",
       "      <td>[twitter, alternative, beautiful, beauty, blue...</td>\n",
       "      <td>Facebook | Instagram | Twitter\\n\\n#d800 #lucaf...</td>\n",
       "    </tr>\n",
       "    <tr>\n",
       "      <th>204</th>\n",
       "      <td>[ready, little, led, thank, led, skincare]</td>\n",
       "      <td>Who is ready for a little LED Light Therapy? Y...</td>\n",
       "    </tr>\n",
       "    <tr>\n",
       "      <th>212</th>\n",
       "      <td>[red, anti, wrinkle, acne, collagen, serum, qu...</td>\n",
       "      <td>LIGHTSTIM RED LIGHT THERAPY ANTI WRINKLES + AC...</td>\n",
       "    </tr>\n",
       "    <tr>\n",
       "      <th>217</th>\n",
       "      <td>[led, photon, mask, skincare, led]</td>\n",
       "      <td>3IN1 JMF LED Photon Facial Mask Skincare LED L...</td>\n",
       "    </tr>\n",
       "    <tr>\n",
       "      <th>231</th>\n",
       "      <td>[red, blue, panel, led, photon]</td>\n",
       "      <td>XL Red Blue Light Therapy Panel. Anti-Aging. L...</td>\n",
       "    </tr>\n",
       "    <tr>\n",
       "      <th>235</th>\n",
       "      <td>[new, mask, photography]</td>\n",
       "      <td>New #DarthVader Instagram by @y.meys // #starw...</td>\n",
       "    </tr>\n",
       "    <tr>\n",
       "      <th>242</th>\n",
       "      <td>[led, visit, facial, quality]</td>\n",
       "      <td>LED light therapy is here!!!!! Visit @QLuxSpa!...</td>\n",
       "    </tr>\n",
       "    <tr>\n",
       "      <th>250</th>\n",
       "      <td>[best, moment, ever, featured, new, acne, mask...</td>\n",
       "      <td>RT @Neutrogena: Best TV moment ever: @TheEllen...</td>\n",
       "    </tr>\n",
       "    <tr>\n",
       "      <th>252</th>\n",
       "      <td>[red, blue, led, photon, activating, wrinkle, ...</td>\n",
       "      <td>RED BLUE Anti-Aging LED Photon Light Therapy.C...</td>\n",
       "    </tr>\n",
       "    <tr>\n",
       "      <th>267</th>\n",
       "      <td>[red, blue, led, photon, activating, wrinkle, ...</td>\n",
       "      <td>RED BLUE Anti-Aging LED Photon Light Therapy.C...</td>\n",
       "    </tr>\n",
       "    <tr>\n",
       "      <th>...</th>\n",
       "      <td>...</td>\n",
       "      <td>...</td>\n",
       "    </tr>\n",
       "    <tr>\n",
       "      <th>7818</th>\n",
       "      <td>[oh, meant, eczema, apparently, thats, suppose...</td>\n",
       "      <td>@AntSac76 oh no I meant that light therapy the...</td>\n",
       "    </tr>\n",
       "    <tr>\n",
       "      <th>7821</th>\n",
       "      <td>[get, ready, summer, laser]</td>\n",
       "      <td>RT @GLClinic: Get your skin ready for summer!\\...</td>\n",
       "    </tr>\n",
       "    <tr>\n",
       "      <th>7824</th>\n",
       "      <td>[natural, cure, psoriasis, employed, harmony, ...</td>\n",
       "      <td>Natural cures for psoriasis be employed in har...</td>\n",
       "    </tr>\n",
       "    <tr>\n",
       "      <th>7826</th>\n",
       "      <td>[kick, notch, led]</td>\n",
       "      <td>Kick your facial up a notch with LED light the...</td>\n",
       "    </tr>\n",
       "    <tr>\n",
       "      <th>7830</th>\n",
       "      <td>[black, mask]</td>\n",
       "      <td>Givenchy Skin Targetters Black For Light Mask ...</td>\n",
       "    </tr>\n",
       "    <tr>\n",
       "      <th>7836</th>\n",
       "      <td>[led, help, rejuvenate, via]</td>\n",
       "      <td>LED therapy to help rejuvenate skin via @holis...</td>\n",
       "    </tr>\n",
       "    <tr>\n",
       "      <th>7842</th>\n",
       "      <td>[daylight, lamp, led, technology, genuine, new]</td>\n",
       "      <td>Beurer TL 30 Daylight Lamp Light Therapy With ...</td>\n",
       "    </tr>\n",
       "    <tr>\n",
       "      <th>7843</th>\n",
       "      <td>[trans, phantom, led, mask, perfect, needling,...</td>\n",
       "      <td>Trans Phantom LED Light Mask Treatment, perfec...</td>\n",
       "    </tr>\n",
       "    <tr>\n",
       "      <th>7845</th>\n",
       "      <td>[trophy, red, device, safe, effective, led, an...</td>\n",
       "      <td>RejuvaliteMD by Trophy Skin. Red Light Therapy...</td>\n",
       "    </tr>\n",
       "    <tr>\n",
       "      <th>7855</th>\n",
       "      <td>[sleep, mask, us, battle, jet, lag, irregular,...</td>\n",
       "      <td>RT @BotDotSleep: Sleep Mask Uses Light Therapy...</td>\n",
       "    </tr>\n",
       "    <tr>\n",
       "      <th>7866</th>\n",
       "      <td>[acne, bad, breakout, highly, suggest, red, re...</td>\n",
       "      <td>If you have acne or have a bad breakout I high...</td>\n",
       "    </tr>\n",
       "    <tr>\n",
       "      <th>7877</th>\n",
       "      <td>[baby, quasar, plus, extra, powerful, red, dev...</td>\n",
       "      <td>Baby Quasar PLUS is an extra powerful red ligh...</td>\n",
       "    </tr>\n",
       "    <tr>\n",
       "      <th>7878</th>\n",
       "      <td>[get, k, per, hour, cash, per, hour, k, per, h...</td>\n",
       "      <td>I get about 350k per hour at prif and about 1-...</td>\n",
       "    </tr>\n",
       "    <tr>\n",
       "      <th>7884</th>\n",
       "      <td>[absolutely, fabulous, day, spent, walk, direc...</td>\n",
       "      <td>Absolutely fabulous day spent in Huntington LI...</td>\n",
       "    </tr>\n",
       "    <tr>\n",
       "      <th>7886</th>\n",
       "      <td>[diamond, led, radio, frequency, tightening, n...</td>\n",
       "      <td>RT @3dlipoandskin: Diamond Microdermabrasion ?...</td>\n",
       "    </tr>\n",
       "    <tr>\n",
       "      <th>7897</th>\n",
       "      <td>[beauty, device, sale, remain, flat, due, stru...</td>\n",
       "      <td>\"Beauty device sales remain flat due to a stru...</td>\n",
       "    </tr>\n",
       "    <tr>\n",
       "      <th>7900</th>\n",
       "      <td>[jet, lag, fun, known, medical, community, con...</td>\n",
       "      <td>Jet lag is not fun. \\nKnown by the medical com...</td>\n",
       "    </tr>\n",
       "    <tr>\n",
       "      <th>7904</th>\n",
       "      <td>[color, led, photon, mask, wrinkle, removal, r...</td>\n",
       "      <td>Colors LED Photon Light Therapy Facial Mask Wr...</td>\n",
       "    </tr>\n",
       "    <tr>\n",
       "      <th>7909</th>\n",
       "      <td>[blue, best, known, acne, confident, summer]</td>\n",
       "      <td>Blue Light Therapy is the best known light tre...</td>\n",
       "    </tr>\n",
       "    <tr>\n",
       "      <th>7912</th>\n",
       "      <td>[red, blue, led, photon, activating, wrinkle, ...</td>\n",
       "      <td>RED BLUE Anti-Aging LED Photon Light Therapy.C...</td>\n",
       "    </tr>\n",
       "    <tr>\n",
       "      <th>7915</th>\n",
       "      <td>[acne, blue, review, talking, acne]</td>\n",
       "      <td>BlueMD - Acne Blue Light Therapy Treatment Rev...</td>\n",
       "    </tr>\n",
       "    <tr>\n",
       "      <th>7936</th>\n",
       "      <td>[think, important, part, article, towards, end...</td>\n",
       "      <td>I think the most important part of this articl...</td>\n",
       "    </tr>\n",
       "    <tr>\n",
       "      <th>7943</th>\n",
       "      <td>[]</td>\n",
       "      <td>RT @vBBlogDirectory: What is #Rosacea? therali...</td>\n",
       "    </tr>\n",
       "    <tr>\n",
       "      <th>7948</th>\n",
       "      <td>[]</td>\n",
       "      <td>What Is Anti-Ageing Omnilux Light Therapy For ...</td>\n",
       "    </tr>\n",
       "    <tr>\n",
       "      <th>7950</th>\n",
       "      <td>[led, mask, effect, led, main, kill, bacteria,...</td>\n",
       "      <td>led mask \\nEffects of led facial main\\nKill ba...</td>\n",
       "    </tr>\n",
       "    <tr>\n",
       "      <th>7955</th>\n",
       "      <td>[win, clear, unit, worth]</td>\n",
       "      <td>RT @AttachmentMumma: Win a Lumie Clear Skin Li...</td>\n",
       "    </tr>\n",
       "    <tr>\n",
       "      <th>7967</th>\n",
       "      <td>[star, sequel, new, acne, mask]</td>\n",
       "      <td>RT @Neutrogena: After the trick-or-treating?s ...</td>\n",
       "    </tr>\n",
       "    <tr>\n",
       "      <th>7970</th>\n",
       "      <td>[best, proven, acne, go, deeper, kill, shrink,...</td>\n",
       "      <td>Light therapy is the best proven treatment for...</td>\n",
       "    </tr>\n",
       "    <tr>\n",
       "      <th>7973</th>\n",
       "      <td>[back, facial, acne, removal, black, head, acn...</td>\n",
       "      <td>Back Facials with acne treatment and light the...</td>\n",
       "    </tr>\n",
       "    <tr>\n",
       "      <th>7989</th>\n",
       "      <td>[color, led, photon, mask, wrinkle, removal, r...</td>\n",
       "      <td>Colors LED Photon Light Therapy Facial Mask Wr...</td>\n",
       "    </tr>\n",
       "  </tbody>\n",
       "</table>\n",
       "<p>1325 rows × 2 columns</p>\n",
       "</div>"
      ],
      "text/plain": [
       "                                                    bow  \\\n",
       "2          [spotted, new, favorite, beauty, acne, mask]   \n",
       "3     [may, face, lotion, lite, review, two, favorit...   \n",
       "25          [present, doc, peel, wonderful, experience]   \n",
       "31                              [skincare, issue, care]   \n",
       "48    [health, acne, new, blue, color, skincare, acn...   \n",
       "49                            [take, control, skincare]   \n",
       "53    [color, led, light, photon, rejuvenation, lift...   \n",
       "63                  [improves, appearance, application]   \n",
       "83                    [interested, red, read, skincare]   \n",
       "89    [opera, led, mask, action, orchid, spa, wellne...   \n",
       "103     [attention, new, led, available, come, get, st]   \n",
       "121         [photon, mask, led, anti, aging, led, mask]   \n",
       "124   [diode, laser, led, helmet, hair, loss, regrow...   \n",
       "150                   [detail, led, acne, removal, led]   \n",
       "152   [u, want, discover, mask, helping, heal, acne,...   \n",
       "154   [love, led, face, mask, natural, suit, type, p...   \n",
       "162                                                  []   \n",
       "166          [hello, beautiful, say, acne, blue, green]   \n",
       "167                      [also, check, acne, use, home]   \n",
       "169   [maybe, wear, sunglass, shield, tender, eye, r...   \n",
       "182   [twitter, alternative, beautiful, beauty, blue...   \n",
       "204          [ready, little, led, thank, led, skincare]   \n",
       "212   [red, anti, wrinkle, acne, collagen, serum, qu...   \n",
       "217                  [led, photon, mask, skincare, led]   \n",
       "231                     [red, blue, panel, led, photon]   \n",
       "235                            [new, mask, photography]   \n",
       "242                       [led, visit, facial, quality]   \n",
       "250   [best, moment, ever, featured, new, acne, mask...   \n",
       "252   [red, blue, led, photon, activating, wrinkle, ...   \n",
       "267   [red, blue, led, photon, activating, wrinkle, ...   \n",
       "...                                                 ...   \n",
       "7818  [oh, meant, eczema, apparently, thats, suppose...   \n",
       "7821                        [get, ready, summer, laser]   \n",
       "7824  [natural, cure, psoriasis, employed, harmony, ...   \n",
       "7826                                 [kick, notch, led]   \n",
       "7830                                      [black, mask]   \n",
       "7836                       [led, help, rejuvenate, via]   \n",
       "7842    [daylight, lamp, led, technology, genuine, new]   \n",
       "7843  [trans, phantom, led, mask, perfect, needling,...   \n",
       "7845  [trophy, red, device, safe, effective, led, an...   \n",
       "7855  [sleep, mask, us, battle, jet, lag, irregular,...   \n",
       "7866  [acne, bad, breakout, highly, suggest, red, re...   \n",
       "7877  [baby, quasar, plus, extra, powerful, red, dev...   \n",
       "7878  [get, k, per, hour, cash, per, hour, k, per, h...   \n",
       "7884  [absolutely, fabulous, day, spent, walk, direc...   \n",
       "7886  [diamond, led, radio, frequency, tightening, n...   \n",
       "7897  [beauty, device, sale, remain, flat, due, stru...   \n",
       "7900  [jet, lag, fun, known, medical, community, con...   \n",
       "7904  [color, led, photon, mask, wrinkle, removal, r...   \n",
       "7909       [blue, best, known, acne, confident, summer]   \n",
       "7912  [red, blue, led, photon, activating, wrinkle, ...   \n",
       "7915                [acne, blue, review, talking, acne]   \n",
       "7936  [think, important, part, article, towards, end...   \n",
       "7943                                                 []   \n",
       "7948                                                 []   \n",
       "7950  [led, mask, effect, led, main, kill, bacteria,...   \n",
       "7955                          [win, clear, unit, worth]   \n",
       "7967                    [star, sequel, new, acne, mask]   \n",
       "7970  [best, proven, acne, go, deeper, kill, shrink,...   \n",
       "7973  [back, facial, acne, removal, black, head, acn...   \n",
       "7989  [color, led, photon, mask, wrinkle, removal, r...   \n",
       "\n",
       "                                          original_text  \n",
       "2     @Star_news spotted @Olivia_Holt with her new f...  \n",
       "3     Sunday, May 1, 2016\\n\\nGlyDerm Face Lotion Lit...  \n",
       "25    #DmvNetworks presents\\n\\nDC Derm Docs\\nBotox, ...  \n",
       "31    have any #skincare issues? #olivegold03 and li...  \n",
       "48    RT @WXU_DEZ_025: #Health #Acne sherif.ws/acne/...  \n",
       "49    Take control of your #rosacea with an #IPL #Ph...  \n",
       "53    4 Colors Led Light Therapy Lights Photon Rejuv...  \n",
       "63    RT @Theralight: #Photorejuvenation improves th...  \n",
       "83    Interested in having a Red Light Therapy?\\nRea...  \n",
       "89    This is the OPERA LED facial mask in action at...  \n",
       "103   Attention! New LED light therapy now available...  \n",
       "121   Photon Skin Facial Mask LED Light Therapy Phot...  \n",
       "124   38 Diodes Laser LED Therapy Helmet Hair Loss R...  \n",
       "150   Details:  http://cavitation-slimming.com/Beaut...  \n",
       "152   IF u want 2discover how @Neutrogena Light Ther...  \n",
       "154   Kourtney Kardashian loves the LED Face Mask.. ...  \n",
       "162   RT @vBBlogDirectory: What is #Rosacea? therali...  \n",
       "166   Hello beautiful skin! Say bye-bye acne! Blue a...  \n",
       "167   @SkinCareTips3 and also check out @LustrePureL...  \n",
       "169   @mariskreizman maybe wear sunglasses? To shiel...  \n",
       "182   Facebook | Instagram | Twitter\\n\\n#d800 #lucaf...  \n",
       "204   Who is ready for a little LED Light Therapy? Y...  \n",
       "212   LIGHTSTIM RED LIGHT THERAPY ANTI WRINKLES + AC...  \n",
       "217   3IN1 JMF LED Photon Facial Mask Skincare LED L...  \n",
       "231   XL Red Blue Light Therapy Panel. Anti-Aging. L...  \n",
       "235   New #DarthVader Instagram by @y.meys // #starw...  \n",
       "242   LED light therapy is here!!!!! Visit @QLuxSpa!...  \n",
       "250   RT @Neutrogena: Best TV moment ever: @TheEllen...  \n",
       "252   RED BLUE Anti-Aging LED Photon Light Therapy.C...  \n",
       "267   RED BLUE Anti-Aging LED Photon Light Therapy.C...  \n",
       "...                                                 ...  \n",
       "7818  @AntSac76 oh no I meant that light therapy the...  \n",
       "7821  RT @GLClinic: Get your skin ready for summer!\\...  \n",
       "7824  Natural cures for psoriasis be employed in har...  \n",
       "7826  Kick your facial up a notch with LED light the...  \n",
       "7830  Givenchy Skin Targetters Black For Light Mask ...  \n",
       "7836  LED therapy to help rejuvenate skin via @holis...  \n",
       "7842  Beurer TL 30 Daylight Lamp Light Therapy With ...  \n",
       "7843  Trans Phantom LED Light Mask Treatment, perfec...  \n",
       "7845  RejuvaliteMD by Trophy Skin. Red Light Therapy...  \n",
       "7855  RT @BotDotSleep: Sleep Mask Uses Light Therapy...  \n",
       "7866  If you have acne or have a bad breakout I high...  \n",
       "7877  Baby Quasar PLUS is an extra powerful red ligh...  \n",
       "7878  I get about 350k per hour at prif and about 1-...  \n",
       "7884  Absolutely fabulous day spent in Huntington LI...  \n",
       "7886  RT @3dlipoandskin: Diamond Microdermabrasion ?...  \n",
       "7897  \"Beauty device sales remain flat due to a stru...  \n",
       "7900  Jet lag is not fun. \\nKnown by the medical com...  \n",
       "7904  Colors LED Photon Light Therapy Facial Mask Wr...  \n",
       "7909  Blue Light Therapy is the best known light tre...  \n",
       "7912  RED BLUE Anti-Aging LED Photon Light Therapy.C...  \n",
       "7915  BlueMD - Acne Blue Light Therapy Treatment Rev...  \n",
       "7936  I think the most important part of this articl...  \n",
       "7943  RT @vBBlogDirectory: What is #Rosacea? therali...  \n",
       "7948  What Is Anti-Ageing Omnilux Light Therapy For ...  \n",
       "7950  led mask \\nEffects of led facial main\\nKill ba...  \n",
       "7955  RT @AttachmentMumma: Win a Lumie Clear Skin Li...  \n",
       "7967  RT @Neutrogena: After the trick-or-treating?s ...  \n",
       "7970  Light therapy is the best proven treatment for...  \n",
       "7973  Back Facials with acne treatment and light the...  \n",
       "7989  Colors LED Photon Light Therapy Facial Mask Wr...  \n",
       "\n",
       "[1325 rows x 2 columns]"
      ]
     },
     "execution_count": 23,
     "metadata": {},
     "output_type": "execute_result"
    }
   ],
   "source": [
    "df_tfidf[df_tfidf['conf_score']<0.5][['bow','original_text']]"
   ]
  },
  {
   "cell_type": "code",
   "execution_count": null,
   "metadata": {
    "collapsed": true
   },
   "outputs": [],
   "source": []
  },
  {
   "cell_type": "markdown",
   "metadata": {},
   "source": [
    "## part of speech "
   ]
  },
  {
   "cell_type": "code",
   "execution_count": 64,
   "metadata": {
    "collapsed": true
   },
   "outputs": [],
   "source": [
    "import nltk\n",
    "import itertools\n",
    "from collections import Counter\n",
    "import operator"
   ]
  },
  {
   "cell_type": "code",
   "execution_count": 65,
   "metadata": {
    "collapsed": true
   },
   "outputs": [],
   "source": [
    "corpus_with_pos = list(map(lambda x:nltk.pos_tag(x),cleaned_list))"
   ]
  },
  {
   "cell_type": "code",
   "execution_count": 85,
   "metadata": {
    "collapsed": false
   },
   "outputs": [],
   "source": [
    "flattened_cleaned_list = []\n",
    "for sublist in cleaned_list:\n",
    "    for val in sublist:\n",
    "        flattened_cleaned_list.append(val)"
   ]
  },
  {
   "cell_type": "code",
   "execution_count": 88,
   "metadata": {
    "collapsed": true
   },
   "outputs": [],
   "source": [
    "flatterned_corpus_with_pos = nltk.pos_tag(flattened_cleaned_list)"
   ]
  },
  {
   "cell_type": "markdown",
   "metadata": {},
   "source": [
    "** count unique **"
   ]
  },
  {
   "cell_type": "code",
   "execution_count": 117,
   "metadata": {
    "collapsed": false
   },
   "outputs": [],
   "source": [
    "deduplicated_df_pos = pd.DataFrame({'word':flattened_cleaned_list,'pos':list(map(lambda x:x[1],flatterned_corpus_with_pos))}).drop_duplicates(subset=['word'])"
   ]
  },
  {
   "cell_type": "code",
   "execution_count": 118,
   "metadata": {
    "collapsed": false
   },
   "outputs": [
    {
     "name": "stderr",
     "output_type": "stream",
     "text": [
      "C:\\Users\\mnan\\Anaconda3\\lib\\site-packages\\ipykernel\\__main__.py:1: FutureWarning: sort(columns=....) is deprecated, use sort_values(by=.....)\n",
      "  if __name__ == '__main__':\n"
     ]
    },
    {
     "data": {
      "text/html": [
       "<div>\n",
       "<table border=\"1\" class=\"dataframe\">\n",
       "  <thead>\n",
       "    <tr style=\"text-align: right;\">\n",
       "      <th></th>\n",
       "      <th>word</th>\n",
       "    </tr>\n",
       "    <tr>\n",
       "      <th>pos</th>\n",
       "      <th></th>\n",
       "    </tr>\n",
       "  </thead>\n",
       "  <tbody>\n",
       "    <tr>\n",
       "      <th>NN</th>\n",
       "      <td>3128</td>\n",
       "    </tr>\n",
       "    <tr>\n",
       "      <th>JJ</th>\n",
       "      <td>1508</td>\n",
       "    </tr>\n",
       "    <tr>\n",
       "      <th>VBG</th>\n",
       "      <td>552</td>\n",
       "    </tr>\n",
       "    <tr>\n",
       "      <th>VBD</th>\n",
       "      <td>383</td>\n",
       "    </tr>\n",
       "    <tr>\n",
       "      <th>RB</th>\n",
       "      <td>345</td>\n",
       "    </tr>\n",
       "    <tr>\n",
       "      <th>VBN</th>\n",
       "      <td>211</td>\n",
       "    </tr>\n",
       "    <tr>\n",
       "      <th>VBP</th>\n",
       "      <td>147</td>\n",
       "    </tr>\n",
       "    <tr>\n",
       "      <th>NNS</th>\n",
       "      <td>140</td>\n",
       "    </tr>\n",
       "    <tr>\n",
       "      <th>VB</th>\n",
       "      <td>120</td>\n",
       "    </tr>\n",
       "    <tr>\n",
       "      <th>VBZ</th>\n",
       "      <td>81</td>\n",
       "    </tr>\n",
       "    <tr>\n",
       "      <th>IN</th>\n",
       "      <td>79</td>\n",
       "    </tr>\n",
       "    <tr>\n",
       "      <th>JJR</th>\n",
       "      <td>32</td>\n",
       "    </tr>\n",
       "    <tr>\n",
       "      <th>JJS</th>\n",
       "      <td>24</td>\n",
       "    </tr>\n",
       "    <tr>\n",
       "      <th>CD</th>\n",
       "      <td>13</td>\n",
       "    </tr>\n",
       "    <tr>\n",
       "      <th>RBR</th>\n",
       "      <td>12</td>\n",
       "    </tr>\n",
       "    <tr>\n",
       "      <th>FW</th>\n",
       "      <td>11</td>\n",
       "    </tr>\n",
       "    <tr>\n",
       "      <th>MD</th>\n",
       "      <td>7</td>\n",
       "    </tr>\n",
       "    <tr>\n",
       "      <th>NNP</th>\n",
       "      <td>6</td>\n",
       "    </tr>\n",
       "    <tr>\n",
       "      <th>CC</th>\n",
       "      <td>5</td>\n",
       "    </tr>\n",
       "    <tr>\n",
       "      <th>DT</th>\n",
       "      <td>4</td>\n",
       "    </tr>\n",
       "    <tr>\n",
       "      <th>WRB</th>\n",
       "      <td>3</td>\n",
       "    </tr>\n",
       "    <tr>\n",
       "      <th>PRP</th>\n",
       "      <td>3</td>\n",
       "    </tr>\n",
       "    <tr>\n",
       "      <th>WP</th>\n",
       "      <td>2</td>\n",
       "    </tr>\n",
       "    <tr>\n",
       "      <th>RBS</th>\n",
       "      <td>1</td>\n",
       "    </tr>\n",
       "    <tr>\n",
       "      <th>EX</th>\n",
       "      <td>1</td>\n",
       "    </tr>\n",
       "    <tr>\n",
       "      <th>WDT</th>\n",
       "      <td>1</td>\n",
       "    </tr>\n",
       "    <tr>\n",
       "      <th>WP$</th>\n",
       "      <td>1</td>\n",
       "    </tr>\n",
       "    <tr>\n",
       "      <th>PRP$</th>\n",
       "      <td>1</td>\n",
       "    </tr>\n",
       "  </tbody>\n",
       "</table>\n",
       "</div>"
      ],
      "text/plain": [
       "      word\n",
       "pos       \n",
       "NN    3128\n",
       "JJ    1508\n",
       "VBG    552\n",
       "VBD    383\n",
       "RB     345\n",
       "VBN    211\n",
       "VBP    147\n",
       "NNS    140\n",
       "VB     120\n",
       "VBZ     81\n",
       "IN      79\n",
       "JJR     32\n",
       "JJS     24\n",
       "CD      13\n",
       "RBR     12\n",
       "FW      11\n",
       "MD       7\n",
       "NNP      6\n",
       "CC       5\n",
       "DT       4\n",
       "WRB      3\n",
       "PRP      3\n",
       "WP       2\n",
       "RBS      1\n",
       "EX       1\n",
       "WDT      1\n",
       "WP$      1\n",
       "PRP$     1"
      ]
     },
     "execution_count": 118,
     "metadata": {},
     "output_type": "execute_result"
    }
   ],
   "source": [
    "deduplicated_df_pos.groupby('pos').count().sort(['word'],ascending = False)"
   ]
  },
  {
   "cell_type": "markdown",
   "metadata": {},
   "source": [
    "** count **"
   ]
  },
  {
   "cell_type": "code",
   "execution_count": 66,
   "metadata": {
    "collapsed": false
   },
   "outputs": [
    {
     "data": {
      "text/plain": [
       "[('NN', 46353),\n",
       " ('JJ', 16991),\n",
       " ('VBD', 4707),\n",
       " ('VBG', 4108),\n",
       " ('RB', 3319),\n",
       " ('VBN', 2654),\n",
       " ('VB', 2081),\n",
       " ('VBP', 1519),\n",
       " ('NNS', 1293),\n",
       " ('IN', 1263),\n",
       " ('CD', 533),\n",
       " ('VBZ', 470),\n",
       " ('JJR', 457),\n",
       " ('MD', 420),\n",
       " ('JJS', 332),\n",
       " ('FW', 175),\n",
       " ('RBR', 147),\n",
       " ('CC', 139),\n",
       " ('PRP', 137),\n",
       " ('DT', 99),\n",
       " ('NNP', 71),\n",
       " ('RBS', 39),\n",
       " ('RP', 36),\n",
       " ('WP', 33),\n",
       " ('WRB', 18),\n",
       " ('SYM', 12),\n",
       " ('UH', 8),\n",
       " ('EX', 6),\n",
       " ('WDT', 4),\n",
       " ('WP$', 2),\n",
       " ('PRP$', 1)]"
      ]
     },
     "execution_count": 66,
     "metadata": {},
     "output_type": "execute_result"
    }
   ],
   "source": [
    "sorted(dict(Counter(list(map(lambda x: x[1],sum(corpus_with_pos,[]))))).items(),key=operator.itemgetter(1),reverse = True)"
   ]
  },
  {
   "cell_type": "markdown",
   "metadata": {},
   "source": [
    "** check pos interactively **"
   ]
  },
  {
   "cell_type": "code",
   "execution_count": 128,
   "metadata": {
    "collapsed": false
   },
   "outputs": [
    {
     "name": "stdout",
     "output_type": "stream",
     "text": [
      "16         may\n",
      "127       must\n",
      "530         ca\n",
      "2162     could\n",
      "4119     would\n",
      "6888     might\n",
      "63268    shall\n",
      "Name: word, dtype: object\n"
     ]
    }
   ],
   "source": [
    "from ipywidgets import interact\n",
    "from ipywidgets import Dropdown, FloatSlider\n",
    "def print_pos(pos):\n",
    "    \n",
    "    print(deduplicated_df_pos[deduplicated_df_pos['pos']==pos]['word'])\n",
    "    \n",
    "col_list = list(deduplicated_df_pos['pos'].unique())\n",
    "pos = Dropdown(options=col_list, value=col_list[0], description='Part of Speech')\n",
    "interact(print_pos, pos=pos)"
   ]
  },
  {
   "cell_type": "code",
   "execution_count": 129,
   "metadata": {
    "collapsed": true
   },
   "outputs": [],
   "source": [
    "keep_pos = ['JJ','JJS','JJR','NN','NNP','RB','VB','VBP','VBZ','RBR','VBD','VBN']"
   ]
  },
  {
   "cell_type": "code",
   "execution_count": 130,
   "metadata": {
    "collapsed": false
   },
   "outputs": [
    {
     "data": {
      "text/plain": [
       "[('VBZ', 470),\n",
       " ('VBN', 2654),\n",
       " ('RBR', 147),\n",
       " ('VBP', 1519),\n",
       " ('JJR', 457),\n",
       " ('RB', 3319),\n",
       " ('JJ', 16991),\n",
       " ('NN', 46353),\n",
       " ('NNP', 71),\n",
       " ('VB', 2081),\n",
       " ('VBD', 4707),\n",
       " ('JJS', 332)]"
      ]
     },
     "execution_count": 130,
     "metadata": {},
     "output_type": "execute_result"
    }
   ],
   "source": [
    "list(filter(lambda x: x[0] in keep_pos,dict(Counter(list(map(lambda x: x[1],sum(corpus_with_pos,[]))))).items()))"
   ]
  },
  {
   "cell_type": "code",
   "execution_count": 131,
   "metadata": {
    "collapsed": false
   },
   "outputs": [],
   "source": [
    "filtered_corpus_with_pos=[]\n",
    "for i in corpus_with_pos:\n",
    "    filtered_corpus_with_pos.append(list(filter(lambda x: x[1] in keep_pos,i)))"
   ]
  },
  {
   "cell_type": "code",
   "execution_count": 132,
   "metadata": {
    "collapsed": false
   },
   "outputs": [],
   "source": [
    "filtered_corpus_by_pos = []\n",
    "for i in filtered_corpus_with_pos:\n",
    "    filtered_corpus_by_pos.append(list(map(lambda x: x[0],i)))"
   ]
  },
  {
   "cell_type": "code",
   "execution_count": 133,
   "metadata": {
    "collapsed": false
   },
   "outputs": [],
   "source": [
    "dictionary_pos = Dictionary(filtered_corpus_by_pos)\n",
    "corpus_pos = [dictionary_pos.doc2bow(text) for text in filtered_corpus_by_pos]"
   ]
  },
  {
   "cell_type": "code",
   "execution_count": 134,
   "metadata": {
    "collapsed": false
   },
   "outputs": [
    {
     "data": {
      "text/plain": [
       "[(0,\n",
       "  '0.106*\"environment\" + 0.105*\"bus\" + 0.103*\"brighten\" + 0.100*\"stop\" + 0.100*\"panel\" + 0.097*\"news\" + 0.090*\"energy\" + 0.087*\"technology\" + 0.084*\"winter\" + 0.006*\"benefit\"'),\n",
       " (1,\n",
       "  '0.017*\"remedy\" + 0.016*\"excellent\" + 0.015*\"care\" + 0.015*\"way\" + 0.014*\"equipment\" + 0.014*\"salon\" + 0.014*\"digital\" + 0.013*\"led\" + 0.011*\"safest\" + 0.011*\"consider\"'),\n",
       " (2,\n",
       "  '0.042*\"violet\" + 0.022*\"prevent\" + 0.020*\"acne\" + 0.020*\"help\" + 0.016*\"blue\" + 0.015*\"estimated\" + 0.014*\"affect\" + 0.013*\"review\" + 0.013*\"video\" + 0.012*\"watch\"'),\n",
       " (3,\n",
       "  '0.022*\"cause\" + 0.021*\"think\" + 0.013*\"skincare\" + 0.013*\"here\" + 0.012*\"got\" + 0.012*\"today\" + 0.011*\"industry\" + 0.011*\"hot\" + 0.011*\"quality\" + 0.011*\"perhaps\"'),\n",
       " (4,\n",
       "  '0.022*\"revive\" + 0.016*\"essential\" + 0.016*\"complexion\" + 0.015*\"skincare\" + 0.015*\"step\" + 0.013*\"sassy\" + 0.013*\"winter\" + 0.012*\"grade\" + 0.012*\"beautification\" + 0.010*\"spa\"'),\n",
       " (5,\n",
       "  '0.021*\"min\" + 0.018*\"led\" + 0.017*\"beauty\" + 0.016*\"matter\" + 0.016*\"photon\" + 0.015*\"intensity\" + 0.014*\"rejuvenation\" + 0.013*\"acne\" + 0.012*\"car\" + 0.011*\"ride\"'),\n",
       " (6,\n",
       "  '0.033*\"look\" + 0.014*\"solution\" + 0.010*\"acne\" + 0.010*\"come\" + 0.009*\"go\" + 0.009*\"frequency\" + 0.009*\"symptom\" + 0.009*\"radio\" + 0.009*\"triggered\" + 0.008*\"led\"'),\n",
       " (7,\n",
       "  '0.051*\"mask\" + 0.030*\"new\" + 0.027*\"photon\" + 0.026*\"rejuvenation\" + 0.023*\"beauty\" + 0.021*\"acne\" + 0.020*\"led\" + 0.019*\"color\" + 0.018*\"care\" + 0.017*\"natural\"'),\n",
       " (8,\n",
       "  '0.028*\"skincare\" + 0.019*\"psoriasis\" + 0.017*\"condition\" + 0.017*\"used\" + 0.017*\"system\" + 0.016*\"serious\" + 0.014*\"treat\" + 0.010*\"due\" + 0.009*\"work\" + 0.008*\"dermatology\"'),\n",
       " (9,\n",
       "  '0.048*\"blue\" + 0.038*\"acne\" + 0.032*\"red\" + 0.024*\"sun\" + 0.021*\"led\" + 0.018*\"healing\" + 0.017*\"trophy\" + 0.016*\"new\" + 0.014*\"green\" + 0.012*\"issue\"')]"
      ]
     },
     "execution_count": 134,
     "metadata": {},
     "output_type": "execute_result"
    }
   ],
   "source": [
    "tfidf_by_pos = models.TfidfModel(corpus_pos)\n",
    "corpus_by_pos_tfidf = tfidf_by_pos[corpus_pos]\n",
    "num_topics = 10\n",
    "lda_pos_tfidf = LdaModel(corpus_by_pos_tfidf, id2word=dictionary_pos, num_topics=num_topics)\n",
    "lda_pos_tfidf.show_topics(num_topics,10)"
   ]
  },
  {
   "cell_type": "code",
   "execution_count": null,
   "metadata": {
    "collapsed": true
   },
   "outputs": [],
   "source": []
  },
  {
   "cell_type": "code",
   "execution_count": null,
   "metadata": {
    "collapsed": true
   },
   "outputs": [],
   "source": []
  },
  {
   "cell_type": "markdown",
   "metadata": {
    "collapsed": true
   },
   "source": [
    "** try bigram **"
   ]
  },
  {
   "cell_type": "code",
   "execution_count": 118,
   "metadata": {
    "collapsed": false
   },
   "outputs": [
    {
     "name": "stderr",
     "output_type": "stream",
     "text": [
      "C:\\Users\\mnan\\Anaconda3\\lib\\site-packages\\gensim\\models\\phrases.py:248: UserWarning: For a faster implementation, use the gensim.models.phrases.Phraser class\n",
      "  warnings.warn(\"For a faster implementation, use the gensim.models.phrases.Phraser class\")\n"
     ]
    }
   ],
   "source": [
    "bigram = gensim.models.Phrases(cleaned_list,min_count=1, threshold=2)\n",
    "dictionary_text_list = list(bigram[cleaned_list])\n",
    "train_text_list = list(bigram[cleaned_list])\n",
    "dictionary_bigram = Dictionary(dictionary_text_list)\n",
    "corpus_bigram = [dictionary_bigram.doc2bow(text) for text in train_text_list]"
   ]
  },
  {
   "cell_type": "code",
   "execution_count": 119,
   "metadata": {
    "collapsed": false
   },
   "outputs": [
    {
     "data": {
      "text/plain": [
       "[(0,\n",
       "  '0.027*\"violet\" + 0.016*\"benefit\" + 0.015*\"skin\" + 0.010*\"help\" + 0.008*\"low\" + 0.007*\"time\" + 0.007*\"black\" + 0.007*\"level\" + 0.006*\"red\" + 0.005*\"body\" + 0.005*\"muscle\" + 0.005*\"one\" + 0.005*\"mask\" + 0.005*\"led\" + 0.004*\"tone\"'),\n",
       " (1,\n",
       "  '0.056*\"led\" + 0.052*\"skin\" + 0.030*\"wrinkle\" + 0.026*\"acne\" + 0.015*\"care\" + 0.012*\"ultrasound\" + 0.012*\"ultrasonic\" + 0.012*\"blue\" + 0.011*\"high\" + 0.011*\"red\" + 0.010*\"intensity\" + 0.009*\"machine\" + 0.009*\"focused\" + 0.009*\"collagen\" + 0.008*\"rt\"'),\n",
       " (2,\n",
       "  '0.019*\"day\" + 0.017*\"new\" + 0.017*\"mask\" + 0.014*\"device\" + 0.013*\"rt\" + 0.013*\"exciting\" + 0.013*\"complete\" + 0.012*\"launching\" + 0.011*\"added\" + 0.007*\"medical\" + 0.007*\"led\" + 0.007*\"pub\" + 0.005*\"acne\" + 0.005*\"patient\" + 0.005*\"health\"'),\n",
       " (3,\n",
       "  '0.099*\"led\" + 0.061*\"mask\" + 0.056*\"skin\" + 0.048*\"acne\" + 0.042*\"beauty\" + 0.040*\"photon\" + 0.040*\"rejuvenation\" + 0.035*\"new\" + 0.028*\"color\" + 0.026*\"blue\" + 0.025*\"red\" + 0.018*\"care\" + 0.016*\"sun\" + 0.014*\"face\" + 0.012*\"healing\"'),\n",
       " (4,\n",
       "  '0.098*\"technology\" + 0.098*\"energy\" + 0.097*\"panel\" + 0.097*\"winter\" + 0.097*\"stop\" + 0.097*\"brighten\" + 0.097*\"news\" + 0.097*\"environment\" + 0.097*\"bus\" + 0.004*\"skin\" + 0.003*\"face\" + 0.003*\"cosmetic\" + 0.003*\"rt\" + 0.003*\"new\" + 0.002*\"red\"'),\n",
       " (5,\n",
       "  '0.016*\"skin\" + 0.014*\"today\" + 0.013*\"led\" + 0.012*\"skincare\" + 0.011*\"rt\" + 0.009*\"hot\" + 0.009*\"here\" + 0.009*\"eye\" + 0.009*\"industry\" + 0.008*\"work\" + 0.008*\"get\" + 0.008*\"acne\" + 0.008*\"stuff\" + 0.008*\"red\" + 0.007*\"dark\"'),\n",
       " (6,\n",
       "  '0.032*\"acne\" + 0.032*\"rt\" + 0.020*\"mask\" + 0.019*\"skin\" + 0.018*\"spot\" + 0.015*\"photo\" + 0.014*\"light\" + 0.013*\"thank\" + 0.011*\"unforgiving\" + 0.011*\"goodness\" + 0.011*\"treat\" + 0.011*\"age\" + 0.010*\"green\" + 0.010*\"symptom\" + 0.009*\"inflammation\"'),\n",
       " (7,\n",
       "  '0.062*\"acne\" + 0.050*\"anti\" + 0.043*\"skin\" + 0.029*\"aging\" + 0.028*\"led\" + 0.028*\"rt\" + 0.025*\"blue\" + 0.022*\"min\" + 0.019*\"care\" + 0.018*\"red\" + 0.018*\"remedy\" + 0.014*\"laser\" + 0.013*\"car\" + 0.011*\"ride\" + 0.011*\"score\"'),\n",
       " (8,\n",
       "  '0.052*\"rt\" + 0.049*\"skin\" + 0.032*\"acne\" + 0.016*\"led\" + 0.013*\"help\" + 0.011*\"natural\" + 0.011*\"blue\" + 0.009*\"problem\" + 0.009*\"beauty\" + 0.009*\"prevent\" + 0.009*\"pain\" + 0.009*\"red\" + 0.009*\"solution\" + 0.009*\"way\" + 0.009*\"people\"'),\n",
       " (9,\n",
       "  '0.093*\"rt\" + 0.077*\"skincare\" + 0.033*\"system\" + 0.030*\"skin\" + 0.020*\"psoriasis\" + 0.019*\"treat\" + 0.016*\"think\" + 0.014*\"used\" + 0.014*\"dermatology\" + 0.014*\"work\" + 0.013*\"condition\" + 0.013*\"look\" + 0.010*\"revive\" + 0.010*\"got\" + 0.010*\"step\"')]"
      ]
     },
     "execution_count": 119,
     "metadata": {},
     "output_type": "execute_result"
    }
   ],
   "source": [
    "num_topics = 10\n",
    "lda_tfidf = LdaModel(corpus_bigram, id2word=dictionary_bigram, num_topics=num_topics)\n",
    "lda.show_topics(num_topics,15)"
   ]
  },
  {
   "cell_type": "markdown",
   "metadata": {},
   "source": [
    "** Look Bad **"
   ]
  },
  {
   "cell_type": "markdown",
   "metadata": {},
   "source": [
    "# Conclusion:"
   ]
  },
  {
   "cell_type": "markdown",
   "metadata": {},
   "source": [
    "#### Bag of Words is the best"
   ]
  },
  {
   "cell_type": "code",
   "execution_count": null,
   "metadata": {
    "collapsed": true
   },
   "outputs": [],
   "source": []
  }
 ],
 "metadata": {
  "anaconda-cloud": {},
  "kernelspec": {
   "display_name": "Python [default]",
   "language": "python",
   "name": "python3"
  },
  "language_info": {
   "codemirror_mode": {
    "name": "ipython",
    "version": 3
   },
   "file_extension": ".py",
   "mimetype": "text/x-python",
   "name": "python",
   "nbconvert_exporter": "python",
   "pygments_lexer": "ipython3",
   "version": "3.5.2"
  },
  "widgets": {
   "state": {
    "88547b1be8f64318a592dbca96c7cc5d": {
     "views": [
      {
       "cell_index": 51
      }
     ]
    }
   },
   "version": "1.2.0"
  }
 },
 "nbformat": 4,
 "nbformat_minor": 1
}
