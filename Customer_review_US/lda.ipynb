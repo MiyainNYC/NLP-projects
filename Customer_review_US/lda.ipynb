{
 "cells": [
  {
   "cell_type": "code",
   "execution_count": 3,
   "metadata": {
    "collapsed": false
   },
   "outputs": [
    {
     "name": "stderr",
     "output_type": "stream",
     "text": [
      "C:\\Users\\mnan\\Anaconda3\\lib\\site-packages\\gensim\\utils.py:840: UserWarning: detected Windows; aliasing chunkize to chunkize_serial\n",
      "  warnings.warn(\"detected Windows; aliasing chunkize to chunkize_serial\")\n",
      "C:\\Users\\mnan\\Anaconda3\\lib\\site-packages\\gensim\\utils.py:1015: UserWarning: Pattern library is not installed, lemmatization won't be available.\n",
      "  warnings.warn(\"Pattern library is not installed, lemmatization won't be available.\")\n"
     ]
    }
   ],
   "source": [
    "from gensim.models.ldamodel import LdaModel\n",
    "import gensim\n",
    "import pandas as pd\n",
    "import glob\n",
    "from nltk.corpus import stopwords\n",
    "import string\n",
    "from gensim import corpora,models\n",
    "from gensim.utils import lemmatize # Only keep nums\n",
    "from gensim.corpora import Dictionary\n",
    "%matplotlib inline\n",
    "import matplotlib.pyplot as plt\n",
    "from nltk.stem.wordnet import WordNetLemmatizer\n",
    "import sys\n",
    "import numpy as np"
   ]
  },
  {
   "cell_type": "code",
   "execution_count": 76,
   "metadata": {
    "collapsed": false
   },
   "outputs": [],
   "source": [
    "def process_text(content_list):\n",
    "    \"\"\"\n",
    "    stopwords\n",
    "    \n",
    "    punctuation\n",
    "    \n",
    "    digits\n",
    "    \n",
    "    english words\n",
    "    \n",
    "    \"\"\"\n",
    "    typical_words = ['light','therapy','facial','treatment']\n",
    "    stoplist = stopwords.words('english') + typical_words \n",
    "    \n",
    "    remove_digits = str.maketrans('', '', string.digits)\n",
    "    remove_punctuation = str.maketrans('', '', string.punctuation)\n",
    "    \n",
    "    dict_english = enchant.Dict(\"en_US\")\n",
    "    \n",
    "    lemma = WordNetLemmatizer()\n",
    "    \n",
    "    \n",
    "    content_cleaned =[i.translate(remove_digits) for i in content_list]\n",
    "    \n",
    "    content_cleaned = [i.translate(remove_punctuation) for i in content_cleaned]\n",
    "    \n",
    "    content_cleaned = [[lemma.lemmatize(word.lower()) for word in line.split()\n",
    "                        if (word.lower() not in stoplist) and dict_english.check(word.lower())==True] for line in content_cleaned]\n",
    "\n",
    "    return content_cleaned"
   ]
  },
  {
   "cell_type": "code",
   "execution_count": 78,
   "metadata": {
    "collapsed": false
   },
   "outputs": [
    {
     "name": "stdout",
     "output_type": "stream",
     "text": [
      "8001\n",
      "after process....\n",
      "8001\n"
     ]
    }
   ],
   "source": [
    "content = pd.read_csv('text.csv',encoding = 'iso-8859-1',header=None)\n",
    "content.columns = ['content']\n",
    "content['content']\n",
    "print(len(content))\n",
    "contendf_bowt_list = content['content'].values\n",
    "cleaned_list = process_text(content_list)\n",
    "print('after process....')\n",
    "print(len(cleaned_list))"
   ]
  },
  {
   "cell_type": "code",
   "execution_count": 81,
   "metadata": {
    "collapsed": false
   },
   "outputs": [
    {
     "data": {
      "text/plain": [
       "14"
      ]
     },
     "execution_count": 81,
     "metadata": {},
     "output_type": "execute_result"
    }
   ],
   "source": [
    "len(list(filter(lambda x:x==[],cleaned_list)))"
   ]
  },
  {
   "cell_type": "code",
   "execution_count": 4,
   "metadata": {
    "collapsed": false
   },
   "outputs": [],
   "source": [
    "#bigram = gensim.models.Phrases(cleaned_list,min_count=1, threshold=2)\n",
    "#dictionary_text_list = list(bigram[cleaned_list])\n",
    "#train_text_list = list(bigram[cleaned_list])\n",
    "#dictionary = Dictionary(dictionary_text_list)\n",
    "#corpus = [dictionary.doc2bow(text) for text in train_text_list]"
   ]
  },
  {
   "cell_type": "code",
   "execution_count": 82,
   "metadata": {
    "collapsed": true
   },
   "outputs": [],
   "source": [
    "dictionary = Dictionary(cleaned_list)\n",
    "corpus = [dictionary.doc2bow(text) for text in cleaned_list]"
   ]
  },
  {
   "cell_type": "code",
   "execution_count": 83,
   "metadata": {
    "collapsed": false
   },
   "outputs": [
    {
     "data": {
      "text/plain": [
       "[(0,\n",
       "  '0.027*\"violet\" + 0.016*\"benefit\" + 0.015*\"skin\" + 0.010*\"help\" + 0.008*\"low\" + 0.007*\"time\" + 0.007*\"black\" + 0.007*\"level\" + 0.006*\"red\" + 0.005*\"body\" + 0.005*\"muscle\" + 0.005*\"one\" + 0.005*\"mask\" + 0.005*\"led\" + 0.004*\"tone\"'),\n",
       " (1,\n",
       "  '0.056*\"led\" + 0.052*\"skin\" + 0.030*\"wrinkle\" + 0.026*\"acne\" + 0.015*\"care\" + 0.012*\"ultrasound\" + 0.012*\"ultrasonic\" + 0.012*\"blue\" + 0.011*\"high\" + 0.011*\"red\" + 0.010*\"intensity\" + 0.009*\"machine\" + 0.009*\"focused\" + 0.009*\"collagen\" + 0.008*\"rt\"'),\n",
       " (2,\n",
       "  '0.019*\"day\" + 0.017*\"new\" + 0.017*\"mask\" + 0.014*\"device\" + 0.013*\"rt\" + 0.013*\"exciting\" + 0.013*\"complete\" + 0.012*\"launching\" + 0.011*\"added\" + 0.007*\"medical\" + 0.007*\"led\" + 0.007*\"pub\" + 0.005*\"acne\" + 0.005*\"patient\" + 0.005*\"health\"'),\n",
       " (3,\n",
       "  '0.099*\"led\" + 0.061*\"mask\" + 0.056*\"skin\" + 0.048*\"acne\" + 0.042*\"beauty\" + 0.040*\"photon\" + 0.040*\"rejuvenation\" + 0.035*\"new\" + 0.028*\"color\" + 0.026*\"blue\" + 0.025*\"red\" + 0.018*\"care\" + 0.016*\"sun\" + 0.014*\"face\" + 0.012*\"healing\"'),\n",
       " (4,\n",
       "  '0.098*\"technology\" + 0.098*\"energy\" + 0.097*\"panel\" + 0.097*\"winter\" + 0.097*\"stop\" + 0.097*\"brighten\" + 0.097*\"news\" + 0.097*\"environment\" + 0.097*\"bus\" + 0.004*\"skin\" + 0.003*\"face\" + 0.003*\"cosmetic\" + 0.003*\"rt\" + 0.003*\"new\" + 0.002*\"red\"'),\n",
       " (5,\n",
       "  '0.016*\"skin\" + 0.014*\"today\" + 0.013*\"led\" + 0.012*\"skincare\" + 0.011*\"rt\" + 0.009*\"hot\" + 0.009*\"here\" + 0.009*\"eye\" + 0.009*\"industry\" + 0.008*\"work\" + 0.008*\"get\" + 0.008*\"acne\" + 0.008*\"stuff\" + 0.008*\"red\" + 0.007*\"dark\"'),\n",
       " (6,\n",
       "  '0.032*\"acne\" + 0.032*\"rt\" + 0.020*\"mask\" + 0.019*\"skin\" + 0.018*\"spot\" + 0.015*\"photo\" + 0.014*\"light\" + 0.013*\"thank\" + 0.011*\"unforgiving\" + 0.011*\"goodness\" + 0.011*\"treat\" + 0.011*\"age\" + 0.010*\"green\" + 0.010*\"symptom\" + 0.009*\"inflammation\"'),\n",
       " (7,\n",
       "  '0.062*\"acne\" + 0.050*\"anti\" + 0.043*\"skin\" + 0.029*\"aging\" + 0.028*\"led\" + 0.028*\"rt\" + 0.025*\"blue\" + 0.022*\"min\" + 0.019*\"care\" + 0.018*\"red\" + 0.018*\"remedy\" + 0.014*\"laser\" + 0.013*\"car\" + 0.011*\"ride\" + 0.011*\"score\"'),\n",
       " (8,\n",
       "  '0.052*\"rt\" + 0.049*\"skin\" + 0.032*\"acne\" + 0.016*\"led\" + 0.013*\"help\" + 0.011*\"natural\" + 0.011*\"blue\" + 0.009*\"problem\" + 0.009*\"beauty\" + 0.009*\"prevent\" + 0.009*\"pain\" + 0.009*\"red\" + 0.009*\"solution\" + 0.009*\"way\" + 0.009*\"people\"'),\n",
       " (9,\n",
       "  '0.093*\"rt\" + 0.077*\"skincare\" + 0.033*\"system\" + 0.030*\"skin\" + 0.020*\"psoriasis\" + 0.019*\"treat\" + 0.016*\"think\" + 0.014*\"used\" + 0.014*\"dermatology\" + 0.014*\"work\" + 0.013*\"condition\" + 0.013*\"look\" + 0.010*\"revive\" + 0.010*\"got\" + 0.010*\"step\"')]"
      ]
     },
     "execution_count": 83,
     "metadata": {},
     "output_type": "execute_result"
    }
   ],
   "source": [
    "num_topics = 10\n",
    "lda = LdaModel(corpus, num_topics= num_topics,id2word = dictionary)\n",
    "lda.show_topics(num_topics,15)"
   ]
  },
  {
   "cell_type": "code",
   "execution_count": 85,
   "metadata": {
    "collapsed": false
   },
   "outputs": [],
   "source": [
    "assign = []\n",
    "for i in range(len(corpus)):\n",
    "    assign.append(sorted(lda[corpus[i]],key = lambda x:x[1],reverse = True)[0][0])\n",
    "conf_score = []\n",
    "for i in range(len(corpus)):\n",
    "    conf_score.append(sorted(lda[corpus[i]],key = lambda x:x[1],reverse = True)[0][1])"
   ]
  },
  {
   "cell_type": "code",
   "execution_count": 86,
   "metadata": {
    "collapsed": true
   },
   "outputs": [],
   "source": [
    "df_bow = pd.DataFrame({'original_text':content.content.values,\n",
    "             'corpus':corpus,\n",
    "            'assign':assign,\n",
    "            'conf_score':conf_score,\n",
    "                      'bow':cleaned_list})"
   ]
  },
  {
   "cell_type": "code",
   "execution_count": 87,
   "metadata": {
    "collapsed": false
   },
   "outputs": [
    {
     "data": {
      "text/plain": [
       "<matplotlib.axes._subplots.AxesSubplot at 0x12934af0>"
      ]
     },
     "execution_count": 87,
     "metadata": {},
     "output_type": "execute_result"
    },
    {
     "data": {
      "image/png": "[encoded data removed]",
      "text/plain": [
       "<matplotlib.figure.Figure at 0xf2bd430>"
      ]
     },
     "metadata": {},
     "output_type": "display_data"
    }
   ],
   "source": [
    "df_bow.groupby('assign').count()['original_text'].plot(kind='pie')"
   ]
  },
  {
   "cell_type": "code",
   "execution_count": 88,
   "metadata": {
    "collapsed": false
   },
   "outputs": [
    {
     "data": {
      "text/plain": [
       "<matplotlib.axes._subplots.AxesSubplot at 0x11da3eb0>"
      ]
     },
     "execution_count": 88,
     "metadata": {},
     "output_type": "execute_result"
    },
    {
     "data": {
      "image/png": "[encoded data removed]",
      "text/plain": [
       "<matplotlib.figure.Figure at 0xfb88ef0>"
      ]
     },
     "metadata": {},
     "output_type": "display_data"
    }
   ],
   "source": [
    "df_bow['conf_score'].hist()"
   ]
  },
  {
   "cell_type": "code",
   "execution_count": 69,
   "metadata": {
    "collapsed": false
   },
   "outputs": [
    {
     "data": {
      "text/html": [
       "<div>\n",
       "<table border=\"1\" class=\"dataframe\">\n",
       "  <thead>\n",
       "    <tr style=\"text-align: right;\">\n",
       "      <th></th>\n",
       "      <th>bow</th>\n",
       "      <th>original_text</th>\n",
       "    </tr>\n",
       "  </thead>\n",
       "  <tbody>\n",
       "    <tr>\n",
       "      <th>11</th>\n",
       "      <td>[intranasal, infrared, naturally]</td>\n",
       "      <td>$499 VieLight Intranasal Light Therapy 810 Inf...</td>\n",
       "    </tr>\n",
       "    <tr>\n",
       "      <th>13</th>\n",
       "      <td>[]</td>\n",
       "      <td>RT @Theralight: Why non-LED light therapy is b...</td>\n",
       "    </tr>\n",
       "    <tr>\n",
       "      <th>31</th>\n",
       "      <td>[skincare, issue]</td>\n",
       "      <td>have any #skincare issues? #olivegold03 and li...</td>\n",
       "    </tr>\n",
       "    <tr>\n",
       "      <th>41</th>\n",
       "      <td>[highly, effective, outpatient, condition, inc...</td>\n",
       "      <td>Light therapy is a highly effective outpatient...</td>\n",
       "    </tr>\n",
       "    <tr>\n",
       "      <th>48</th>\n",
       "      <td>[health, color, skincare, clearing]</td>\n",
       "      <td>RT @WXU_DEZ_025: #Health #Acne sherif.ws/acne/...</td>\n",
       "    </tr>\n",
       "    <tr>\n",
       "      <th>49</th>\n",
       "      <td>[control, skincare]</td>\n",
       "      <td>Take control of your #rosacea with an #IPL #Ph...</td>\n",
       "    </tr>\n",
       "    <tr>\n",
       "      <th>52</th>\n",
       "      <td>[electric, massage, photon, vibrating]</td>\n",
       "      <td>2 in 1 Electric LED Therapy Eye Care Massage P...</td>\n",
       "    </tr>\n",
       "    <tr>\n",
       "      <th>66</th>\n",
       "      <td>[added, video, smacker]</td>\n",
       "      <td>I added a video to a @YouTube playlist youtu.b...</td>\n",
       "    </tr>\n",
       "    <tr>\n",
       "      <th>69</th>\n",
       "      <td>[]</td>\n",
       "      <td>RT @Theralight: LOVE YOUR SKIN! theralightinc....</td>\n",
       "    </tr>\n",
       "    <tr>\n",
       "      <th>70</th>\n",
       "      <td>[]</td>\n",
       "      <td>10 Tips to Get the Most Out of Light Therapy p...</td>\n",
       "    </tr>\n",
       "    <tr>\n",
       "      <th>73</th>\n",
       "      <td>[people, tried]</td>\n",
       "      <td>#People  We Tried It: Acne Light Therapy Treat...</td>\n",
       "    </tr>\n",
       "    <tr>\n",
       "      <th>83</th>\n",
       "      <td>[interested, skincare]</td>\n",
       "      <td>Interested in having a Red Light Therapy?\\nRea...</td>\n",
       "    </tr>\n",
       "    <tr>\n",
       "      <th>87</th>\n",
       "      <td>[spot, damaged, summer, patient]</td>\n",
       "      <td>#photorejuvenation ??\\nGet rid of any sun spot...</td>\n",
       "    </tr>\n",
       "    <tr>\n",
       "      <th>93</th>\n",
       "      <td>[wonder, benefit, dermatology, skincare]</td>\n",
       "      <td>RT @Theralight: Wonder about the many benefits...</td>\n",
       "    </tr>\n",
       "    <tr>\n",
       "      <th>98</th>\n",
       "      <td>[angel, photon, green]</td>\n",
       "      <td>Angel Kiss Facial Care Led Mask - LED Photon T...</td>\n",
       "    </tr>\n",
       "    <tr>\n",
       "      <th>100</th>\n",
       "      <td>[painless, system, stimulates, collagen, treat...</td>\n",
       "      <td>Light therapy with the painless Omnilux system...</td>\n",
       "    </tr>\n",
       "    <tr>\n",
       "      <th>103</th>\n",
       "      <td>[attention, available]</td>\n",
       "      <td>Attention! New LED light therapy now available...</td>\n",
       "    </tr>\n",
       "    <tr>\n",
       "      <th>105</th>\n",
       "      <td>[dimension, retina, antibiotic, month]</td>\n",
       "      <td>@hooksalexis I use skin dimensions face wash f...</td>\n",
       "    </tr>\n",
       "    <tr>\n",
       "      <th>108</th>\n",
       "      <td>[skincare, white]</td>\n",
       "      <td>ReVive Light Therapy C-40 Acne Treatment Skinc...</td>\n",
       "    </tr>\n",
       "    <tr>\n",
       "      <th>111</th>\n",
       "      <td>[looking, device, shoulder, recover, surgery, ...</td>\n",
       "      <td>While looking for a NIR light therapy device t...</td>\n",
       "    </tr>\n",
       "    <tr>\n",
       "      <th>121</th>\n",
       "      <td>[photon, aging]</td>\n",
       "      <td>Photon Skin Facial Mask LED Light Therapy Phot...</td>\n",
       "    </tr>\n",
       "    <tr>\n",
       "      <th>123</th>\n",
       "      <td>[]</td>\n",
       "      <td>RT @vBBlogDirectory: What Does #Rosacea Look L...</td>\n",
       "    </tr>\n",
       "    <tr>\n",
       "      <th>131</th>\n",
       "      <td>[]</td>\n",
       "      <td>10 Tips to Get the Most Out of Light Therapy p...</td>\n",
       "    </tr>\n",
       "    <tr>\n",
       "      <th>140</th>\n",
       "      <td>[]</td>\n",
       "      <td>Light therapy mask!! #mask #facial #lightthera...</td>\n",
       "    </tr>\n",
       "    <tr>\n",
       "      <th>141</th>\n",
       "      <td>[]</td>\n",
       "      <td>RT @vBBlogDirectory: What Does #Rosacea Look L...</td>\n",
       "    </tr>\n",
       "    <tr>\n",
       "      <th>151</th>\n",
       "      <td>[solution, skincare]</td>\n",
       "      <td>RT @Theralight: Is light therapy the solution ...</td>\n",
       "    </tr>\n",
       "    <tr>\n",
       "      <th>159</th>\n",
       "      <td>[visited, celebrity, love, space, futuristic, ...</td>\n",
       "      <td>We visited the glow-getter and celebrity facia...</td>\n",
       "    </tr>\n",
       "    <tr>\n",
       "      <th>162</th>\n",
       "      <td>[]</td>\n",
       "      <td>RT @vBBlogDirectory: What is #Rosacea? therali...</td>\n",
       "    </tr>\n",
       "    <tr>\n",
       "      <th>174</th>\n",
       "      <td>[]</td>\n",
       "      <td>LightFusion? LED Photofacial</td>\n",
       "    </tr>\n",
       "    <tr>\n",
       "      <th>213</th>\n",
       "      <td>[solution, skincare]</td>\n",
       "      <td>RT @Theralight: Is light therapy the solution ...</td>\n",
       "    </tr>\n",
       "    <tr>\n",
       "      <th>...</th>\n",
       "      <td>...</td>\n",
       "      <td>...</td>\n",
       "    </tr>\n",
       "    <tr>\n",
       "      <th>7866</th>\n",
       "      <td>[breakout, highly, suggest, really, work, look...</td>\n",
       "      <td>If you have acne or have a bad breakout I high...</td>\n",
       "    </tr>\n",
       "    <tr>\n",
       "      <th>7869</th>\n",
       "      <td>[]</td>\n",
       "      <td>RT @LarissaCenter: Bio-Inflamed Acne Light The...</td>\n",
       "    </tr>\n",
       "    <tr>\n",
       "      <th>7871</th>\n",
       "      <td>[ultrasonic, ultrasound, photon, beauty, machi...</td>\n",
       "      <td>3Mhz Ultrasonic Ultrasound LED Light Therapy P...</td>\n",
       "    </tr>\n",
       "    <tr>\n",
       "      <th>7875</th>\n",
       "      <td>[]</td>\n",
       "      <td>RT @Theralight: What Does #Rosacea Look Like? ...</td>\n",
       "    </tr>\n",
       "    <tr>\n",
       "      <th>7880</th>\n",
       "      <td>[trying, awesome, available]</td>\n",
       "      <td>@vylamm trying out our awesome new @celluma_le...</td>\n",
       "    </tr>\n",
       "    <tr>\n",
       "      <th>7882</th>\n",
       "      <td>[today, marvelous, first, first, preparation, ...</td>\n",
       "      <td>Today was a marvelous day of firsts. First @_o...</td>\n",
       "    </tr>\n",
       "    <tr>\n",
       "      <th>7884</th>\n",
       "      <td>[absolutely, fabulous, spent, huntington, dire...</td>\n",
       "      <td>Absolutely fabulous day spent in Huntington LI...</td>\n",
       "    </tr>\n",
       "    <tr>\n",
       "      <th>7887</th>\n",
       "      <td>[clear, product, emits]</td>\n",
       "      <td>Lumie Clear is a light-therapy product which e...</td>\n",
       "    </tr>\n",
       "    <tr>\n",
       "      <th>7888</th>\n",
       "      <td>[amazing, circulation, healing]</td>\n",
       "      <td>Red light therapy is amazing for circulation &amp;...</td>\n",
       "    </tr>\n",
       "    <tr>\n",
       "      <th>7902</th>\n",
       "      <td>[professional, aesthetic, color]</td>\n",
       "      <td>DEESSE Professional LED Facial Mask, Home Aest...</td>\n",
       "    </tr>\n",
       "    <tr>\n",
       "      <th>7906</th>\n",
       "      <td>[]</td>\n",
       "      <td>RT @Theralight: Why non-LED light therapy is b...</td>\n",
       "    </tr>\n",
       "    <tr>\n",
       "      <th>7912</th>\n",
       "      <td>[photon, activating, wrinkle]</td>\n",
       "      <td>RED BLUE Anti-Aging LED Photon Light Therapy.C...</td>\n",
       "    </tr>\n",
       "    <tr>\n",
       "      <th>7914</th>\n",
       "      <td>[received, tried]</td>\n",
       "      <td>@Neutrogena I just received my light therapy a...</td>\n",
       "    </tr>\n",
       "    <tr>\n",
       "      <th>7932</th>\n",
       "      <td>[creator, collection, arcade, ready, comment, ...</td>\n",
       "      <td>AO\\n\\nbarberyumyum\\n\\nBody Lunguage SLC\\n\\nCRE...</td>\n",
       "    </tr>\n",
       "    <tr>\n",
       "      <th>7937</th>\n",
       "      <td>[]</td>\n",
       "      <td>#weightloss illuMask Acne Light Therapy Mask ?...</td>\n",
       "    </tr>\n",
       "    <tr>\n",
       "      <th>7943</th>\n",
       "      <td>[]</td>\n",
       "      <td>RT @vBBlogDirectory: What is #Rosacea? therali...</td>\n",
       "    </tr>\n",
       "    <tr>\n",
       "      <th>7946</th>\n",
       "      <td>[radio, frequency, photon, beauty]</td>\n",
       "      <td>Mesotherapy Electroporation RF Radio Frequency...</td>\n",
       "    </tr>\n",
       "    <tr>\n",
       "      <th>7948</th>\n",
       "      <td>[]</td>\n",
       "      <td>What Is Anti-Ageing Omnilux Light Therapy For ...</td>\n",
       "    </tr>\n",
       "    <tr>\n",
       "      <th>7949</th>\n",
       "      <td>[double, edged, sword, thing, autumnal, goddam...</td>\n",
       "      <td>This time of year is such a double edged sword...</td>\n",
       "    </tr>\n",
       "    <tr>\n",
       "      <th>7950</th>\n",
       "      <td>[effect, bacteria, cause, spot, pimple, great,...</td>\n",
       "      <td>led mask \\nEffects of led facial main\\nKill ba...</td>\n",
       "    </tr>\n",
       "    <tr>\n",
       "      <th>7956</th>\n",
       "      <td>[]</td>\n",
       "      <td>RT @vBBlogDirectory: What Does #Rosacea Look L...</td>\n",
       "    </tr>\n",
       "    <tr>\n",
       "      <th>7959</th>\n",
       "      <td>[]</td>\n",
       "      <td>What Does #Rosacea Look Like? theralightinc.co...</td>\n",
       "    </tr>\n",
       "    <tr>\n",
       "      <th>7960</th>\n",
       "      <td>[smart, sleep, insomnia, night, shift, worker,...</td>\n",
       "      <td>Can a smart sleep mask cure insomnia and jet l...</td>\n",
       "    </tr>\n",
       "    <tr>\n",
       "      <th>7964</th>\n",
       "      <td>[enjoy, learn, facial, beautiful, happy]</td>\n",
       "      <td>Enjoy your skin! Learn about LED light therapy...</td>\n",
       "    </tr>\n",
       "    <tr>\n",
       "      <th>7966</th>\n",
       "      <td>[gadget, range, drone, mirror, morning, beauty...</td>\n",
       "      <td>These June 2016 gadgets range from fire-starti...</td>\n",
       "    </tr>\n",
       "    <tr>\n",
       "      <th>7969</th>\n",
       "      <td>[]</td>\n",
       "      <td>10 Tips to Get the Most Out of Light Therapy p...</td>\n",
       "    </tr>\n",
       "    <tr>\n",
       "      <th>7971</th>\n",
       "      <td>[larry, developed, device, reduce, fatigue, ca...</td>\n",
       "      <td>RT @StanfordMedX: Larry Pederson (@litebook) h...</td>\n",
       "    </tr>\n",
       "    <tr>\n",
       "      <th>7978</th>\n",
       "      <td>[great, product, revive, coverage, system, ter...</td>\n",
       "      <td>Great Product!: Revive dpl Wide Coverage LED L...</td>\n",
       "    </tr>\n",
       "    <tr>\n",
       "      <th>7987</th>\n",
       "      <td>[caribbean, review, caribbean, review]</td>\n",
       "      <td>Caribbean Sun Light Therapy Acne Treatment Rev...</td>\n",
       "    </tr>\n",
       "    <tr>\n",
       "      <th>7992</th>\n",
       "      <td>[avoiding, estrogen, death, nearly, woman, study]</td>\n",
       "      <td>Avoiding estrogen therapy led to deaths of nea...</td>\n",
       "    </tr>\n",
       "  </tbody>\n",
       "</table>\n",
       "<p>1437 rows × 2 columns</p>\n",
       "</div>"
      ],
      "text/plain": [
       "                                                    bow  \\\n",
       "11                    [intranasal, infrared, naturally]   \n",
       "13                                                   []   \n",
       "31                                    [skincare, issue]   \n",
       "41    [highly, effective, outpatient, condition, inc...   \n",
       "48                  [health, color, skincare, clearing]   \n",
       "49                                  [control, skincare]   \n",
       "52               [electric, massage, photon, vibrating]   \n",
       "66                              [added, video, smacker]   \n",
       "69                                                   []   \n",
       "70                                                   []   \n",
       "73                                      [people, tried]   \n",
       "83                               [interested, skincare]   \n",
       "87                     [spot, damaged, summer, patient]   \n",
       "93             [wonder, benefit, dermatology, skincare]   \n",
       "98                               [angel, photon, green]   \n",
       "100   [painless, system, stimulates, collagen, treat...   \n",
       "103                              [attention, available]   \n",
       "105              [dimension, retina, antibiotic, month]   \n",
       "108                                   [skincare, white]   \n",
       "111   [looking, device, shoulder, recover, surgery, ...   \n",
       "121                                     [photon, aging]   \n",
       "123                                                  []   \n",
       "131                                                  []   \n",
       "140                                                  []   \n",
       "141                                                  []   \n",
       "151                                [solution, skincare]   \n",
       "159   [visited, celebrity, love, space, futuristic, ...   \n",
       "162                                                  []   \n",
       "174                                                  []   \n",
       "213                                [solution, skincare]   \n",
       "...                                                 ...   \n",
       "7866  [breakout, highly, suggest, really, work, look...   \n",
       "7869                                                 []   \n",
       "7871  [ultrasonic, ultrasound, photon, beauty, machi...   \n",
       "7875                                                 []   \n",
       "7880                       [trying, awesome, available]   \n",
       "7882  [today, marvelous, first, first, preparation, ...   \n",
       "7884  [absolutely, fabulous, spent, huntington, dire...   \n",
       "7887                            [clear, product, emits]   \n",
       "7888                    [amazing, circulation, healing]   \n",
       "7902                   [professional, aesthetic, color]   \n",
       "7906                                                 []   \n",
       "7912                      [photon, activating, wrinkle]   \n",
       "7914                                  [received, tried]   \n",
       "7932  [creator, collection, arcade, ready, comment, ...   \n",
       "7937                                                 []   \n",
       "7943                                                 []   \n",
       "7946                 [radio, frequency, photon, beauty]   \n",
       "7948                                                 []   \n",
       "7949  [double, edged, sword, thing, autumnal, goddam...   \n",
       "7950  [effect, bacteria, cause, spot, pimple, great,...   \n",
       "7956                                                 []   \n",
       "7959                                                 []   \n",
       "7960  [smart, sleep, insomnia, night, shift, worker,...   \n",
       "7964           [enjoy, learn, facial, beautiful, happy]   \n",
       "7966  [gadget, range, drone, mirror, morning, beauty...   \n",
       "7969                                                 []   \n",
       "7971  [larry, developed, device, reduce, fatigue, ca...   \n",
       "7978  [great, product, revive, coverage, system, ter...   \n",
       "7987             [caribbean, review, caribbean, review]   \n",
       "7992  [avoiding, estrogen, death, nearly, woman, study]   \n",
       "\n",
       "                                          original_text  \n",
       "11    $499 VieLight Intranasal Light Therapy 810 Inf...  \n",
       "13    RT @Theralight: Why non-LED light therapy is b...  \n",
       "31    have any #skincare issues? #olivegold03 and li...  \n",
       "41    Light therapy is a highly effective outpatient...  \n",
       "48    RT @WXU_DEZ_025: #Health #Acne sherif.ws/acne/...  \n",
       "49    Take control of your #rosacea with an #IPL #Ph...  \n",
       "52    2 in 1 Electric LED Therapy Eye Care Massage P...  \n",
       "66    I added a video to a @YouTube playlist youtu.b...  \n",
       "69    RT @Theralight: LOVE YOUR SKIN! theralightinc....  \n",
       "70    10 Tips to Get the Most Out of Light Therapy p...  \n",
       "73    #People  We Tried It: Acne Light Therapy Treat...  \n",
       "83    Interested in having a Red Light Therapy?\\nRea...  \n",
       "87    #photorejuvenation ??\\nGet rid of any sun spot...  \n",
       "93    RT @Theralight: Wonder about the many benefits...  \n",
       "98    Angel Kiss Facial Care Led Mask - LED Photon T...  \n",
       "100   Light therapy with the painless Omnilux system...  \n",
       "103   Attention! New LED light therapy now available...  \n",
       "105   @hooksalexis I use skin dimensions face wash f...  \n",
       "108   ReVive Light Therapy C-40 Acne Treatment Skinc...  \n",
       "111   While looking for a NIR light therapy device t...  \n",
       "121   Photon Skin Facial Mask LED Light Therapy Phot...  \n",
       "123   RT @vBBlogDirectory: What Does #Rosacea Look L...  \n",
       "131   10 Tips to Get the Most Out of Light Therapy p...  \n",
       "140   Light therapy mask!! #mask #facial #lightthera...  \n",
       "141   RT @vBBlogDirectory: What Does #Rosacea Look L...  \n",
       "151   RT @Theralight: Is light therapy the solution ...  \n",
       "159   We visited the glow-getter and celebrity facia...  \n",
       "162   RT @vBBlogDirectory: What is #Rosacea? therali...  \n",
       "174                        LightFusion? LED Photofacial  \n",
       "213   RT @Theralight: Is light therapy the solution ...  \n",
       "...                                                 ...  \n",
       "7866  If you have acne or have a bad breakout I high...  \n",
       "7869  RT @LarissaCenter: Bio-Inflamed Acne Light The...  \n",
       "7871  3Mhz Ultrasonic Ultrasound LED Light Therapy P...  \n",
       "7875  RT @Theralight: What Does #Rosacea Look Like? ...  \n",
       "7880  @vylamm trying out our awesome new @celluma_le...  \n",
       "7882  Today was a marvelous day of firsts. First @_o...  \n",
       "7884  Absolutely fabulous day spent in Huntington LI...  \n",
       "7887  Lumie Clear is a light-therapy product which e...  \n",
       "7888  Red light therapy is amazing for circulation &...  \n",
       "7902  DEESSE Professional LED Facial Mask, Home Aest...  \n",
       "7906  RT @Theralight: Why non-LED light therapy is b...  \n",
       "7912  RED BLUE Anti-Aging LED Photon Light Therapy.C...  \n",
       "7914  @Neutrogena I just received my light therapy a...  \n",
       "7932  AO\\n\\nbarberyumyum\\n\\nBody Lunguage SLC\\n\\nCRE...  \n",
       "7937  #weightloss illuMask Acne Light Therapy Mask ?...  \n",
       "7943  RT @vBBlogDirectory: What is #Rosacea? therali...  \n",
       "7946  Mesotherapy Electroporation RF Radio Frequency...  \n",
       "7948  What Is Anti-Ageing Omnilux Light Therapy For ...  \n",
       "7949  This time of year is such a double edged sword...  \n",
       "7950  led mask \\nEffects of led facial main\\nKill ba...  \n",
       "7956  RT @vBBlogDirectory: What Does #Rosacea Look L...  \n",
       "7959  What Does #Rosacea Look Like? theralightinc.co...  \n",
       "7960  Can a smart sleep mask cure insomnia and jet l...  \n",
       "7964  Enjoy your skin! Learn about LED light therapy...  \n",
       "7966  These June 2016 gadgets range from fire-starti...  \n",
       "7969  10 Tips to Get the Most Out of Light Therapy p...  \n",
       "7971  RT @StanfordMedX: Larry Pederson (@litebook) h...  \n",
       "7978  Great Product!: Revive dpl Wide Coverage LED L...  \n",
       "7987  Caribbean Sun Light Therapy Acne Treatment Rev...  \n",
       "7992  Avoiding estrogen therapy led to deaths of nea...  \n",
       "\n",
       "[1437 rows x 2 columns]"
      ]
     },
     "execution_count": 69,
     "metadata": {},
     "output_type": "execute_result"
    }
   ],
   "source": [
    "df_bow[df_bow['conf_score']<0.5][['bow','original_text']]"
   ]
  },
  {
   "cell_type": "code",
   "execution_count": 29,
   "metadata": {
    "collapsed": false
   },
   "outputs": [],
   "source": [
    "assign_dict = dict()\n",
    "for i in range(len(corpus)):\n",
    "        key = (sorted(lda[corpus[i]],key = lambda x:x[1],reverse = True)[0][0])\n",
    "        assign_dict[key] = assign_dict.get(key, []) + [sorted(lda[corpus[i]],key = lambda x:x[1],reverse = True)[0][1]]"
   ]
  },
  {
   "cell_type": "code",
   "execution_count": 30,
   "metadata": {
    "collapsed": false
   },
   "outputs": [],
   "source": [
    "count_assign = []\n",
    "conf_score = []\n",
    "for key in assign_dict.keys():\n",
    "    count = assign_dict.get(key, [])\n",
    "    count_assign.append(len(count))\n",
    "    conf_score.append(np.mean(count))"
   ]
  },
  {
   "cell_type": "code",
   "execution_count": 31,
   "metadata": {
    "collapsed": false
   },
   "outputs": [
    {
     "data": {
      "text/plain": [
       "[<matplotlib.lines.Line2D at 0x125107d0>]"
      ]
     },
     "execution_count": 31,
     "metadata": {},
     "output_type": "execute_result"
    },
    {
     "data": {
      "image/png": "[encoded data removed]",
      "text/plain": [
       "<matplotlib.figure.Figure at 0xa7533b0>"
      ]
     },
     "metadata": {},
     "output_type": "display_data"
    }
   ],
   "source": [
    "plt.plot(conf_score)"
   ]
  },
  {
   "cell_type": "code",
   "execution_count": 20,
   "metadata": {
    "collapsed": false
   },
   "outputs": [
    {
     "data": {
      "text/plain": [
       "<matplotlib.figure.Figure at 0xeb4bdf0>"
      ]
     },
     "execution_count": 20,
     "metadata": {},
     "output_type": "execute_result"
    },
    {
     "data": {
      "image/png": "[encoded data removed]",
      "text/plain": [
       "<matplotlib.figure.Figure at 0xeb627f0>"
      ]
     },
     "metadata": {},
     "output_type": "display_data"
    },
    {
     "data": {
      "text/plain": [
       "<matplotlib.figure.Figure at 0xeb4bdf0>"
      ]
     },
     "metadata": {},
     "output_type": "display_data"
    }
   ],
   "source": [
    "plt.pie(count_assign)\n",
    "plt.figure(figsize = (5,5))"
   ]
  },
  {
   "cell_type": "code",
   "execution_count": 11,
   "metadata": {
    "collapsed": false
   },
   "outputs": [
    {
     "data": {
      "text/plain": [
       "[<matplotlib.lines.Line2D at 0x1830430>]"
      ]
     },
     "execution_count": 11,
     "metadata": {},
     "output_type": "execute_result"
    },
    {
     "data": {
      "image/png": "[encoded data removed]",
      "text/plain": [
       "<matplotlib.figure.Figure at 0x14e1e50>"
      ]
     },
     "metadata": {},
     "output_type": "display_data"
    }
   ],
   "source": [
    "plt.plot(count_assign)"
   ]
  },
  {
   "cell_type": "code",
   "execution_count": 12,
   "metadata": {
    "collapsed": false
   },
   "outputs": [
    {
     "data": {
      "text/plain": [
       "8001"
      ]
     },
     "execution_count": 12,
     "metadata": {},
     "output_type": "execute_result"
    }
   ],
   "source": [
    "sum(count_assign)"
   ]
  },
  {
   "cell_type": "markdown",
   "metadata": {
    "collapsed": true
   },
   "source": [
    "Now we try to use TFIDF"
   ]
  },
  {
   "cell_type": "code",
   "execution_count": 24,
   "metadata": {
    "collapsed": false
   },
   "outputs": [
    {
     "data": {
      "text/plain": [
       "[(0,\n",
       "  '0.027*\"skincare\" + 0.020*\"ultrasound\" + 0.019*\"benefit\" + 0.018*\"ultrasonic\" + 0.017*\"vbblogdirectory\" + 0.016*\"psoriasis\" + 0.016*\"treat\" + 0.016*\"violet\" + 0.016*\"system\" + 0.015*\"machine\" + 0.015*\"wrinkle\" + 0.015*\"suprlykgx\" + 0.014*\"theralight\" + 0.013*\"intensity\" + 0.013*\"condition\"'),\n",
       " (1,\n",
       "  '0.023*\"skincare\" + 0.017*\"spot\" + 0.012*\"revive\" + 0.011*\"photofacial\" + 0.010*\"today\" + 0.010*\"treat\" + 0.010*\"rosacea\" + 0.009*\"complexion\" + 0.009*\"photorejuvenation\" + 0.009*\"essential\" + 0.009*\"freckle\" + 0.008*\"winter\" + 0.008*\"collagen\" + 0.008*\"industry\" + 0.008*\"relief\"'),\n",
       " (2,\n",
       "  '0.011*\"issue\" + 0.008*\"larissacenter\" + 0.007*\"stdosrawcint\" + 0.007*\"needle\" + 0.006*\"downtime\" + 0.006*\"solution\" + 0.006*\"jerawat\" + 0.006*\"pictwittercomaojlvutcj\" + 0.006*\"dengan\" + 0.006*\"googlpexzmz\" + 0.006*\"readmore\" + 0.006*\"hilang\" + 0.005*\"whyuneedlighttherapy\" + 0.005*\"olivegold\" + 0.005*\"frequency\"'),\n",
       " (3,\n",
       "  '0.016*\"beauty\" + 0.014*\"cosmetic\" + 0.013*\"device\" + 0.013*\"wrinkle\" + 0.009*\"manhattan\" + 0.009*\"added\" + 0.009*\"brooklyn\" + 0.009*\"newyork\" + 0.008*\"natural\" + 0.008*\"juvederm\" + 0.008*\"botox\" + 0.007*\"radiesse\" + 0.007*\"restylane\" + 0.007*\"skin\" + 0.007*\"neutrogena\"'),\n",
       " (4,\n",
       "  '0.024*\"beauty\" + 0.008*\"photon\" + 0.008*\"rejuvenation\" + 0.007*\"device\" + 0.007*\"video\" + 0.006*\"sherifwsmainphplink\" + 0.006*\"laser\" + 0.005*\"phototherapy\" + 0.005*\"color\" + 0.005*\"watch\" + 0.005*\"patient\" + 0.005*\"dermatology\" + 0.005*\"system\" + 0.004*\"medspa\" + 0.004*\"photofacial\"'),\n",
       " (5,\n",
       "  '0.021*\"vbblogdirectory\" + 0.017*\"cause\" + 0.013*\"rosacea\" + 0.010*\"cell\" + 0.010*\"theralight\" + 0.010*\"theralightinccomlighttherapy\" + 0.009*\"lighttherapy\" + 0.008*\"wavelength\" + 0.008*\"antiaging\" + 0.008*\"prevent\" + 0.008*\"skincare\" + 0.007*\"create\" + 0.007*\"layer\" + 0.007*\"people\" + 0.007*\"regenerate\"'),\n",
       " (6,\n",
       "  '0.020*\"rosacea\" + 0.019*\"skincare\" + 0.018*\"think\" + 0.017*\"system\" + 0.016*\"theralightinccomlighttherapy\" + 0.016*\"theralight\" + 0.014*\"vbblogdirectory\" + 0.012*\"theralightinccomversaclearfea\" + 0.010*\"quality\" + 0.009*\"perhaps\" + 0.009*\"youve\" + 0.007*\"salon\" + 0.006*\"machine\" + 0.006*\"phototherapy\" + 0.006*\"equipment\"'),\n",
       " (7,\n",
       "  '0.032*\"photon\" + 0.031*\"rejuvenation\" + 0.026*\"color\" + 0.018*\"neutrogena\" + 0.018*\"maskyoself\" + 0.017*\"oliviaholt\" + 0.016*\"ntgspokesperson\" + 0.015*\"caribbean\" + 0.015*\"beauty\" + 0.014*\"aging\" + 0.013*\"remedy\" + 0.012*\"healthbeautyitemsinfohlthbtytms\" + 0.011*\"doxycycline\" + 0.011*\"healing\" + 0.009*\"skincare\"'),\n",
       " (8,\n",
       "  '0.014*\"violet\" + 0.014*\"skincarebenefits\" + 0.014*\"somacomskincarebenef\" + 0.013*\"theralight\" + 0.013*\"neutrogena\" + 0.013*\"problem\" + 0.010*\"aging\" + 0.009*\"fight\" + 0.009*\"related\" + 0.009*\"skincare\" + 0.009*\"review\" + 0.009*\"bluemd\" + 0.008*\"probably\" + 0.008*\"renowned\" + 0.007*\"safest\"'),\n",
       " (9,\n",
       "  '0.101*\"technology\" + 0.100*\"energy\" + 0.100*\"winter\" + 0.100*\"panel\" + 0.100*\"brighten\" + 0.100*\"environment\" + 0.100*\"stop\" + 0.100*\"takebackyournews\" + 0.003*\"antiaging\" + 0.003*\"wrinkle\" + 0.002*\"treatment\" + 0.002*\"green\" + 0.002*\"light\" + 0.002*\"photo\" + 0.002*\"thank\"')]"
      ]
     },
     "execution_count": 24,
     "metadata": {},
     "output_type": "execute_result"
    }
   ],
   "source": [
    "tfidf = models.TfidfModel(corpus)\n",
    "corpus_tfidf = tfidf[corpus]\n",
    "num_topics = 10\n",
    "lda_tfidf = LdaModel(corpus_tfidf, id2word=dictionary, num_topics=num_topics)\n",
    "lda.show_topics(num_topics,15)"
   ]
  },
  {
   "cell_type": "code",
   "execution_count": 115,
   "metadata": {
    "collapsed": true
   },
   "outputs": [],
   "source": [
    "assign_dict = dict()\n",
    "for i in range(len(corpus_tfidf)):\n",
    "        key = (sorted(lda_tfidf[corpus_tfidf[i]],key = lambda x:x[1],reverse = True)[0][0])\n",
    "        assign_dict[key] = assign_dict.get(key, []) + [sorted(lda_tfidf[corpus_tfidf[i]],key = lambda x:x[1],reverse = True)[0][1]]\n",
    "count_assign = []\n",
    "conf_score = []\n",
    "for key in assign_dict.keys():\n",
    "    count = assign_dict.get(key, [])\n",
    "    count_assign.append(len(count))\n",
    "    conf_score.append(np.mean(count))"
   ]
  },
  {
   "cell_type": "code",
   "execution_count": 116,
   "metadata": {
    "collapsed": false
   },
   "outputs": [
    {
     "data": {
      "text/plain": [
       "[<matplotlib.lines.Line2D at 0x132af1b0>]"
      ]
     },
     "execution_count": 116,
     "metadata": {},
     "output_type": "execute_result"
    },
    {
     "data": {
      "image/png": "[encoded data removed]",
      "text/plain": [
       "<matplotlib.figure.Figure at 0x1324be30>"
      ]
     },
     "metadata": {},
     "output_type": "display_data"
    }
   ],
   "source": [
    "plt.plot(count_assign)"
   ]
  },
  {
   "cell_type": "code",
   "execution_count": 117,
   "metadata": {
    "collapsed": false
   },
   "outputs": [
    {
     "data": {
      "text/plain": [
       "[<matplotlib.lines.Line2D at 0x135a3ef0>]"
      ]
     },
     "execution_count": 117,
     "metadata": {},
     "output_type": "execute_result"
    },
    {
     "data": {
      "image/png": "[encoded data removed]",
      "text/plain": [
       "<matplotlib.figure.Figure at 0x13240f10>"
      ]
     },
     "metadata": {},
     "output_type": "display_data"
    }
   ],
   "source": [
    "plt.plot(conf_score)"
   ]
  },
  {
   "cell_type": "code",
   "execution_count": 6,
   "metadata": {
    "collapsed": true
   },
   "outputs": [],
   "source": [
    "import nltk\n",
    "import itertools\n",
    "from collections import Counter\n",
    "import operator"
   ]
  },
  {
   "cell_type": "code",
   "execution_count": 7,
   "metadata": {
    "collapsed": true
   },
   "outputs": [],
   "source": [
    "corpus_with_pos = list(map(lambda x:nltk.pos_tag(x),cleaned_list))"
   ]
  },
  {
   "cell_type": "code",
   "execution_count": 8,
   "metadata": {
    "collapsed": false
   },
   "outputs": [
    {
     "data": {
      "text/plain": [
       "[('NN', 51755),\n",
       " ('JJ', 17202),\n",
       " ('VBG', 5201),\n",
       " ('VBD', 2693),\n",
       " ('RB', 2585),\n",
       " ('NNS', 2270),\n",
       " ('VBP', 1925),\n",
       " ('VBN', 1283),\n",
       " ('VB', 1117),\n",
       " ('IN', 902),\n",
       " ('VBZ', 743),\n",
       " ('JJR', 586),\n",
       " ('PRP', 413),\n",
       " ('JJS', 200),\n",
       " ('RBR', 187),\n",
       " ('MD', 172),\n",
       " ('CD', 158),\n",
       " ('FW', 137),\n",
       " ('DT', 104),\n",
       " ('NNP', 97),\n",
       " ('CC', 45),\n",
       " ('WRB', 44),\n",
       " ('EX', 12),\n",
       " ('WP', 11),\n",
       " ('RP', 8),\n",
       " ('WDT', 7),\n",
       " ('RBS', 6),\n",
       " ('POS', 5),\n",
       " ('WP$', 2),\n",
       " ('PRP$', 1)]"
      ]
     },
     "execution_count": 8,
     "metadata": {},
     "output_type": "execute_result"
    }
   ],
   "source": [
    "sorted(dict(Counter(list(map(lambda x: x[1],sum(corpus_with_pos,[]))))).items(),key=operator.itemgetter(1),reverse = True)"
   ]
  },
  {
   "cell_type": "code",
   "execution_count": 9,
   "metadata": {
    "collapsed": false
   },
   "outputs": [
    {
     "name": "stderr",
     "output_type": "stream",
     "text": [
      "C:\\Users\\mnan\\Anaconda3\\lib\\site-packages\\ipykernel\\__main__.py:2: FutureWarning: sort(columns=....) is deprecated, use sort_values(by=.....)\n",
      "  from ipykernel import kernelapp as app\n"
     ]
    },
    {
     "data": {
      "text/plain": [
       "<matplotlib.axes._subplots.AxesSubplot at 0xf28f4b0>"
      ]
     },
     "execution_count": 9,
     "metadata": {},
     "output_type": "execute_result"
    },
    {
     "data": {
      "image/png": "[encoded data removed]",
      "text/plain": [
       "<matplotlib.figure.Figure at 0xa687130>"
      ]
     },
     "metadata": {},
     "output_type": "display_data"
    }
   ],
   "source": [
    "count_pos_dict = dict(Counter(list(map(lambda x: x[1],sum(corpus_with_pos,[])))))\n",
    "pd.DataFrame({'count':list(count_pos_dict.values()),'pos':list(count_pos_dict.keys())}).set_index('pos').sort('count',ascending=False).plot(kind = 'bar')"
   ]
  },
  {
   "cell_type": "code",
   "execution_count": 10,
   "metadata": {
    "collapsed": true
   },
   "outputs": [],
   "source": [
    "#keep_pos = ['JJ','JJS','JJR','NN','NNP','RB','VB','VBP','VBZ','RBR','VBD','VBN']\n",
    "keep_pos = ['NN','NNP']"
   ]
  },
  {
   "cell_type": "code",
   "execution_count": 11,
   "metadata": {
    "collapsed": false
   },
   "outputs": [
    {
     "data": {
      "text/plain": [
       "[('NNP', 97), ('NN', 51755)]"
      ]
     },
     "execution_count": 11,
     "metadata": {},
     "output_type": "execute_result"
    }
   ],
   "source": [
    "list(filter(lambda x: x[0] in keep_pos,dict(Counter(list(map(lambda x: x[1],sum(corpus_with_pos,[]))))).items()))"
   ]
  },
  {
   "cell_type": "code",
   "execution_count": 12,
   "metadata": {
    "collapsed": false
   },
   "outputs": [],
   "source": [
    "filtered_corpus_with_pos=[]\n",
    "for i in corpus_with_pos:\n",
    "    filtered_corpus_with_pos.append(list(filter(lambda x: x[1] in keep_pos,i)))"
   ]
  },
  {
   "cell_type": "code",
   "execution_count": 13,
   "metadata": {
    "collapsed": false
   },
   "outputs": [],
   "source": [
    "filtered_corpus_by_pos = []\n",
    "for i in filtered_corpus_with_pos:\n",
    "    filtered_corpus_by_pos.append(list(map(lambda x: x[0],i)))"
   ]
  },
  {
   "cell_type": "code",
   "execution_count": 14,
   "metadata": {
    "collapsed": false
   },
   "outputs": [],
   "source": [
    "dictionary_pos = Dictionary(filtered_corpus_by_pos)\n",
    "corpus_pos = [dictionary_pos.doc2bow(text) for text in filtered_corpus_by_pos]"
   ]
  },
  {
   "cell_type": "code",
   "execution_count": 15,
   "metadata": {
    "collapsed": false
   },
   "outputs": [
    {
     "data": {
      "text/plain": [
       "[(0,\n",
       "  '0.014*\"realize\" + 0.012*\"remedy\" + 0.011*\"theralightinccomlighttherapy\" + 0.011*\"rosacea\" + 0.009*\"wrinkle\"'),\n",
       " (1,\n",
       "  '0.012*\"theralight\" + 0.012*\"theralightinccomhowtocontrol\" + 0.011*\"inflammation\" + 0.011*\"fight\" + 0.011*\"problem\"'),\n",
       " (2,\n",
       "  '0.022*\"maskyoself\" + 0.014*\"pictwittercomrzbbblv\" + 0.011*\"pictwittercomifokyuhjw\" + 0.008*\"salon\" + 0.008*\"nutrition\"'),\n",
       " (3,\n",
       "  '0.025*\"rejuvenation\" + 0.021*\"photon\" + 0.020*\"color\" + 0.019*\"beauty\" + 0.011*\"owlyzpmdw\"'),\n",
       " (4,\n",
       "  '0.151*\"brighten\" + 0.149*\"environment\" + 0.140*\"panel\" + 0.138*\"winter\" + 0.127*\"energy\"'),\n",
       " (5,\n",
       "  '0.011*\"pictwittercomfzhkqbcyu\" + 0.010*\"quality\" + 0.010*\"system\" + 0.008*\"beauty\" + 0.008*\"menggabungkan\"'),\n",
       " (6,\n",
       "  '0.015*\"photo\" + 0.015*\"thank\" + 0.015*\"goodness\" + 0.014*\"pictwittercomrxmlgmur\" + 0.011*\"bluemd\"'),\n",
       " (7,\n",
       "  '0.009*\"cell\" + 0.009*\"theralightinccomredlighttrea\" + 0.009*\"wavelength\" + 0.009*\"create\" + 0.009*\"layer\"'),\n",
       " (8,\n",
       "  '0.043*\"theralightinccomlighttherapy\" + 0.039*\"rosacea\" + 0.027*\"vbblogdirectory\" + 0.022*\"pictwittercomjgyecog\" + 0.011*\"pictwittercomrjosgykzb\"'),\n",
       " (9,\n",
       "  '0.029*\"skincare\" + 0.027*\"violet\" + 0.026*\"suprlykgx\" + 0.026*\"benefit\" + 0.016*\"psoriasis\"')]"
      ]
     },
     "execution_count": 15,
     "metadata": {},
     "output_type": "execute_result"
    }
   ],
   "source": [
    "tfidf_by_pos = models.TfidfModel(corpus_pos)\n",
    "corpus_by_pos_tfidf = tfidf_by_pos[corpus_pos]\n",
    "num_topics = 10\n",
    "lda_pos_tfidf = LdaModel(corpus_by_pos_tfidf, id2word=dictionary_pos, num_topics=num_topics)\n",
    "lda_pos_tfidf.show_topics(num_topics,5)"
   ]
  },
  {
   "cell_type": "code",
   "execution_count": 16,
   "metadata": {
    "collapsed": false
   },
   "outputs": [
    {
     "data": {
      "text/plain": [
       "[(0,\n",
       "  '0.030*\"spot\" + 0.021*\"treat\" + 0.017*\"photorejuvenation\" + 0.014*\"rosacea\" + 0.014*\"doxycycline\" + 0.013*\"video\" + 0.010*\"watch\" + 0.010*\"dermatology\" + 0.009*\"phototherapy\" + 0.009*\"medspa\"'),\n",
       " (1,\n",
       "  '0.136*\"energy\" + 0.135*\"technology\" + 0.135*\"winter\" + 0.135*\"panel\" + 0.135*\"environment\" + 0.135*\"brighten\" + 0.011*\"photon\" + 0.010*\"beauty\" + 0.009*\"rejuvenation\" + 0.007*\"color\"'),\n",
       " (2,\n",
       "  '0.030*\"beauty\" + 0.029*\"skincare\" + 0.020*\"device\" + 0.017*\"complexion\" + 0.016*\"oliviaholt\" + 0.015*\"treatin\" + 0.013*\"step\" + 0.012*\"intensity\" + 0.012*\"revivelight\" + 0.012*\"kathyireland\"'),\n",
       " (3,\n",
       "  '0.062*\"skincare\" + 0.050*\"vbblogdirectory\" + 0.035*\"rosacea\" + 0.035*\"benefit\" + 0.032*\"theralightinccomlighttherapy\" + 0.026*\"violet\" + 0.024*\"theralight\" + 0.024*\"suprlykgx\" + 0.018*\"issue\" + 0.015*\"today\"'),\n",
       " (4,\n",
       "  '0.022*\"maskyoself\" + 0.022*\"skincare\" + 0.019*\"system\" + 0.013*\"pictwittercomjgyecog\" + 0.013*\"solution\" + 0.012*\"pictwittercomrzbbblv\" + 0.012*\"microdermabrasion\" + 0.010*\"review\" + 0.010*\"grade\" + 0.009*\"pictwittercomifokyuhjw\"'),\n",
       " (5,\n",
       "  '0.017*\"photo\" + 0.013*\"thank\" + 0.013*\"prevent\" + 0.012*\"goodness\" + 0.012*\"pictwittercomrxmlgmur\" + 0.011*\"supriiih\" + 0.009*\"product\" + 0.009*\"treatment\" + 0.008*\"result\" + 0.008*\"center\"'),\n",
       " (6,\n",
       "  '0.031*\"psoriasis\" + 0.022*\"condition\" + 0.020*\"system\" + 0.017*\"healthbeautyitemsinfohlthbtytms\" + 0.014*\"vitiligo\" + 0.014*\"theralightinccomphysicianscl\" + 0.014*\"medicalgrade\" + 0.013*\"vbblogdirectory\" + 0.012*\"remedy\" + 0.010*\"relief\"'),\n",
       " (7,\n",
       "  '0.018*\"stdosrawcint\" + 0.017*\"bluemd\" + 0.016*\"system\" + 0.014*\"trophy\" + 0.012*\"skincare\" + 0.011*\"trophyskincomproductsbluemd\" + 0.011*\"medeliene\" + 0.009*\"stuff\" + 0.008*\"support\" + 0.008*\"theralightinccomversaclearfea\"'),\n",
       " (8,\n",
       "  '0.025*\"wrinkle\" + 0.022*\"rosacea\" + 0.017*\"toysandhobbiesinfotysndhbbs\" + 0.017*\"intensity\" + 0.015*\"theralightinccomlighttherapy\" + 0.012*\"healthbeautyitemsinfohlthbtytms\" + 0.012*\"machine\" + 0.012*\"photon\" + 0.011*\"frequency\" + 0.011*\"radio\"'),\n",
       " (9,\n",
       "  '0.019*\"wrinkle\" + 0.013*\"theralight\" + 0.013*\"brooklyn\" + 0.012*\"manhattan\" + 0.010*\"beauty\" + 0.010*\"newyork\" + 0.010*\"restylane\" + 0.010*\"inflammation\" + 0.010*\"study\" + 0.010*\"rejuvenation\"')]"
      ]
     },
     "execution_count": 16,
     "metadata": {},
     "output_type": "execute_result"
    }
   ],
   "source": [
    "num_topics = 10\n",
    "lda_pos = LdaModel(corpus_pos, id2word=dictionary_pos, num_topics=num_topics)\n",
    "lda_pos.show_topics(num_topics,10)"
   ]
  },
  {
   "cell_type": "code",
   "execution_count": null,
   "metadata": {
    "collapsed": true
   },
   "outputs": [],
   "source": []
  }
 ],
 "metadata": {
  "anaconda-cloud": {},
  "kernelspec": {
   "display_name": "Python [default]",
   "language": "python",
   "name": "python3"
  },
  "language_info": {
   "codemirror_mode": {
    "name": "ipython",
    "version": 3
   },
   "file_extension": ".py",
   "mimetype": "text/x-python",
   "name": "python",
   "nbconvert_exporter": "python",
   "pygments_lexer": "ipython3",
   "version": "3.5.2"
  }
 },
 "nbformat": 4,
 "nbformat_minor": 1
}
