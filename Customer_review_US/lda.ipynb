{
 "cells": [
  {
   "cell_type": "code",
   "execution_count": 3,
   "metadata": {
    "collapsed": false
   },
   "outputs": [
    {
     "name": "stderr",
     "output_type": "stream",
     "text": [
      "C:\\Users\\mnan\\Anaconda3\\lib\\site-packages\\gensim\\utils.py:840: UserWarning: detected Windows; aliasing chunkize to chunkize_serial\n",
      "  warnings.warn(\"detected Windows; aliasing chunkize to chunkize_serial\")\n",
      "C:\\Users\\mnan\\Anaconda3\\lib\\site-packages\\gensim\\utils.py:1015: UserWarning: Pattern library is not installed, lemmatization won't be available.\n",
      "  warnings.warn(\"Pattern library is not installed, lemmatization won't be available.\")\n"
     ]
    }
   ],
   "source": [
    "from gensim.models.ldamodel import LdaModel\n",
    "import gensim\n",
    "import pandas as pd\n",
    "import glob\n",
    "from nltk.corpus import stopwords\n",
    "import string\n",
    "from gensim import corpora,models\n",
    "from gensim.utils import lemmatize # Only keep nums\n",
    "from gensim.corpora import Dictionary\n",
    "%matplotlib inline\n",
    "import matplotlib.pyplot as plt\n",
    "from nltk.stem.wordnet import WordNetLemmatizer\n",
    "import sys\n",
    "import numpy as np"
   ]
  },
  {
   "cell_type": "code",
   "execution_count": 76,
   "metadata": {
    "collapsed": false
   },
   "outputs": [],
   "source": [
    "def process_text(content_list):\n",
    "    \"\"\"\n",
    "    stopwords\n",
    "    \n",
    "    punctuation\n",
    "    \n",
    "    digits\n",
    "    \n",
    "    english words\n",
    "    \n",
    "    \"\"\"\n",
    "    typical_words = ['light','therapy','facial','treatment']\n",
    "    stoplist = stopwords.words('english') + typical_words \n",
    "    \n",
    "    remove_digits = str.maketrans('', '', string.digits)\n",
    "    remove_punctuation = str.maketrans('', '', string.punctuation)\n",
    "    \n",
    "    dict_english = enchant.Dict(\"en_US\")\n",
    "    \n",
    "    lemma = WordNetLemmatizer()\n",
    "    \n",
    "    \n",
    "    content_cleaned =[i.translate(remove_digits) for i in content_list]\n",
    "    \n",
    "    content_cleaned = [i.translate(remove_punctuation) for i in content_cleaned]\n",
    "    \n",
    "    content_cleaned = [[lemma.lemmatize(word.lower()) for word in line.split()\n",
    "                        if (word.lower() not in stoplist) and dict_english.check(word.lower())==True] for line in content_cleaned]\n",
    "\n",
    "    return content_cleaned"
   ]
  },
  {
   "cell_type": "code",
   "execution_count": 78,
   "metadata": {
    "collapsed": false
   },
   "outputs": [
    {
     "name": "stdout",
     "output_type": "stream",
     "text": [
      "8001\n",
      "after process....\n",
      "8001\n"
     ]
    }
   ],
   "source": [
    "content = pd.read_csv('text.csv',encoding = 'iso-8859-1',header=None)\n",
    "content.columns = ['content']\n",
    "content['content']\n",
    "print(len(content))\n",
    "contendf_bowt_list = content['content'].values\n",
    "cleaned_list = process_text(content_list)\n",
    "print('after process....')\n",
    "print(len(cleaned_list))"
   ]
  },
  {
   "cell_type": "code",
   "execution_count": 81,
   "metadata": {
    "collapsed": false
   },
   "outputs": [
    {
     "data": {
      "text/plain": [
       "14"
      ]
     },
     "execution_count": 81,
     "metadata": {},
     "output_type": "execute_result"
    }
   ],
   "source": [
    "len(list(filter(lambda x:x==[],cleaned_list)))"
   ]
  },
  {
   "cell_type": "code",
   "execution_count": 82,
   "metadata": {
    "collapsed": true
   },
   "outputs": [],
   "source": [
    "dictionary = Dictionary(cleaned_list)\n",
    "corpus = [dictionary.doc2bow(text) for text in cleaned_list]"
   ]
  },
  {
   "cell_type": "code",
   "execution_count": 83,
   "metadata": {
    "collapsed": false
   },
   "outputs": [
    {
     "data": {
      "text/plain": [
       "[(0,\n",
       "  '0.027*\"violet\" + 0.016*\"benefit\" + 0.015*\"skin\" + 0.010*\"help\" + 0.008*\"low\" + 0.007*\"time\" + 0.007*\"black\" + 0.007*\"level\" + 0.006*\"red\" + 0.005*\"body\" + 0.005*\"muscle\" + 0.005*\"one\" + 0.005*\"mask\" + 0.005*\"led\" + 0.004*\"tone\"'),\n",
       " (1,\n",
       "  '0.056*\"led\" + 0.052*\"skin\" + 0.030*\"wrinkle\" + 0.026*\"acne\" + 0.015*\"care\" + 0.012*\"ultrasound\" + 0.012*\"ultrasonic\" + 0.012*\"blue\" + 0.011*\"high\" + 0.011*\"red\" + 0.010*\"intensity\" + 0.009*\"machine\" + 0.009*\"focused\" + 0.009*\"collagen\" + 0.008*\"rt\"'),\n",
       " (2,\n",
       "  '0.019*\"day\" + 0.017*\"new\" + 0.017*\"mask\" + 0.014*\"device\" + 0.013*\"rt\" + 0.013*\"exciting\" + 0.013*\"complete\" + 0.012*\"launching\" + 0.011*\"added\" + 0.007*\"medical\" + 0.007*\"led\" + 0.007*\"pub\" + 0.005*\"acne\" + 0.005*\"patient\" + 0.005*\"health\"'),\n",
       " (3,\n",
       "  '0.099*\"led\" + 0.061*\"mask\" + 0.056*\"skin\" + 0.048*\"acne\" + 0.042*\"beauty\" + 0.040*\"photon\" + 0.040*\"rejuvenation\" + 0.035*\"new\" + 0.028*\"color\" + 0.026*\"blue\" + 0.025*\"red\" + 0.018*\"care\" + 0.016*\"sun\" + 0.014*\"face\" + 0.012*\"healing\"'),\n",
       " (4,\n",
       "  '0.098*\"technology\" + 0.098*\"energy\" + 0.097*\"panel\" + 0.097*\"winter\" + 0.097*\"stop\" + 0.097*\"brighten\" + 0.097*\"news\" + 0.097*\"environment\" + 0.097*\"bus\" + 0.004*\"skin\" + 0.003*\"face\" + 0.003*\"cosmetic\" + 0.003*\"rt\" + 0.003*\"new\" + 0.002*\"red\"'),\n",
       " (5,\n",
       "  '0.016*\"skin\" + 0.014*\"today\" + 0.013*\"led\" + 0.012*\"skincare\" + 0.011*\"rt\" + 0.009*\"hot\" + 0.009*\"here\" + 0.009*\"eye\" + 0.009*\"industry\" + 0.008*\"work\" + 0.008*\"get\" + 0.008*\"acne\" + 0.008*\"stuff\" + 0.008*\"red\" + 0.007*\"dark\"'),\n",
       " (6,\n",
       "  '0.032*\"acne\" + 0.032*\"rt\" + 0.020*\"mask\" + 0.019*\"skin\" + 0.018*\"spot\" + 0.015*\"photo\" + 0.014*\"light\" + 0.013*\"thank\" + 0.011*\"unforgiving\" + 0.011*\"goodness\" + 0.011*\"treat\" + 0.011*\"age\" + 0.010*\"green\" + 0.010*\"symptom\" + 0.009*\"inflammation\"'),\n",
       " (7,\n",
       "  '0.062*\"acne\" + 0.050*\"anti\" + 0.043*\"skin\" + 0.029*\"aging\" + 0.028*\"led\" + 0.028*\"rt\" + 0.025*\"blue\" + 0.022*\"min\" + 0.019*\"care\" + 0.018*\"red\" + 0.018*\"remedy\" + 0.014*\"laser\" + 0.013*\"car\" + 0.011*\"ride\" + 0.011*\"score\"'),\n",
       " (8,\n",
       "  '0.052*\"rt\" + 0.049*\"skin\" + 0.032*\"acne\" + 0.016*\"led\" + 0.013*\"help\" + 0.011*\"natural\" + 0.011*\"blue\" + 0.009*\"problem\" + 0.009*\"beauty\" + 0.009*\"prevent\" + 0.009*\"pain\" + 0.009*\"red\" + 0.009*\"solution\" + 0.009*\"way\" + 0.009*\"people\"'),\n",
       " (9,\n",
       "  '0.093*\"rt\" + 0.077*\"skincare\" + 0.033*\"system\" + 0.030*\"skin\" + 0.020*\"psoriasis\" + 0.019*\"treat\" + 0.016*\"think\" + 0.014*\"used\" + 0.014*\"dermatology\" + 0.014*\"work\" + 0.013*\"condition\" + 0.013*\"look\" + 0.010*\"revive\" + 0.010*\"got\" + 0.010*\"step\"')]"
      ]
     },
     "execution_count": 83,
     "metadata": {},
     "output_type": "execute_result"
    }
   ],
   "source": [
    "num_topics = 10\n",
    "lda = LdaModel(corpus, num_topics= num_topics,id2word = dictionary)\n",
    "lda.show_topics(num_topics,15)"
   ]
  },
  {
   "cell_type": "code",
   "execution_count": 85,
   "metadata": {
    "collapsed": false
   },
   "outputs": [],
   "source": [
    "assign = []\n",
    "for i in range(len(corpus)):\n",
    "    assign.append(sorted(lda[corpus[i]],key = lambda x:x[1],reverse = True)[0][0])\n",
    "conf_score = []\n",
    "for i in range(len(corpus)):\n",
    "    conf_score.append(sorted(lda[corpus[i]],key = lambda x:x[1],reverse = True)[0][1])"
   ]
  },
  {
   "cell_type": "code",
   "execution_count": 86,
   "metadata": {
    "collapsed": true
   },
   "outputs": [],
   "source": [
    "df_bow = pd.DataFrame({'original_text':content.content.values,\n",
    "             'corpus':corpus,\n",
    "            'assign':assign,\n",
    "            'conf_score':conf_score,\n",
    "                      'bow':cleaned_list})"
   ]
  },
  {
   "cell_type": "code",
   "execution_count": 87,
   "metadata": {
    "collapsed": false
   },
   "outputs": [
    {
     "data": {
      "text/plain": [
       "<matplotlib.axes._subplots.AxesSubplot at 0x12934af0>"
      ]
     },
     "execution_count": 87,
     "metadata": {},
     "output_type": "execute_result"
    },
    {
     "data": {
      "image/png": "[encoded data removed]",
      "text/plain": [
       "<matplotlib.figure.Figure at 0xf2bd430>"
      ]
     },
     "metadata": {},
     "output_type": "display_data"
    }
   ],
   "source": [
    "df_bow.groupby('assign').count()['original_text'].plot(kind='pie')"
   ]
  },
  {
   "cell_type": "code",
   "execution_count": 88,
   "metadata": {
    "collapsed": false
   },
   "outputs": [
    {
     "data": {
      "text/plain": [
       "<matplotlib.axes._subplots.AxesSubplot at 0x11da3eb0>"
      ]
     },
     "execution_count": 88,
     "metadata": {},
     "output_type": "execute_result"
    },
    {
     "data": {
      "image/png": "[encoded data removed]",
      "text/plain": [
       "<matplotlib.figure.Figure at 0xfb88ef0>"
      ]
     },
     "metadata": {},
     "output_type": "display_data"
    }
   ],
   "source": [
    "df_bow['conf_score'].hist()"
   ]
  },
  {
   "cell_type": "code",
   "execution_count": 89,
   "metadata": {
    "collapsed": false
   },
   "outputs": [
    {
     "data": {
      "text/html": [
       "<div>\n",
       "<table border=\"1\" class=\"dataframe\">\n",
       "  <thead>\n",
       "    <tr style=\"text-align: right;\">\n",
       "      <th></th>\n",
       "      <th>bow</th>\n",
       "      <th>original_text</th>\n",
       "    </tr>\n",
       "  </thead>\n",
       "  <tbody>\n",
       "    <tr>\n",
       "      <th>0</th>\n",
       "      <td>[rt, skincare, benefit, violet]</td>\n",
       "      <td>RT @Theralight: Skincare Benefits of Violet Li...</td>\n",
       "    </tr>\n",
       "    <tr>\n",
       "      <th>11</th>\n",
       "      <td>[intranasal, infrared, heal, naturally]</td>\n",
       "      <td>$499 VieLight Intranasal Light Therapy 810 Inf...</td>\n",
       "    </tr>\n",
       "    <tr>\n",
       "      <th>15</th>\n",
       "      <td>[eczema, led]</td>\n",
       "      <td>Eczema before and after only 2 Dermalux LED Li...</td>\n",
       "    </tr>\n",
       "    <tr>\n",
       "      <th>21</th>\n",
       "      <td>[beauty, health, brand, daylight, sky, bright,...</td>\n",
       "      <td>Beauty sherif.ws/main2.php?link? #2389 #1003 C...</td>\n",
       "    </tr>\n",
       "    <tr>\n",
       "      <th>41</th>\n",
       "      <td>[highly, effective, outpatient, many, skin, co...</td>\n",
       "      <td>Light therapy is a highly effective outpatient...</td>\n",
       "    </tr>\n",
       "    <tr>\n",
       "      <th>43</th>\n",
       "      <td>[try, photo, target, red, brown, spot, leaving...</td>\n",
       "      <td>Try a photo facial! It targets ur red &amp; brown ...</td>\n",
       "    </tr>\n",
       "    <tr>\n",
       "      <th>50</th>\n",
       "      <td>[new, galvanic, ultrasonic, ion, red, led, wri...</td>\n",
       "      <td>New Galvanic Ultrasonic Ion RED LED Light Ther...</td>\n",
       "    </tr>\n",
       "    <tr>\n",
       "      <th>52</th>\n",
       "      <td>[electric, led, eye, care, massage, pen, photo...</td>\n",
       "      <td>2 in 1 Electric LED Therapy Eye Care Massage P...</td>\n",
       "    </tr>\n",
       "    <tr>\n",
       "      <th>64</th>\n",
       "      <td>[rt, remove, brown, sun, spot, red, vein, lead...</td>\n",
       "      <td>RT @GreenSpaVan: #SaturdaySkinCare: #IPL #Phot...</td>\n",
       "    </tr>\n",
       "    <tr>\n",
       "      <th>70</th>\n",
       "      <td>[tip, get, acne]</td>\n",
       "      <td>10 Tips to Get the Most Out of Light Therapy p...</td>\n",
       "    </tr>\n",
       "    <tr>\n",
       "      <th>72</th>\n",
       "      <td>[red, boost, skin, mood, xx]</td>\n",
       "      <td>Red Light Therapy- boosts skin and mood ?? @dr...</td>\n",
       "    </tr>\n",
       "    <tr>\n",
       "      <th>83</th>\n",
       "      <td>[interested, red, read, skincare]</td>\n",
       "      <td>Interested in having a Red Light Therapy?\\nRea...</td>\n",
       "    </tr>\n",
       "    <tr>\n",
       "      <th>88</th>\n",
       "      <td>[rt, skincare, benefit, violet]</td>\n",
       "      <td>RT @vBBlogDirectory: Skincare Benefits of Viol...</td>\n",
       "    </tr>\n",
       "    <tr>\n",
       "      <th>94</th>\n",
       "      <td>[photon, led, skin, care, massager]</td>\n",
       "      <td>Photon 3 Led Light Therapy Facial Skin Care An...</td>\n",
       "    </tr>\n",
       "    <tr>\n",
       "      <th>107</th>\n",
       "      <td>[lose, make, enjoy, natural, beauty, try, new,...</td>\n",
       "      <td>Lose the make up and enjoy your natural beauty...</td>\n",
       "    </tr>\n",
       "    <tr>\n",
       "      <th>108</th>\n",
       "      <td>[revive, c, acne, skincare, white]</td>\n",
       "      <td>ReVive Light Therapy C-40 Acne Treatment Skinc...</td>\n",
       "    </tr>\n",
       "    <tr>\n",
       "      <th>111</th>\n",
       "      <td>[looking, device, help, shoulder, recover, sur...</td>\n",
       "      <td>While looking for a NIR light therapy device t...</td>\n",
       "    </tr>\n",
       "    <tr>\n",
       "      <th>112</th>\n",
       "      <td>[also, wonder]</td>\n",
       "      <td>Light therapy also does wonders! Led-mask.com</td>\n",
       "    </tr>\n",
       "    <tr>\n",
       "      <th>119</th>\n",
       "      <td>[relief, unit, new, box, located, relief, pain...</td>\n",
       "      <td>I have a Light Relief therapy unit new in box....</td>\n",
       "    </tr>\n",
       "    <tr>\n",
       "      <th>127</th>\n",
       "      <td>[rt, celebrating, new, mask]</td>\n",
       "      <td>RT @olivia_holt: Celebrating #TreatYoSelfDay w...</td>\n",
       "    </tr>\n",
       "    <tr>\n",
       "      <th>129</th>\n",
       "      <td>[new, baby, quasar, plus, red, wrinkle, fighti...</td>\n",
       "      <td>New baby #quasar plus red #light therapy wrink...</td>\n",
       "    </tr>\n",
       "    <tr>\n",
       "      <th>131</th>\n",
       "      <td>[tip, get, acne]</td>\n",
       "      <td>10 Tips to Get the Most Out of Light Therapy p...</td>\n",
       "    </tr>\n",
       "    <tr>\n",
       "      <th>134</th>\n",
       "      <td>[rt, led, blue, acne, trophy, skin]</td>\n",
       "      <td>RT @medeliene585: BlueMD LED Blue Light Therap...</td>\n",
       "    </tr>\n",
       "    <tr>\n",
       "      <th>139</th>\n",
       "      <td>[rt, celebrating, new, mask]</td>\n",
       "      <td>RT @olivia_holt: Celebrating #TreatYoSelfDay w...</td>\n",
       "    </tr>\n",
       "    <tr>\n",
       "      <th>145</th>\n",
       "      <td>[rt, skincare, benefit, violet]</td>\n",
       "      <td>RT @vBBlogDirectory: Skincare Benefits of Viol...</td>\n",
       "    </tr>\n",
       "    <tr>\n",
       "      <th>148</th>\n",
       "      <td>[rt, skincare, benefit, violet]</td>\n",
       "      <td>RT @Theralight: Skincare Benefits of Violet Li...</td>\n",
       "    </tr>\n",
       "    <tr>\n",
       "      <th>151</th>\n",
       "      <td>[rt, solution, skincare, acne]</td>\n",
       "      <td>RT @Theralight: Is light therapy the solution ...</td>\n",
       "    </tr>\n",
       "    <tr>\n",
       "      <th>154</th>\n",
       "      <td>[love, led, face, mask, natural, suit, skin, t...</td>\n",
       "      <td>Kourtney Kardashian loves the LED Face Mask.. ...</td>\n",
       "    </tr>\n",
       "    <tr>\n",
       "      <th>156</th>\n",
       "      <td>[rt, skincare, healthy, photon, blue, skin, tip]</td>\n",
       "      <td>RT @SkinCareShop11: #SkinCare #Healthy 2IN1 Me...</td>\n",
       "    </tr>\n",
       "    <tr>\n",
       "      <th>163</th>\n",
       "      <td>[rt, skincare, benefit, violet]</td>\n",
       "      <td>RT @Theralight: Skincare Benefits of Violet Li...</td>\n",
       "    </tr>\n",
       "    <tr>\n",
       "      <th>...</th>\n",
       "      <td>...</td>\n",
       "      <td>...</td>\n",
       "    </tr>\n",
       "    <tr>\n",
       "      <th>7878</th>\n",
       "      <td>[get, k, per, hour, cash, per, hour, k, per, h...</td>\n",
       "      <td>I get about 350k per hour at prif and about 1-...</td>\n",
       "    </tr>\n",
       "    <tr>\n",
       "      <th>7880</th>\n",
       "      <td>[trying, awesome, new, available]</td>\n",
       "      <td>@vylamm trying out our awesome new @celluma_le...</td>\n",
       "    </tr>\n",
       "    <tr>\n",
       "      <th>7881</th>\n",
       "      <td>[sassy, blue, acne, work]</td>\n",
       "      <td>#Sassy Blue Light Therapy For Acne Treatment: ...</td>\n",
       "    </tr>\n",
       "    <tr>\n",
       "      <th>7882</th>\n",
       "      <td>[today, marvelous, day, first, first, preparat...</td>\n",
       "      <td>Today was a marvelous day of firsts. First @_o...</td>\n",
       "    </tr>\n",
       "    <tr>\n",
       "      <th>7884</th>\n",
       "      <td>[absolutely, fabulous, day, spent, walk, direc...</td>\n",
       "      <td>Absolutely fabulous day spent in Huntington LI...</td>\n",
       "    </tr>\n",
       "    <tr>\n",
       "      <th>7894</th>\n",
       "      <td>[rt, skincare, benefit, violet]</td>\n",
       "      <td>RT @vBBlogDirectory: Skincare Benefits of Viol...</td>\n",
       "    </tr>\n",
       "    <tr>\n",
       "      <th>7897</th>\n",
       "      <td>[beauty, device, sale, remain, flat, due, stru...</td>\n",
       "      <td>\"Beauty device sales remain flat due to a stru...</td>\n",
       "    </tr>\n",
       "    <tr>\n",
       "      <th>7900</th>\n",
       "      <td>[jet, lag, fun, known, medical, community, con...</td>\n",
       "      <td>Jet lag is not fun. \\nKnown by the medical com...</td>\n",
       "    </tr>\n",
       "    <tr>\n",
       "      <th>7909</th>\n",
       "      <td>[blue, best, known, acne, confident, skin, sum...</td>\n",
       "      <td>Blue Light Therapy is the best known light tre...</td>\n",
       "    </tr>\n",
       "    <tr>\n",
       "      <th>7912</th>\n",
       "      <td>[red, blue, led, photon, activating, wrinkle, ...</td>\n",
       "      <td>RED BLUE Anti-Aging LED Photon Light Therapy.C...</td>\n",
       "    </tr>\n",
       "    <tr>\n",
       "      <th>7914</th>\n",
       "      <td>[received, acne, mask, tried, use, work]</td>\n",
       "      <td>@Neutrogena I just received my light therapy a...</td>\n",
       "    </tr>\n",
       "    <tr>\n",
       "      <th>7923</th>\n",
       "      <td>[today, product, spotlight, acne, fellow, cons...</td>\n",
       "      <td>Today's product spotlight is Unblemish, Americ...</td>\n",
       "    </tr>\n",
       "    <tr>\n",
       "      <th>7926</th>\n",
       "      <td>[rt, skincare, benefit, violet]</td>\n",
       "      <td>RT @Theralight: Skincare Benefits of Violet Li...</td>\n",
       "    </tr>\n",
       "    <tr>\n",
       "      <th>7931</th>\n",
       "      <td>[rt, skincare, benefit, violet]</td>\n",
       "      <td>RT @Theralight: Skincare Benefits of Violet Li...</td>\n",
       "    </tr>\n",
       "    <tr>\n",
       "      <th>7938</th>\n",
       "      <td>[originally, posted, john, mentioned, use, ult...</td>\n",
       "      <td>Originally Posted by John Caton\\n\\nNeckhammer ...</td>\n",
       "    </tr>\n",
       "    <tr>\n",
       "      <th>7940</th>\n",
       "      <td>[led, low, level, acne, wrinkle, pain, wound, ...</td>\n",
       "      <td>Celluma LED low level light therapy. Treatment...</td>\n",
       "    </tr>\n",
       "    <tr>\n",
       "      <th>7946</th>\n",
       "      <td>[radio, frequency, led, photon, skin, beauty]</td>\n",
       "      <td>Mesotherapy Electroporation RF Radio Frequency...</td>\n",
       "    </tr>\n",
       "    <tr>\n",
       "      <th>7949</th>\n",
       "      <td>[time, year, double, edged, sword, love, thing...</td>\n",
       "      <td>This time of year is such a double edged sword...</td>\n",
       "    </tr>\n",
       "    <tr>\n",
       "      <th>7950</th>\n",
       "      <td>[led, mask, effect, led, main, kill, bacteria,...</td>\n",
       "      <td>led mask \\nEffects of led facial main\\nKill ba...</td>\n",
       "    </tr>\n",
       "    <tr>\n",
       "      <th>7955</th>\n",
       "      <td>[rt, win, clear, skin, unit, worth]</td>\n",
       "      <td>RT @AttachmentMumma: Win a Lumie Clear Skin Li...</td>\n",
       "    </tr>\n",
       "    <tr>\n",
       "      <th>7958</th>\n",
       "      <td>[claim, use, series, wavelength, kill, germ, r...</td>\n",
       "      <td>The illuMask claims to use a series of light w...</td>\n",
       "    </tr>\n",
       "    <tr>\n",
       "      <th>7966</th>\n",
       "      <td>[gadget, range, drone, mirror, make, one, morn...</td>\n",
       "      <td>These June 2016 gadgets range from fire-starti...</td>\n",
       "    </tr>\n",
       "    <tr>\n",
       "      <th>7969</th>\n",
       "      <td>[tip, get, acne]</td>\n",
       "      <td>10 Tips to Get the Most Out of Light Therapy p...</td>\n",
       "    </tr>\n",
       "    <tr>\n",
       "      <th>7970</th>\n",
       "      <td>[best, proven, acne, go, deeper, kill, shrink,...</td>\n",
       "      <td>Light therapy is the best proven treatment for...</td>\n",
       "    </tr>\n",
       "    <tr>\n",
       "      <th>7976</th>\n",
       "      <td>[rt, skincare, benefit, violet]</td>\n",
       "      <td>RT @Theralight: Skincare Benefits of Violet Li...</td>\n",
       "    </tr>\n",
       "    <tr>\n",
       "      <th>7980</th>\n",
       "      <td>[sassy, blue, acne, work]</td>\n",
       "      <td>#Sassy Blue Light Therapy For Acne: Does It Wo...</td>\n",
       "    </tr>\n",
       "    <tr>\n",
       "      <th>7983</th>\n",
       "      <td>[rt, skincare, benefit, violet]</td>\n",
       "      <td>RT @Theralight: Skincare Benefits of Violet Li...</td>\n",
       "    </tr>\n",
       "    <tr>\n",
       "      <th>7991</th>\n",
       "      <td>[new, galvanic, ultrasonic, ion, red, led, wri...</td>\n",
       "      <td>New Galvanic Ultrasonic Ion RED LED Light Ther...</td>\n",
       "    </tr>\n",
       "    <tr>\n",
       "      <th>7992</th>\n",
       "      <td>[avoiding, estrogen, led, death, nearly, woman...</td>\n",
       "      <td>Avoiding estrogen therapy led to deaths of nea...</td>\n",
       "    </tr>\n",
       "    <tr>\n",
       "      <th>7994</th>\n",
       "      <td>[rt, skincare, benefit, violet]</td>\n",
       "      <td>RT @Theralight: Skincare Benefits of Violet Li...</td>\n",
       "    </tr>\n",
       "  </tbody>\n",
       "</table>\n",
       "<p>1455 rows × 2 columns</p>\n",
       "</div>"
      ],
      "text/plain": [
       "                                                    bow  \\\n",
       "0                       [rt, skincare, benefit, violet]   \n",
       "11              [intranasal, infrared, heal, naturally]   \n",
       "15                                        [eczema, led]   \n",
       "21    [beauty, health, brand, daylight, sky, bright,...   \n",
       "41    [highly, effective, outpatient, many, skin, co...   \n",
       "43    [try, photo, target, red, brown, spot, leaving...   \n",
       "50    [new, galvanic, ultrasonic, ion, red, led, wri...   \n",
       "52    [electric, led, eye, care, massage, pen, photo...   \n",
       "64    [rt, remove, brown, sun, spot, red, vein, lead...   \n",
       "70                                     [tip, get, acne]   \n",
       "72                         [red, boost, skin, mood, xx]   \n",
       "83                    [interested, red, read, skincare]   \n",
       "88                      [rt, skincare, benefit, violet]   \n",
       "94                  [photon, led, skin, care, massager]   \n",
       "107   [lose, make, enjoy, natural, beauty, try, new,...   \n",
       "108                  [revive, c, acne, skincare, white]   \n",
       "111   [looking, device, help, shoulder, recover, sur...   \n",
       "112                                      [also, wonder]   \n",
       "119   [relief, unit, new, box, located, relief, pain...   \n",
       "127                        [rt, celebrating, new, mask]   \n",
       "129   [new, baby, quasar, plus, red, wrinkle, fighti...   \n",
       "131                                    [tip, get, acne]   \n",
       "134                 [rt, led, blue, acne, trophy, skin]   \n",
       "139                        [rt, celebrating, new, mask]   \n",
       "145                     [rt, skincare, benefit, violet]   \n",
       "148                     [rt, skincare, benefit, violet]   \n",
       "151                      [rt, solution, skincare, acne]   \n",
       "154   [love, led, face, mask, natural, suit, skin, t...   \n",
       "156    [rt, skincare, healthy, photon, blue, skin, tip]   \n",
       "163                     [rt, skincare, benefit, violet]   \n",
       "...                                                 ...   \n",
       "7878  [get, k, per, hour, cash, per, hour, k, per, h...   \n",
       "7880                  [trying, awesome, new, available]   \n",
       "7881                          [sassy, blue, acne, work]   \n",
       "7882  [today, marvelous, day, first, first, preparat...   \n",
       "7884  [absolutely, fabulous, day, spent, walk, direc...   \n",
       "7894                    [rt, skincare, benefit, violet]   \n",
       "7897  [beauty, device, sale, remain, flat, due, stru...   \n",
       "7900  [jet, lag, fun, known, medical, community, con...   \n",
       "7909  [blue, best, known, acne, confident, skin, sum...   \n",
       "7912  [red, blue, led, photon, activating, wrinkle, ...   \n",
       "7914           [received, acne, mask, tried, use, work]   \n",
       "7923  [today, product, spotlight, acne, fellow, cons...   \n",
       "7926                    [rt, skincare, benefit, violet]   \n",
       "7931                    [rt, skincare, benefit, violet]   \n",
       "7938  [originally, posted, john, mentioned, use, ult...   \n",
       "7940  [led, low, level, acne, wrinkle, pain, wound, ...   \n",
       "7946      [radio, frequency, led, photon, skin, beauty]   \n",
       "7949  [time, year, double, edged, sword, love, thing...   \n",
       "7950  [led, mask, effect, led, main, kill, bacteria,...   \n",
       "7955                [rt, win, clear, skin, unit, worth]   \n",
       "7958  [claim, use, series, wavelength, kill, germ, r...   \n",
       "7966  [gadget, range, drone, mirror, make, one, morn...   \n",
       "7969                                   [tip, get, acne]   \n",
       "7970  [best, proven, acne, go, deeper, kill, shrink,...   \n",
       "7976                    [rt, skincare, benefit, violet]   \n",
       "7980                          [sassy, blue, acne, work]   \n",
       "7983                    [rt, skincare, benefit, violet]   \n",
       "7991  [new, galvanic, ultrasonic, ion, red, led, wri...   \n",
       "7992  [avoiding, estrogen, led, death, nearly, woman...   \n",
       "7994                    [rt, skincare, benefit, violet]   \n",
       "\n",
       "                                          original_text  \n",
       "0     RT @Theralight: Skincare Benefits of Violet Li...  \n",
       "11    $499 VieLight Intranasal Light Therapy 810 Inf...  \n",
       "15    Eczema before and after only 2 Dermalux LED Li...  \n",
       "21    Beauty sherif.ws/main2.php?link? #2389 #1003 C...  \n",
       "41    Light therapy is a highly effective outpatient...  \n",
       "43    Try a photo facial! It targets ur red & brown ...  \n",
       "50    New Galvanic Ultrasonic Ion RED LED Light Ther...  \n",
       "52    2 in 1 Electric LED Therapy Eye Care Massage P...  \n",
       "64    RT @GreenSpaVan: #SaturdaySkinCare: #IPL #Phot...  \n",
       "70    10 Tips to Get the Most Out of Light Therapy p...  \n",
       "72    Red Light Therapy- boosts skin and mood ?? @dr...  \n",
       "83    Interested in having a Red Light Therapy?\\nRea...  \n",
       "88    RT @vBBlogDirectory: Skincare Benefits of Viol...  \n",
       "94    Photon 3 Led Light Therapy Facial Skin Care An...  \n",
       "107   Lose the make up and enjoy your natural beauty...  \n",
       "108   ReVive Light Therapy C-40 Acne Treatment Skinc...  \n",
       "111   While looking for a NIR light therapy device t...  \n",
       "112       Light therapy also does wonders! Led-mask.com  \n",
       "119   I have a Light Relief therapy unit new in box....  \n",
       "127   RT @olivia_holt: Celebrating #TreatYoSelfDay w...  \n",
       "129   New baby #quasar plus red #light therapy wrink...  \n",
       "131   10 Tips to Get the Most Out of Light Therapy p...  \n",
       "134   RT @medeliene585: BlueMD LED Blue Light Therap...  \n",
       "139   RT @olivia_holt: Celebrating #TreatYoSelfDay w...  \n",
       "145   RT @vBBlogDirectory: Skincare Benefits of Viol...  \n",
       "148   RT @Theralight: Skincare Benefits of Violet Li...  \n",
       "151   RT @Theralight: Is light therapy the solution ...  \n",
       "154   Kourtney Kardashian loves the LED Face Mask.. ...  \n",
       "156   RT @SkinCareShop11: #SkinCare #Healthy 2IN1 Me...  \n",
       "163   RT @Theralight: Skincare Benefits of Violet Li...  \n",
       "...                                                 ...  \n",
       "7878  I get about 350k per hour at prif and about 1-...  \n",
       "7880  @vylamm trying out our awesome new @celluma_le...  \n",
       "7881  #Sassy Blue Light Therapy For Acne Treatment: ...  \n",
       "7882  Today was a marvelous day of firsts. First @_o...  \n",
       "7884  Absolutely fabulous day spent in Huntington LI...  \n",
       "7894  RT @vBBlogDirectory: Skincare Benefits of Viol...  \n",
       "7897  \"Beauty device sales remain flat due to a stru...  \n",
       "7900  Jet lag is not fun. \\nKnown by the medical com...  \n",
       "7909  Blue Light Therapy is the best known light tre...  \n",
       "7912  RED BLUE Anti-Aging LED Photon Light Therapy.C...  \n",
       "7914  @Neutrogena I just received my light therapy a...  \n",
       "7923  Today's product spotlight is Unblemish, Americ...  \n",
       "7926  RT @Theralight: Skincare Benefits of Violet Li...  \n",
       "7931  RT @Theralight: Skincare Benefits of Violet Li...  \n",
       "7938  Originally Posted by John Caton\\n\\nNeckhammer ...  \n",
       "7940  Celluma LED low level light therapy. Treatment...  \n",
       "7946  Mesotherapy Electroporation RF Radio Frequency...  \n",
       "7949  This time of year is such a double edged sword...  \n",
       "7950  led mask \\nEffects of led facial main\\nKill ba...  \n",
       "7955  RT @AttachmentMumma: Win a Lumie Clear Skin Li...  \n",
       "7958  The illuMask claims to use a series of light w...  \n",
       "7966  These June 2016 gadgets range from fire-starti...  \n",
       "7969  10 Tips to Get the Most Out of Light Therapy p...  \n",
       "7970  Light therapy is the best proven treatment for...  \n",
       "7976  RT @Theralight: Skincare Benefits of Violet Li...  \n",
       "7980  #Sassy Blue Light Therapy For Acne: Does It Wo...  \n",
       "7983  RT @Theralight: Skincare Benefits of Violet Li...  \n",
       "7991  New Galvanic Ultrasonic Ion RED LED Light Ther...  \n",
       "7992  Avoiding estrogen therapy led to deaths of nea...  \n",
       "7994  RT @Theralight: Skincare Benefits of Violet Li...  \n",
       "\n",
       "[1455 rows x 2 columns]"
      ]
     },
     "execution_count": 89,
     "metadata": {},
     "output_type": "execute_result"
    }
   ],
   "source": [
    "df_bow[df_bow['conf_score']<0.5][['bow','original_text']]"
   ]
  },
  {
   "cell_type": "markdown",
   "metadata": {
    "collapsed": true
   },
   "source": [
    "Now we try to use TFIDF"
   ]
  },
  {
   "cell_type": "code",
   "execution_count": 98,
   "metadata": {
    "collapsed": false
   },
   "outputs": [
    {
     "data": {
      "text/plain": [
       "[(0,\n",
       "  '0.027*\"violet\" + 0.016*\"benefit\" + 0.015*\"skin\" + 0.010*\"help\" + 0.008*\"low\" + 0.007*\"time\" + 0.007*\"black\" + 0.007*\"level\" + 0.006*\"red\" + 0.005*\"body\" + 0.005*\"muscle\" + 0.005*\"one\" + 0.005*\"mask\" + 0.005*\"led\" + 0.004*\"tone\"'),\n",
       " (1,\n",
       "  '0.056*\"led\" + 0.052*\"skin\" + 0.030*\"wrinkle\" + 0.026*\"acne\" + 0.015*\"care\" + 0.012*\"ultrasound\" + 0.012*\"ultrasonic\" + 0.012*\"blue\" + 0.011*\"high\" + 0.011*\"red\" + 0.010*\"intensity\" + 0.009*\"machine\" + 0.009*\"focused\" + 0.009*\"collagen\" + 0.008*\"rt\"'),\n",
       " (2,\n",
       "  '0.019*\"day\" + 0.017*\"new\" + 0.017*\"mask\" + 0.014*\"device\" + 0.013*\"rt\" + 0.013*\"exciting\" + 0.013*\"complete\" + 0.012*\"launching\" + 0.011*\"added\" + 0.007*\"medical\" + 0.007*\"led\" + 0.007*\"pub\" + 0.005*\"acne\" + 0.005*\"patient\" + 0.005*\"health\"'),\n",
       " (3,\n",
       "  '0.099*\"led\" + 0.061*\"mask\" + 0.056*\"skin\" + 0.048*\"acne\" + 0.042*\"beauty\" + 0.040*\"photon\" + 0.040*\"rejuvenation\" + 0.035*\"new\" + 0.028*\"color\" + 0.026*\"blue\" + 0.025*\"red\" + 0.018*\"care\" + 0.016*\"sun\" + 0.014*\"face\" + 0.012*\"healing\"'),\n",
       " (4,\n",
       "  '0.098*\"technology\" + 0.098*\"energy\" + 0.097*\"panel\" + 0.097*\"winter\" + 0.097*\"stop\" + 0.097*\"brighten\" + 0.097*\"news\" + 0.097*\"environment\" + 0.097*\"bus\" + 0.004*\"skin\" + 0.003*\"face\" + 0.003*\"cosmetic\" + 0.003*\"rt\" + 0.003*\"new\" + 0.002*\"red\"'),\n",
       " (5,\n",
       "  '0.016*\"skin\" + 0.014*\"today\" + 0.013*\"led\" + 0.012*\"skincare\" + 0.011*\"rt\" + 0.009*\"hot\" + 0.009*\"here\" + 0.009*\"eye\" + 0.009*\"industry\" + 0.008*\"work\" + 0.008*\"get\" + 0.008*\"acne\" + 0.008*\"stuff\" + 0.008*\"red\" + 0.007*\"dark\"'),\n",
       " (6,\n",
       "  '0.032*\"acne\" + 0.032*\"rt\" + 0.020*\"mask\" + 0.019*\"skin\" + 0.018*\"spot\" + 0.015*\"photo\" + 0.014*\"light\" + 0.013*\"thank\" + 0.011*\"unforgiving\" + 0.011*\"goodness\" + 0.011*\"treat\" + 0.011*\"age\" + 0.010*\"green\" + 0.010*\"symptom\" + 0.009*\"inflammation\"'),\n",
       " (7,\n",
       "  '0.062*\"acne\" + 0.050*\"anti\" + 0.043*\"skin\" + 0.029*\"aging\" + 0.028*\"led\" + 0.028*\"rt\" + 0.025*\"blue\" + 0.022*\"min\" + 0.019*\"care\" + 0.018*\"red\" + 0.018*\"remedy\" + 0.014*\"laser\" + 0.013*\"car\" + 0.011*\"ride\" + 0.011*\"score\"'),\n",
       " (8,\n",
       "  '0.052*\"rt\" + 0.049*\"skin\" + 0.032*\"acne\" + 0.016*\"led\" + 0.013*\"help\" + 0.011*\"natural\" + 0.011*\"blue\" + 0.009*\"problem\" + 0.009*\"beauty\" + 0.009*\"prevent\" + 0.009*\"pain\" + 0.009*\"red\" + 0.009*\"solution\" + 0.009*\"way\" + 0.009*\"people\"'),\n",
       " (9,\n",
       "  '0.093*\"rt\" + 0.077*\"skincare\" + 0.033*\"system\" + 0.030*\"skin\" + 0.020*\"psoriasis\" + 0.019*\"treat\" + 0.016*\"think\" + 0.014*\"used\" + 0.014*\"dermatology\" + 0.014*\"work\" + 0.013*\"condition\" + 0.013*\"look\" + 0.010*\"revive\" + 0.010*\"got\" + 0.010*\"step\"')]"
      ]
     },
     "execution_count": 98,
     "metadata": {},
     "output_type": "execute_result"
    }
   ],
   "source": [
    "tfidf = models.TfidfModel(corpus)\n",
    "corpus_tfidf = tfidf[corpus]\n",
    "num_topics = 10\n",
    "lda_tfidf = LdaModel(corpus_tfidf, id2word=dictionary, num_topics=num_topics)\n",
    "lda.show_topics(num_topics,15)"
   ]
  },
  {
   "cell_type": "code",
   "execution_count": 99,
   "metadata": {
    "collapsed": true
   },
   "outputs": [],
   "source": [
    "assign = []\n",
    "for i in range(len(corpus_tfidf)):\n",
    "    assign.append(sorted(lda_tfidf[corpus_tfidf[i]],key = lambda x:x[1],reverse = True)[0][0])\n",
    "conf_score = []\n",
    "for i in range(len(corpus_tfidf)):\n",
    "    conf_score.append(sorted(lda[corpus_tfidf[i]],key = lambda x:x[1],reverse = True)[0][1])"
   ]
  },
  {
   "cell_type": "code",
   "execution_count": 104,
   "metadata": {
    "collapsed": true
   },
   "outputs": [],
   "source": [
    "df_tfidf = pd.DataFrame({'original_text':content.content.values,\n",
    "             'corpus':corpus,\n",
    "            'assign':assign,\n",
    "            'conf_score':conf_score,\n",
    "                      'bow':cleaned_list})"
   ]
  },
  {
   "cell_type": "code",
   "execution_count": 105,
   "metadata": {
    "collapsed": false
   },
   "outputs": [
    {
     "data": {
      "text/plain": [
       "<matplotlib.axes._subplots.AxesSubplot at 0x12eb3310>"
      ]
     },
     "execution_count": 105,
     "metadata": {},
     "output_type": "execute_result"
    },
    {
     "data": {
      "image/png": "[encoded data removed]",
      "text/plain": [
       "<matplotlib.figure.Figure at 0x12e929d0>"
      ]
     },
     "metadata": {},
     "output_type": "display_data"
    }
   ],
   "source": [
    "df_tfidf['conf_score'].hist()"
   ]
  },
  {
   "cell_type": "code",
   "execution_count": 106,
   "metadata": {
    "collapsed": false
   },
   "outputs": [
    {
     "data": {
      "text/html": [
       "<div>\n",
       "<table border=\"1\" class=\"dataframe\">\n",
       "  <thead>\n",
       "    <tr style=\"text-align: right;\">\n",
       "      <th></th>\n",
       "      <th>bow</th>\n",
       "      <th>original_text</th>\n",
       "    </tr>\n",
       "  </thead>\n",
       "  <tbody>\n",
       "    <tr>\n",
       "      <th>0</th>\n",
       "      <td>[rt, skincare, benefit, violet]</td>\n",
       "      <td>RT @Theralight: Skincare Benefits of Violet Li...</td>\n",
       "    </tr>\n",
       "    <tr>\n",
       "      <th>8</th>\n",
       "      <td>[rt, reverse, pigmentation]</td>\n",
       "      <td>RT @annawinek: How Does Light Therapy Reverse ...</td>\n",
       "    </tr>\n",
       "    <tr>\n",
       "      <th>11</th>\n",
       "      <td>[intranasal, infrared, heal, naturally]</td>\n",
       "      <td>$499 VieLight Intranasal Light Therapy 810 Inf...</td>\n",
       "    </tr>\n",
       "    <tr>\n",
       "      <th>17</th>\n",
       "      <td>[rt, celebrating, new, acne, mask]</td>\n",
       "      <td>RT @olivia_holt: Celebrating #TreatYoSelfDay w...</td>\n",
       "    </tr>\n",
       "    <tr>\n",
       "      <th>21</th>\n",
       "      <td>[beauty, health, brand, daylight, sky, bright,...</td>\n",
       "      <td>Beauty sherif.ws/main2.php?link? #2389 #1003 C...</td>\n",
       "    </tr>\n",
       "    <tr>\n",
       "      <th>27</th>\n",
       "      <td>[photon, rejuvenation, body, ultrasonic, skin,...</td>\n",
       "      <td>US!Great Photon Rejuvenation Facial, Body Ultr...</td>\n",
       "    </tr>\n",
       "    <tr>\n",
       "      <th>41</th>\n",
       "      <td>[highly, effective, outpatient, many, skin, co...</td>\n",
       "      <td>Light therapy is a highly effective outpatient...</td>\n",
       "    </tr>\n",
       "    <tr>\n",
       "      <th>43</th>\n",
       "      <td>[try, photo, target, red, brown, spot, leaving...</td>\n",
       "      <td>Try a photo facial! It targets ur red &amp; brown ...</td>\n",
       "    </tr>\n",
       "    <tr>\n",
       "      <th>50</th>\n",
       "      <td>[new, galvanic, ultrasonic, ion, red, led, wri...</td>\n",
       "      <td>New Galvanic Ultrasonic Ion RED LED Light Ther...</td>\n",
       "    </tr>\n",
       "    <tr>\n",
       "      <th>52</th>\n",
       "      <td>[electric, led, eye, care, massage, pen, photo...</td>\n",
       "      <td>2 in 1 Electric LED Therapy Eye Care Massage P...</td>\n",
       "    </tr>\n",
       "    <tr>\n",
       "      <th>59</th>\n",
       "      <td>[rt, celebrating, new, acne, mask]</td>\n",
       "      <td>RT @olivia_holt: Celebrating #TreatYoSelfDay w...</td>\n",
       "    </tr>\n",
       "    <tr>\n",
       "      <th>63</th>\n",
       "      <td>[rt, improves, appearance, skin, application]</td>\n",
       "      <td>RT @Theralight: #Photorejuvenation improves th...</td>\n",
       "    </tr>\n",
       "    <tr>\n",
       "      <th>64</th>\n",
       "      <td>[rt, remove, brown, sun, spot, red, vein, lead...</td>\n",
       "      <td>RT @GreenSpaVan: #SaturdaySkinCare: #IPL #Phot...</td>\n",
       "    </tr>\n",
       "    <tr>\n",
       "      <th>68</th>\n",
       "      <td>[ticket, clear, skin, summer, beauty, baby, qu...</td>\n",
       "      <td>Your One-Way Ticket to Clear Skin This Summer ...</td>\n",
       "    </tr>\n",
       "    <tr>\n",
       "      <th>70</th>\n",
       "      <td>[tip, get, acne]</td>\n",
       "      <td>10 Tips to Get the Most Out of Light Therapy p...</td>\n",
       "    </tr>\n",
       "    <tr>\n",
       "      <th>72</th>\n",
       "      <td>[red, boost, skin, mood, xx]</td>\n",
       "      <td>Red Light Therapy- boosts skin and mood ?? @dr...</td>\n",
       "    </tr>\n",
       "    <tr>\n",
       "      <th>78</th>\n",
       "      <td>[rt, celebrating, new, acne, mask]</td>\n",
       "      <td>RT @olivia_holt: Celebrating #TreatYoSelfDay w...</td>\n",
       "    </tr>\n",
       "    <tr>\n",
       "      <th>83</th>\n",
       "      <td>[interested, red, read, skincare]</td>\n",
       "      <td>Interested in having a Red Light Therapy?\\nRea...</td>\n",
       "    </tr>\n",
       "    <tr>\n",
       "      <th>88</th>\n",
       "      <td>[rt, skincare, benefit, violet]</td>\n",
       "      <td>RT @vBBlogDirectory: Skincare Benefits of Viol...</td>\n",
       "    </tr>\n",
       "    <tr>\n",
       "      <th>107</th>\n",
       "      <td>[lose, make, enjoy, natural, beauty, try, new,...</td>\n",
       "      <td>Lose the make up and enjoy your natural beauty...</td>\n",
       "    </tr>\n",
       "    <tr>\n",
       "      <th>108</th>\n",
       "      <td>[revive, c, acne, skincare, white]</td>\n",
       "      <td>ReVive Light Therapy C-40 Acne Treatment Skinc...</td>\n",
       "    </tr>\n",
       "    <tr>\n",
       "      <th>112</th>\n",
       "      <td>[also, wonder]</td>\n",
       "      <td>Light therapy also does wonders! Led-mask.com</td>\n",
       "    </tr>\n",
       "    <tr>\n",
       "      <th>119</th>\n",
       "      <td>[relief, unit, new, box, located, relief, pain...</td>\n",
       "      <td>I have a Light Relief therapy unit new in box....</td>\n",
       "    </tr>\n",
       "    <tr>\n",
       "      <th>121</th>\n",
       "      <td>[photon, skin, mask, led, anti, aging, led, mask]</td>\n",
       "      <td>Photon Skin Facial Mask LED Light Therapy Phot...</td>\n",
       "    </tr>\n",
       "    <tr>\n",
       "      <th>127</th>\n",
       "      <td>[rt, celebrating, new, mask]</td>\n",
       "      <td>RT @olivia_holt: Celebrating #TreatYoSelfDay w...</td>\n",
       "    </tr>\n",
       "    <tr>\n",
       "      <th>129</th>\n",
       "      <td>[new, baby, quasar, plus, red, wrinkle, fighti...</td>\n",
       "      <td>New baby #quasar plus red #light therapy wrink...</td>\n",
       "    </tr>\n",
       "    <tr>\n",
       "      <th>139</th>\n",
       "      <td>[rt, celebrating, new, mask]</td>\n",
       "      <td>RT @olivia_holt: Celebrating #TreatYoSelfDay w...</td>\n",
       "    </tr>\n",
       "    <tr>\n",
       "      <th>145</th>\n",
       "      <td>[rt, skincare, benefit, violet]</td>\n",
       "      <td>RT @vBBlogDirectory: Skincare Benefits of Viol...</td>\n",
       "    </tr>\n",
       "    <tr>\n",
       "      <th>146</th>\n",
       "      <td>[led, face, mask, skin, rejuvenation, improvem...</td>\n",
       "      <td>LED Light Therapy Face Mask Skin Rejuvenation ...</td>\n",
       "    </tr>\n",
       "    <tr>\n",
       "      <th>148</th>\n",
       "      <td>[rt, skincare, benefit, violet]</td>\n",
       "      <td>RT @Theralight: Skincare Benefits of Violet Li...</td>\n",
       "    </tr>\n",
       "    <tr>\n",
       "      <th>...</th>\n",
       "      <td>...</td>\n",
       "      <td>...</td>\n",
       "    </tr>\n",
       "    <tr>\n",
       "      <th>7870</th>\n",
       "      <td>[rt, skincare, benefit, violet]</td>\n",
       "      <td>RT @Theralight: Skincare Benefits of Violet Li...</td>\n",
       "    </tr>\n",
       "    <tr>\n",
       "      <th>7878</th>\n",
       "      <td>[get, k, per, hour, cash, per, hour, k, per, h...</td>\n",
       "      <td>I get about 350k per hour at prif and about 1-...</td>\n",
       "    </tr>\n",
       "    <tr>\n",
       "      <th>7880</th>\n",
       "      <td>[trying, awesome, new, available]</td>\n",
       "      <td>@vylamm trying out our awesome new @celluma_le...</td>\n",
       "    </tr>\n",
       "    <tr>\n",
       "      <th>7882</th>\n",
       "      <td>[today, marvelous, day, first, first, preparat...</td>\n",
       "      <td>Today was a marvelous day of firsts. First @_o...</td>\n",
       "    </tr>\n",
       "    <tr>\n",
       "      <th>7884</th>\n",
       "      <td>[absolutely, fabulous, day, spent, walk, direc...</td>\n",
       "      <td>Absolutely fabulous day spent in Huntington LI...</td>\n",
       "    </tr>\n",
       "    <tr>\n",
       "      <th>7888</th>\n",
       "      <td>[red, amazing, circulation, skin, healing]</td>\n",
       "      <td>Red light therapy is amazing for circulation &amp;...</td>\n",
       "    </tr>\n",
       "    <tr>\n",
       "      <th>7894</th>\n",
       "      <td>[rt, skincare, benefit, violet]</td>\n",
       "      <td>RT @vBBlogDirectory: Skincare Benefits of Viol...</td>\n",
       "    </tr>\n",
       "    <tr>\n",
       "      <th>7897</th>\n",
       "      <td>[beauty, device, sale, remain, flat, due, stru...</td>\n",
       "      <td>\"Beauty device sales remain flat due to a stru...</td>\n",
       "    </tr>\n",
       "    <tr>\n",
       "      <th>7900</th>\n",
       "      <td>[jet, lag, fun, known, medical, community, con...</td>\n",
       "      <td>Jet lag is not fun. \\nKnown by the medical com...</td>\n",
       "    </tr>\n",
       "    <tr>\n",
       "      <th>7904</th>\n",
       "      <td>[color, led, photon, mask, wrinkle, removal, s...</td>\n",
       "      <td>Colors LED Photon Light Therapy Facial Mask Wr...</td>\n",
       "    </tr>\n",
       "    <tr>\n",
       "      <th>7909</th>\n",
       "      <td>[blue, best, known, acne, confident, skin, sum...</td>\n",
       "      <td>Blue Light Therapy is the best known light tre...</td>\n",
       "    </tr>\n",
       "    <tr>\n",
       "      <th>7914</th>\n",
       "      <td>[received, acne, mask, tried, use, work]</td>\n",
       "      <td>@Neutrogena I just received my light therapy a...</td>\n",
       "    </tr>\n",
       "    <tr>\n",
       "      <th>7923</th>\n",
       "      <td>[today, product, spotlight, acne, fellow, cons...</td>\n",
       "      <td>Today's product spotlight is Unblemish, Americ...</td>\n",
       "    </tr>\n",
       "    <tr>\n",
       "      <th>7926</th>\n",
       "      <td>[rt, skincare, benefit, violet]</td>\n",
       "      <td>RT @Theralight: Skincare Benefits of Violet Li...</td>\n",
       "    </tr>\n",
       "    <tr>\n",
       "      <th>7931</th>\n",
       "      <td>[rt, skincare, benefit, violet]</td>\n",
       "      <td>RT @Theralight: Skincare Benefits of Violet Li...</td>\n",
       "    </tr>\n",
       "    <tr>\n",
       "      <th>7938</th>\n",
       "      <td>[originally, posted, john, mentioned, use, ult...</td>\n",
       "      <td>Originally Posted by John Caton\\n\\nNeckhammer ...</td>\n",
       "    </tr>\n",
       "    <tr>\n",
       "      <th>7949</th>\n",
       "      <td>[time, year, double, edged, sword, love, thing...</td>\n",
       "      <td>This time of year is such a double edged sword...</td>\n",
       "    </tr>\n",
       "    <tr>\n",
       "      <th>7955</th>\n",
       "      <td>[rt, win, clear, skin, unit, worth]</td>\n",
       "      <td>RT @AttachmentMumma: Win a Lumie Clear Skin Li...</td>\n",
       "    </tr>\n",
       "    <tr>\n",
       "      <th>7958</th>\n",
       "      <td>[claim, use, series, wavelength, kill, germ, r...</td>\n",
       "      <td>The illuMask claims to use a series of light w...</td>\n",
       "    </tr>\n",
       "    <tr>\n",
       "      <th>7966</th>\n",
       "      <td>[gadget, range, drone, mirror, make, one, morn...</td>\n",
       "      <td>These June 2016 gadgets range from fire-starti...</td>\n",
       "    </tr>\n",
       "    <tr>\n",
       "      <th>7972</th>\n",
       "      <td>[ultrasound, led, photon, machine, beauty, ski...</td>\n",
       "      <td>Facial Ultrasound LED Photon Machine Beauty Sk...</td>\n",
       "    </tr>\n",
       "    <tr>\n",
       "      <th>7976</th>\n",
       "      <td>[rt, skincare, benefit, violet]</td>\n",
       "      <td>RT @Theralight: Skincare Benefits of Violet Li...</td>\n",
       "    </tr>\n",
       "    <tr>\n",
       "      <th>7978</th>\n",
       "      <td>[great, product, revive, wide, coverage, led, ...</td>\n",
       "      <td>Great Product!: Revive dpl Wide Coverage LED L...</td>\n",
       "    </tr>\n",
       "    <tr>\n",
       "      <th>7979</th>\n",
       "      <td>[vein, using, dramatic, difference]</td>\n",
       "      <td>Facial  vein treatment using IPL Photofacial, ...</td>\n",
       "    </tr>\n",
       "    <tr>\n",
       "      <th>7983</th>\n",
       "      <td>[rt, skincare, benefit, violet]</td>\n",
       "      <td>RT @Theralight: Skincare Benefits of Violet Li...</td>\n",
       "    </tr>\n",
       "    <tr>\n",
       "      <th>7989</th>\n",
       "      <td>[color, led, photon, mask, wrinkle, removal, s...</td>\n",
       "      <td>Colors LED Photon Light Therapy Facial Mask Wr...</td>\n",
       "    </tr>\n",
       "    <tr>\n",
       "      <th>7990</th>\n",
       "      <td>[new, galvanic, ultrasonic, ion, face, red, le...</td>\n",
       "      <td>New Galvanic Ultrasonic Ion Face RED LED Light...</td>\n",
       "    </tr>\n",
       "    <tr>\n",
       "      <th>7991</th>\n",
       "      <td>[new, galvanic, ultrasonic, ion, red, led, wri...</td>\n",
       "      <td>New Galvanic Ultrasonic Ion RED LED Light Ther...</td>\n",
       "    </tr>\n",
       "    <tr>\n",
       "      <th>7992</th>\n",
       "      <td>[avoiding, estrogen, led, death, nearly, woman...</td>\n",
       "      <td>Avoiding estrogen therapy led to deaths of nea...</td>\n",
       "    </tr>\n",
       "    <tr>\n",
       "      <th>7994</th>\n",
       "      <td>[rt, skincare, benefit, violet]</td>\n",
       "      <td>RT @Theralight: Skincare Benefits of Violet Li...</td>\n",
       "    </tr>\n",
       "  </tbody>\n",
       "</table>\n",
       "<p>1598 rows × 2 columns</p>\n",
       "</div>"
      ],
      "text/plain": [
       "                                                    bow  \\\n",
       "0                       [rt, skincare, benefit, violet]   \n",
       "8                           [rt, reverse, pigmentation]   \n",
       "11              [intranasal, infrared, heal, naturally]   \n",
       "17                   [rt, celebrating, new, acne, mask]   \n",
       "21    [beauty, health, brand, daylight, sky, bright,...   \n",
       "27    [photon, rejuvenation, body, ultrasonic, skin,...   \n",
       "41    [highly, effective, outpatient, many, skin, co...   \n",
       "43    [try, photo, target, red, brown, spot, leaving...   \n",
       "50    [new, galvanic, ultrasonic, ion, red, led, wri...   \n",
       "52    [electric, led, eye, care, massage, pen, photo...   \n",
       "59                   [rt, celebrating, new, acne, mask]   \n",
       "63        [rt, improves, appearance, skin, application]   \n",
       "64    [rt, remove, brown, sun, spot, red, vein, lead...   \n",
       "68    [ticket, clear, skin, summer, beauty, baby, qu...   \n",
       "70                                     [tip, get, acne]   \n",
       "72                         [red, boost, skin, mood, xx]   \n",
       "78                   [rt, celebrating, new, acne, mask]   \n",
       "83                    [interested, red, read, skincare]   \n",
       "88                      [rt, skincare, benefit, violet]   \n",
       "107   [lose, make, enjoy, natural, beauty, try, new,...   \n",
       "108                  [revive, c, acne, skincare, white]   \n",
       "112                                      [also, wonder]   \n",
       "119   [relief, unit, new, box, located, relief, pain...   \n",
       "121   [photon, skin, mask, led, anti, aging, led, mask]   \n",
       "127                        [rt, celebrating, new, mask]   \n",
       "129   [new, baby, quasar, plus, red, wrinkle, fighti...   \n",
       "139                        [rt, celebrating, new, mask]   \n",
       "145                     [rt, skincare, benefit, violet]   \n",
       "146   [led, face, mask, skin, rejuvenation, improvem...   \n",
       "148                     [rt, skincare, benefit, violet]   \n",
       "...                                                 ...   \n",
       "7870                    [rt, skincare, benefit, violet]   \n",
       "7878  [get, k, per, hour, cash, per, hour, k, per, h...   \n",
       "7880                  [trying, awesome, new, available]   \n",
       "7882  [today, marvelous, day, first, first, preparat...   \n",
       "7884  [absolutely, fabulous, day, spent, walk, direc...   \n",
       "7888         [red, amazing, circulation, skin, healing]   \n",
       "7894                    [rt, skincare, benefit, violet]   \n",
       "7897  [beauty, device, sale, remain, flat, due, stru...   \n",
       "7900  [jet, lag, fun, known, medical, community, con...   \n",
       "7904  [color, led, photon, mask, wrinkle, removal, s...   \n",
       "7909  [blue, best, known, acne, confident, skin, sum...   \n",
       "7914           [received, acne, mask, tried, use, work]   \n",
       "7923  [today, product, spotlight, acne, fellow, cons...   \n",
       "7926                    [rt, skincare, benefit, violet]   \n",
       "7931                    [rt, skincare, benefit, violet]   \n",
       "7938  [originally, posted, john, mentioned, use, ult...   \n",
       "7949  [time, year, double, edged, sword, love, thing...   \n",
       "7955                [rt, win, clear, skin, unit, worth]   \n",
       "7958  [claim, use, series, wavelength, kill, germ, r...   \n",
       "7966  [gadget, range, drone, mirror, make, one, morn...   \n",
       "7972  [ultrasound, led, photon, machine, beauty, ski...   \n",
       "7976                    [rt, skincare, benefit, violet]   \n",
       "7978  [great, product, revive, wide, coverage, led, ...   \n",
       "7979                [vein, using, dramatic, difference]   \n",
       "7983                    [rt, skincare, benefit, violet]   \n",
       "7989  [color, led, photon, mask, wrinkle, removal, s...   \n",
       "7990  [new, galvanic, ultrasonic, ion, face, red, le...   \n",
       "7991  [new, galvanic, ultrasonic, ion, red, led, wri...   \n",
       "7992  [avoiding, estrogen, led, death, nearly, woman...   \n",
       "7994                    [rt, skincare, benefit, violet]   \n",
       "\n",
       "                                          original_text  \n",
       "0     RT @Theralight: Skincare Benefits of Violet Li...  \n",
       "8     RT @annawinek: How Does Light Therapy Reverse ...  \n",
       "11    $499 VieLight Intranasal Light Therapy 810 Inf...  \n",
       "17    RT @olivia_holt: Celebrating #TreatYoSelfDay w...  \n",
       "21    Beauty sherif.ws/main2.php?link? #2389 #1003 C...  \n",
       "27    US!Great Photon Rejuvenation Facial, Body Ultr...  \n",
       "41    Light therapy is a highly effective outpatient...  \n",
       "43    Try a photo facial! It targets ur red & brown ...  \n",
       "50    New Galvanic Ultrasonic Ion RED LED Light Ther...  \n",
       "52    2 in 1 Electric LED Therapy Eye Care Massage P...  \n",
       "59    RT @olivia_holt: Celebrating #TreatYoSelfDay w...  \n",
       "63    RT @Theralight: #Photorejuvenation improves th...  \n",
       "64    RT @GreenSpaVan: #SaturdaySkinCare: #IPL #Phot...  \n",
       "68    Your One-Way Ticket to Clear Skin This Summer ...  \n",
       "70    10 Tips to Get the Most Out of Light Therapy p...  \n",
       "72    Red Light Therapy- boosts skin and mood ?? @dr...  \n",
       "78    RT @olivia_holt: Celebrating #TreatYoSelfDay w...  \n",
       "83    Interested in having a Red Light Therapy?\\nRea...  \n",
       "88    RT @vBBlogDirectory: Skincare Benefits of Viol...  \n",
       "107   Lose the make up and enjoy your natural beauty...  \n",
       "108   ReVive Light Therapy C-40 Acne Treatment Skinc...  \n",
       "112       Light therapy also does wonders! Led-mask.com  \n",
       "119   I have a Light Relief therapy unit new in box....  \n",
       "121   Photon Skin Facial Mask LED Light Therapy Phot...  \n",
       "127   RT @olivia_holt: Celebrating #TreatYoSelfDay w...  \n",
       "129   New baby #quasar plus red #light therapy wrink...  \n",
       "139   RT @olivia_holt: Celebrating #TreatYoSelfDay w...  \n",
       "145   RT @vBBlogDirectory: Skincare Benefits of Viol...  \n",
       "146   LED Light Therapy Face Mask Skin Rejuvenation ...  \n",
       "148   RT @Theralight: Skincare Benefits of Violet Li...  \n",
       "...                                                 ...  \n",
       "7870  RT @Theralight: Skincare Benefits of Violet Li...  \n",
       "7878  I get about 350k per hour at prif and about 1-...  \n",
       "7880  @vylamm trying out our awesome new @celluma_le...  \n",
       "7882  Today was a marvelous day of firsts. First @_o...  \n",
       "7884  Absolutely fabulous day spent in Huntington LI...  \n",
       "7888  Red light therapy is amazing for circulation &...  \n",
       "7894  RT @vBBlogDirectory: Skincare Benefits of Viol...  \n",
       "7897  \"Beauty device sales remain flat due to a stru...  \n",
       "7900  Jet lag is not fun. \\nKnown by the medical com...  \n",
       "7904  Colors LED Photon Light Therapy Facial Mask Wr...  \n",
       "7909  Blue Light Therapy is the best known light tre...  \n",
       "7914  @Neutrogena I just received my light therapy a...  \n",
       "7923  Today's product spotlight is Unblemish, Americ...  \n",
       "7926  RT @Theralight: Skincare Benefits of Violet Li...  \n",
       "7931  RT @Theralight: Skincare Benefits of Violet Li...  \n",
       "7938  Originally Posted by John Caton\\n\\nNeckhammer ...  \n",
       "7949  This time of year is such a double edged sword...  \n",
       "7955  RT @AttachmentMumma: Win a Lumie Clear Skin Li...  \n",
       "7958  The illuMask claims to use a series of light w...  \n",
       "7966  These June 2016 gadgets range from fire-starti...  \n",
       "7972  Facial Ultrasound LED Photon Machine Beauty Sk...  \n",
       "7976  RT @Theralight: Skincare Benefits of Violet Li...  \n",
       "7978  Great Product!: Revive dpl Wide Coverage LED L...  \n",
       "7979  Facial  vein treatment using IPL Photofacial, ...  \n",
       "7983  RT @Theralight: Skincare Benefits of Violet Li...  \n",
       "7989  Colors LED Photon Light Therapy Facial Mask Wr...  \n",
       "7990  New Galvanic Ultrasonic Ion Face RED LED Light...  \n",
       "7991  New Galvanic Ultrasonic Ion RED LED Light Ther...  \n",
       "7992  Avoiding estrogen therapy led to deaths of nea...  \n",
       "7994  RT @Theralight: Skincare Benefits of Violet Li...  \n",
       "\n",
       "[1598 rows x 2 columns]"
      ]
     },
     "execution_count": 106,
     "metadata": {},
     "output_type": "execute_result"
    }
   ],
   "source": [
    "df_tfidf[df_tfidf['conf_score']<0.5][['bow','original_text']]"
   ]
  },
  {
   "cell_type": "code",
   "execution_count": 107,
   "metadata": {
    "collapsed": true
   },
   "outputs": [],
   "source": [
    "import nltk\n",
    "import itertools\n",
    "from collections import Counter\n",
    "import operator"
   ]
  },
  {
   "cell_type": "code",
   "execution_count": 108,
   "metadata": {
    "collapsed": true
   },
   "outputs": [],
   "source": [
    "corpus_with_pos = list(map(lambda x:nltk.pos_tag(x),cleaned_list))"
   ]
  },
  {
   "cell_type": "code",
   "execution_count": 109,
   "metadata": {
    "collapsed": false
   },
   "outputs": [
    {
     "data": {
      "text/plain": [
       "[('NN', 51277),\n",
       " ('JJ', 18062),\n",
       " ('VBD', 4885),\n",
       " ('VBG', 3988),\n",
       " ('RB', 3280),\n",
       " ('VBN', 2542),\n",
       " ('VB', 2152),\n",
       " ('VBP', 1607),\n",
       " ('IN', 1293),\n",
       " ('NNS', 1119),\n",
       " ('FW', 521),\n",
       " ('VBZ', 521),\n",
       " ('CD', 514),\n",
       " ('JJR', 446),\n",
       " ('MD', 422),\n",
       " ('JJS', 330),\n",
       " ('CC', 144),\n",
       " ('RBR', 141),\n",
       " ('PRP', 137),\n",
       " ('DT', 98),\n",
       " ('NNP', 73),\n",
       " ('RBS', 55),\n",
       " ('RP', 37),\n",
       " ('WP', 33),\n",
       " ('WRB', 18),\n",
       " ('SYM', 12),\n",
       " ('EX', 6),\n",
       " ('UH', 5),\n",
       " ('WDT', 4),\n",
       " ('WP$', 2),\n",
       " ('PRP$', 1)]"
      ]
     },
     "execution_count": 109,
     "metadata": {},
     "output_type": "execute_result"
    }
   ],
   "source": [
    "sorted(dict(Counter(list(map(lambda x: x[1],sum(corpus_with_pos,[]))))).items(),key=operator.itemgetter(1),reverse = True)"
   ]
  },
  {
   "cell_type": "code",
   "execution_count": 110,
   "metadata": {
    "collapsed": false
   },
   "outputs": [
    {
     "name": "stderr",
     "output_type": "stream",
     "text": [
      "C:\\Users\\mnan\\Anaconda3\\lib\\site-packages\\ipykernel\\__main__.py:2: FutureWarning: sort(columns=....) is deprecated, use sort_values(by=.....)\n",
      "  from ipykernel import kernelapp as app\n"
     ]
    },
    {
     "data": {
      "text/plain": [
       "<matplotlib.axes._subplots.AxesSubplot at 0x13416550>"
      ]
     },
     "execution_count": 110,
     "metadata": {},
     "output_type": "execute_result"
    },
    {
     "data": {
      "image/png": "[encoded data removed]",
      "text/plain": [
       "<matplotlib.figure.Figure at 0x13416d90>"
      ]
     },
     "metadata": {},
     "output_type": "display_data"
    }
   ],
   "source": [
    "count_pos_dict = dict(Counter(list(map(lambda x: x[1],sum(corpus_with_pos,[])))))\n",
    "pd.DataFrame({'count':list(count_pos_dict.values()),'pos':list(count_pos_dict.keys())}).set_index('pos').sort('count',ascending=False).plot(kind = 'bar')"
   ]
  },
  {
   "cell_type": "code",
   "execution_count": 111,
   "metadata": {
    "collapsed": true
   },
   "outputs": [],
   "source": [
    "keep_pos = ['JJ','JJS','JJR','NN','NNP','RB','VB','VBP','VBZ','RBR','VBD','VBN']"
   ]
  },
  {
   "cell_type": "code",
   "execution_count": 112,
   "metadata": {
    "collapsed": false
   },
   "outputs": [
    {
     "data": {
      "text/plain": [
       "[('JJS', 330),\n",
       " ('VBN', 2542),\n",
       " ('VBP', 1607),\n",
       " ('NNP', 73),\n",
       " ('VBZ', 521),\n",
       " ('VBD', 4885),\n",
       " ('JJ', 18062),\n",
       " ('VB', 2152),\n",
       " ('JJR', 446),\n",
       " ('RBR', 141),\n",
       " ('RB', 3280),\n",
       " ('NN', 51277)]"
      ]
     },
     "execution_count": 112,
     "metadata": {},
     "output_type": "execute_result"
    }
   ],
   "source": [
    "list(filter(lambda x: x[0] in keep_pos,dict(Counter(list(map(lambda x: x[1],sum(corpus_with_pos,[]))))).items()))"
   ]
  },
  {
   "cell_type": "code",
   "execution_count": 113,
   "metadata": {
    "collapsed": false
   },
   "outputs": [],
   "source": [
    "filtered_corpus_with_pos=[]\n",
    "for i in corpus_with_pos:\n",
    "    filtered_corpus_with_pos.append(list(filter(lambda x: x[1] in keep_pos,i)))"
   ]
  },
  {
   "cell_type": "code",
   "execution_count": 114,
   "metadata": {
    "collapsed": false
   },
   "outputs": [],
   "source": [
    "filtered_corpus_by_pos = []\n",
    "for i in filtered_corpus_with_pos:\n",
    "    filtered_corpus_by_pos.append(list(map(lambda x: x[0],i)))"
   ]
  },
  {
   "cell_type": "code",
   "execution_count": 115,
   "metadata": {
    "collapsed": false
   },
   "outputs": [],
   "source": [
    "dictionary_pos = Dictionary(filtered_corpus_by_pos)\n",
    "corpus_pos = [dictionary_pos.doc2bow(text) for text in filtered_corpus_by_pos]"
   ]
  },
  {
   "cell_type": "code",
   "execution_count": 117,
   "metadata": {
    "collapsed": false
   },
   "outputs": [
    {
     "data": {
      "text/plain": [
       "[(0,\n",
       "  '0.019*\"photo\" + 0.019*\"goodness\" + 0.018*\"thank\" + 0.017*\"light\" + 0.011*\"mask\" + 0.010*\"collagen\" + 0.009*\"acne\" + 0.007*\"skin\" + 0.007*\"repair\" + 0.007*\"wrinkle\"'),\n",
       " (1,\n",
       "  '0.106*\"environment\" + 0.104*\"bus\" + 0.103*\"brighten\" + 0.100*\"stop\" + 0.099*\"panel\" + 0.096*\"news\" + 0.090*\"energy\" + 0.086*\"technology\" + 0.085*\"winter\" + 0.003*\"treat\"'),\n",
       " (2,\n",
       "  '0.025*\"think\" + 0.015*\"tried\" + 0.014*\"got\" + 0.013*\"perhaps\" + 0.013*\"quality\" + 0.011*\"issue\" + 0.011*\"many\" + 0.011*\"skincare\" + 0.010*\"realize\" + 0.010*\"rosy\"'),\n",
       " (3,\n",
       "  '0.013*\"skin\" + 0.013*\"work\" + 0.012*\"dermatology\" + 0.011*\"watch\" + 0.011*\"video\" + 0.010*\"fight\" + 0.009*\"safest\" + 0.009*\"probably\" + 0.009*\"renowned\" + 0.009*\"related\"'),\n",
       " (4,\n",
       "  '0.027*\"complete\" + 0.025*\"exciting\" + 0.025*\"day\" + 0.022*\"rt\" + 0.018*\"matter\" + 0.017*\"pain\" + 0.017*\"downtime\" + 0.017*\"needle\" + 0.015*\"mask\" + 0.014*\"intensity\"'),\n",
       " (5,\n",
       "  '0.090*\"violet\" + 0.051*\"benefit\" + 0.031*\"skincare\" + 0.024*\"cause\" + 0.024*\"rt\" + 0.012*\"home\" + 0.012*\"skin\" + 0.010*\"wavelength\" + 0.010*\"regenerate\" + 0.010*\"newer\"'),\n",
       " (6,\n",
       "  '0.035*\"rt\" + 0.031*\"skincare\" + 0.023*\"improves\" + 0.017*\"stuff\" + 0.015*\"work\" + 0.015*\"system\" + 0.015*\"solution\" + 0.015*\"estimated\" + 0.014*\"spa\" + 0.014*\"affect\"'),\n",
       " (7,\n",
       "  '0.037*\"blue\" + 0.036*\"acne\" + 0.033*\"red\" + 0.025*\"ultrasonic\" + 0.024*\"new\" + 0.024*\"led\" + 0.022*\"wrinkle\" + 0.022*\"sun\" + 0.020*\"ultrasound\" + 0.017*\"healing\"'),\n",
       " (8,\n",
       "  '0.031*\"look\" + 0.023*\"help\" + 0.021*\"anti\" + 0.021*\"prevent\" + 0.017*\"remedy\" + 0.014*\"rt\" + 0.012*\"blue\" + 0.012*\"care\" + 0.012*\"excellent\" + 0.012*\"acne\"'),\n",
       " (9,\n",
       "  '0.055*\"mask\" + 0.042*\"photon\" + 0.039*\"led\" + 0.037*\"rejuvenation\" + 0.031*\"beauty\" + 0.029*\"new\" + 0.028*\"color\" + 0.027*\"skin\" + 0.017*\"care\" + 0.016*\"machine\"')]"
      ]
     },
     "execution_count": 117,
     "metadata": {},
     "output_type": "execute_result"
    }
   ],
   "source": [
    "tfidf_by_pos = models.TfidfModel(corpus_pos)\n",
    "corpus_by_pos_tfidf = tfidf_by_pos[corpus_pos]\n",
    "num_topics = 10\n",
    "lda_pos_tfidf = LdaModel(corpus_by_pos_tfidf, id2word=dictionary_pos, num_topics=num_topics)\n",
    "lda_pos_tfidf.show_topics(num_topics,10)"
   ]
  },
  {
   "cell_type": "code",
   "execution_count": null,
   "metadata": {
    "collapsed": true
   },
   "outputs": [],
   "source": []
  },
  {
   "cell_type": "code",
   "execution_count": 118,
   "metadata": {
    "collapsed": false
   },
   "outputs": [
    {
     "name": "stderr",
     "output_type": "stream",
     "text": [
      "C:\\Users\\mnan\\Anaconda3\\lib\\site-packages\\gensim\\models\\phrases.py:248: UserWarning: For a faster implementation, use the gensim.models.phrases.Phraser class\n",
      "  warnings.warn(\"For a faster implementation, use the gensim.models.phrases.Phraser class\")\n"
     ]
    }
   ],
   "source": [
    "bigram = gensim.models.Phrases(cleaned_list,min_count=1, threshold=2)\n",
    "dictionary_text_list = list(bigram[cleaned_list])\n",
    "train_text_list = list(bigram[cleaned_list])\n",
    "dictionary_bigram = Dictionary(dictionary_text_list)\n",
    "corpus_bigram = [dictionary_bigram.doc2bow(text) for text in train_text_list]"
   ]
  },
  {
   "cell_type": "code",
   "execution_count": 119,
   "metadata": {
    "collapsed": false
   },
   "outputs": [
    {
     "data": {
      "text/plain": [
       "[(0,\n",
       "  '0.027*\"violet\" + 0.016*\"benefit\" + 0.015*\"skin\" + 0.010*\"help\" + 0.008*\"low\" + 0.007*\"time\" + 0.007*\"black\" + 0.007*\"level\" + 0.006*\"red\" + 0.005*\"body\" + 0.005*\"muscle\" + 0.005*\"one\" + 0.005*\"mask\" + 0.005*\"led\" + 0.004*\"tone\"'),\n",
       " (1,\n",
       "  '0.056*\"led\" + 0.052*\"skin\" + 0.030*\"wrinkle\" + 0.026*\"acne\" + 0.015*\"care\" + 0.012*\"ultrasound\" + 0.012*\"ultrasonic\" + 0.012*\"blue\" + 0.011*\"high\" + 0.011*\"red\" + 0.010*\"intensity\" + 0.009*\"machine\" + 0.009*\"focused\" + 0.009*\"collagen\" + 0.008*\"rt\"'),\n",
       " (2,\n",
       "  '0.019*\"day\" + 0.017*\"new\" + 0.017*\"mask\" + 0.014*\"device\" + 0.013*\"rt\" + 0.013*\"exciting\" + 0.013*\"complete\" + 0.012*\"launching\" + 0.011*\"added\" + 0.007*\"medical\" + 0.007*\"led\" + 0.007*\"pub\" + 0.005*\"acne\" + 0.005*\"patient\" + 0.005*\"health\"'),\n",
       " (3,\n",
       "  '0.099*\"led\" + 0.061*\"mask\" + 0.056*\"skin\" + 0.048*\"acne\" + 0.042*\"beauty\" + 0.040*\"photon\" + 0.040*\"rejuvenation\" + 0.035*\"new\" + 0.028*\"color\" + 0.026*\"blue\" + 0.025*\"red\" + 0.018*\"care\" + 0.016*\"sun\" + 0.014*\"face\" + 0.012*\"healing\"'),\n",
       " (4,\n",
       "  '0.098*\"technology\" + 0.098*\"energy\" + 0.097*\"panel\" + 0.097*\"winter\" + 0.097*\"stop\" + 0.097*\"brighten\" + 0.097*\"news\" + 0.097*\"environment\" + 0.097*\"bus\" + 0.004*\"skin\" + 0.003*\"face\" + 0.003*\"cosmetic\" + 0.003*\"rt\" + 0.003*\"new\" + 0.002*\"red\"'),\n",
       " (5,\n",
       "  '0.016*\"skin\" + 0.014*\"today\" + 0.013*\"led\" + 0.012*\"skincare\" + 0.011*\"rt\" + 0.009*\"hot\" + 0.009*\"here\" + 0.009*\"eye\" + 0.009*\"industry\" + 0.008*\"work\" + 0.008*\"get\" + 0.008*\"acne\" + 0.008*\"stuff\" + 0.008*\"red\" + 0.007*\"dark\"'),\n",
       " (6,\n",
       "  '0.032*\"acne\" + 0.032*\"rt\" + 0.020*\"mask\" + 0.019*\"skin\" + 0.018*\"spot\" + 0.015*\"photo\" + 0.014*\"light\" + 0.013*\"thank\" + 0.011*\"unforgiving\" + 0.011*\"goodness\" + 0.011*\"treat\" + 0.011*\"age\" + 0.010*\"green\" + 0.010*\"symptom\" + 0.009*\"inflammation\"'),\n",
       " (7,\n",
       "  '0.062*\"acne\" + 0.050*\"anti\" + 0.043*\"skin\" + 0.029*\"aging\" + 0.028*\"led\" + 0.028*\"rt\" + 0.025*\"blue\" + 0.022*\"min\" + 0.019*\"care\" + 0.018*\"red\" + 0.018*\"remedy\" + 0.014*\"laser\" + 0.013*\"car\" + 0.011*\"ride\" + 0.011*\"score\"'),\n",
       " (8,\n",
       "  '0.052*\"rt\" + 0.049*\"skin\" + 0.032*\"acne\" + 0.016*\"led\" + 0.013*\"help\" + 0.011*\"natural\" + 0.011*\"blue\" + 0.009*\"problem\" + 0.009*\"beauty\" + 0.009*\"prevent\" + 0.009*\"pain\" + 0.009*\"red\" + 0.009*\"solution\" + 0.009*\"way\" + 0.009*\"people\"'),\n",
       " (9,\n",
       "  '0.093*\"rt\" + 0.077*\"skincare\" + 0.033*\"system\" + 0.030*\"skin\" + 0.020*\"psoriasis\" + 0.019*\"treat\" + 0.016*\"think\" + 0.014*\"used\" + 0.014*\"dermatology\" + 0.014*\"work\" + 0.013*\"condition\" + 0.013*\"look\" + 0.010*\"revive\" + 0.010*\"got\" + 0.010*\"step\"')]"
      ]
     },
     "execution_count": 119,
     "metadata": {},
     "output_type": "execute_result"
    }
   ],
   "source": [
    "num_topics = 10\n",
    "lda_tfidf = LdaModel(corpus_bigram, id2word=dictionary_bigram, num_topics=num_topics)\n",
    "lda.show_topics(num_topics,15)"
   ]
  },
  {
   "cell_type": "markdown",
   "metadata": {},
   "source": [
    "** Look Bad **"
   ]
  },
  {
   "cell_type": "markdown",
   "metadata": {},
   "source": [
    "# Conclusion:"
   ]
  },
  {
   "cell_type": "markdown",
   "metadata": {},
   "source": [
    "#### Bag of Words is the best"
   ]
  },
  {
   "cell_type": "code",
   "execution_count": null,
   "metadata": {
    "collapsed": true
   },
   "outputs": [],
   "source": []
  }
 ],
 "metadata": {
  "anaconda-cloud": {},
  "kernelspec": {
   "display_name": "Python [default]",
   "language": "python",
   "name": "python3"
  },
  "language_info": {
   "codemirror_mode": {
    "name": "ipython",
    "version": 3
   },
   "file_extension": ".py",
   "mimetype": "text/x-python",
   "name": "python",
   "nbconvert_exporter": "python",
   "pygments_lexer": "ipython3",
   "version": "3.5.2"
  }
 },
 "nbformat": 4,
 "nbformat_minor": 1
}
