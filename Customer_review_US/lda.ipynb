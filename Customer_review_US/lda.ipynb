{
 "cells": [
  {
   "cell_type": "code",
   "execution_count": 5,
   "metadata": {
    "collapsed": false
   },
   "outputs": [],
   "source": [
    "from gensim.models.ldamodel import LdaModel\n",
    "import gensim\n",
    "import pandas as pd\n",
    "import glob\n",
    "from nltk.corpus import stopwords\n",
    "import string\n",
    "from gensim import corpora,models\n",
    "from gensim.utils import lemmatize # Only keep nums\n",
    "from gensim.corpora import Dictionary\n",
    "%matplotlib inline\n",
    "import matplotlib.pyplot as plt\n",
    "from nltk.stem.wordnet import WordNetLemmatizer\n",
    "import sys\n",
    "import numpy as np\n",
    "import enchant"
   ]
  },
  {
   "cell_type": "code",
   "execution_count": 9,
   "metadata": {
    "collapsed": false
   },
   "outputs": [],
   "source": [
    "def process_text(content_list):\n",
    "    \"\"\"\n",
    "    stopwords\n",
    "    \n",
    "    punctuation\n",
    "    \n",
    "    digits\n",
    "    \n",
    "    english words\n",
    "    \n",
    "    \"\"\"\n",
    "    typical_words = ['light','therapy','facial','treatment','skin','rt']\n",
    "    stoplist = stopwords.words('english') + typical_words \n",
    "    \n",
    "    remove_digits = str.maketrans('', '', string.digits)\n",
    "    remove_punctuation = str.maketrans('', '', string.punctuation)\n",
    "    \n",
    "    dict_english = enchant.Dict(\"en_US\")\n",
    "    \n",
    "    lemma = WordNetLemmatizer()\n",
    "    \n",
    "    content_cleaned =[i.translate(remove_digits) for i in content_list]\n",
    "    \n",
    "    content_cleaned = [i.translate(remove_punctuation) for i in content_cleaned]\n",
    "    \n",
    "    content_cleaned = [[lemma.lemmatize(word.lower()) for word in line.split()\n",
    "                        if (word.lower() not in stoplist) and dict_english.check(word.lower())==True] for line in content_cleaned]\n",
    "\n",
    "    return content_cleaned"
   ]
  },
  {
   "cell_type": "code",
   "execution_count": 10,
   "metadata": {
    "collapsed": false
   },
   "outputs": [
    {
     "name": "stdout",
     "output_type": "stream",
     "text": [
      "8001\n",
      "after process....\n",
      "8001\n"
     ]
    }
   ],
   "source": [
    "content = pd.read_csv('text.csv',encoding = 'iso-8859-1',header=None)\n",
    "content.columns = ['content']\n",
    "content['content']\n",
    "print(len(content))\n",
    "content_list = content['content'].values\n",
    "cleaned_list = process_text(content_list)\n",
    "print('after process....')\n",
    "print(len(cleaned_list))"
   ]
  },
  {
   "cell_type": "markdown",
   "metadata": {},
   "source": [
    "Reviews with no extracted value"
   ]
  },
  {
   "cell_type": "code",
   "execution_count": 11,
   "metadata": {
    "collapsed": false
   },
   "outputs": [
    {
     "data": {
      "text/plain": [
       "62"
      ]
     },
     "execution_count": 11,
     "metadata": {},
     "output_type": "execute_result"
    }
   ],
   "source": [
    "len(list(filter(lambda x:x==[],cleaned_list)))"
   ]
  },
  {
   "cell_type": "markdown",
   "metadata": {},
   "source": [
    "** Build Dict **"
   ]
  },
  {
   "cell_type": "code",
   "execution_count": 12,
   "metadata": {
    "collapsed": true
   },
   "outputs": [],
   "source": [
    "dictionary = Dictionary(cleaned_list)\n",
    "corpus = [dictionary.doc2bow(text) for text in cleaned_list]"
   ]
  },
  {
   "cell_type": "code",
   "execution_count": 13,
   "metadata": {
    "collapsed": false
   },
   "outputs": [
    {
     "data": {
      "text/plain": [
       "[(0,\n",
       "  '0.026*\"led\" + 0.018*\"cause\" + 0.014*\"red\" + 0.014*\"device\" + 0.011*\"beauty\" + 0.011*\"cell\" + 0.010*\"acne\" + 0.010*\"wavelength\" + 0.009*\"layer\" + 0.009*\"create\" + 0.008*\"healthier\" + 0.008*\"regenerate\" + 0.008*\"laser\" + 0.007*\"newer\" + 0.006*\"like\"'),\n",
       " (1,\n",
       "  '0.040*\"skincare\" + 0.035*\"anti\" + 0.027*\"care\" + 0.022*\"acne\" + 0.021*\"aging\" + 0.019*\"led\" + 0.018*\"min\" + 0.017*\"natural\" + 0.014*\"system\" + 0.014*\"remedy\" + 0.014*\"revive\" + 0.010*\"step\" + 0.010*\"car\" + 0.010*\"improves\" + 0.009*\"spa\"'),\n",
       " (2,\n",
       "  '0.069*\"led\" + 0.053*\"skincare\" + 0.033*\"violet\" + 0.032*\"machine\" + 0.027*\"ultrasound\" + 0.026*\"benefit\" + 0.025*\"photon\" + 0.025*\"care\" + 0.023*\"system\" + 0.022*\"intensity\" + 0.021*\"beauty\" + 0.021*\"ultrasonic\" + 0.019*\"think\" + 0.018*\"wrinkle\" + 0.017*\"mask\"'),\n",
       " (3,\n",
       "  '0.095*\"energy\" + 0.095*\"technology\" + 0.094*\"winter\" + 0.094*\"stop\" + 0.094*\"news\" + 0.094*\"brighten\" + 0.094*\"panel\" + 0.094*\"environment\" + 0.094*\"bus\" + 0.004*\"psoriasis\" + 0.004*\"used\" + 0.003*\"condition\" + 0.002*\"treat\" + 0.002*\"system\" + 0.002*\"serious\"'),\n",
       " (4,\n",
       "  '0.020*\"day\" + 0.016*\"mask\" + 0.016*\"skincare\" + 0.013*\"today\" + 0.012*\"exciting\" + 0.012*\"complete\" + 0.012*\"issue\" + 0.012*\"launching\" + 0.011*\"study\" + 0.009*\"hot\" + 0.009*\"here\" + 0.009*\"industry\" + 0.008*\"sleep\" + 0.008*\"stuff\" + 0.007*\"cancer\"'),\n",
       " (5,\n",
       "  '0.037*\"acne\" + 0.018*\"treat\" + 0.018*\"spot\" + 0.016*\"collagen\" + 0.016*\"wrinkle\" + 0.014*\"led\" + 0.013*\"red\" + 0.011*\"age\" + 0.010*\"pain\" + 0.009*\"freckle\" + 0.009*\"redness\" + 0.009*\"needle\" + 0.009*\"downtime\" + 0.008*\"help\" + 0.008*\"sun\"'),\n",
       " (6,\n",
       "  '0.014*\"hair\" + 0.013*\"laser\" + 0.011*\"may\" + 0.010*\"acne\" + 0.007*\"new\" + 0.007*\"come\" + 0.007*\"following\" + 0.006*\"help\" + 0.006*\"go\" + 0.006*\"symptom\" + 0.006*\"led\" + 0.006*\"use\" + 0.005*\"dark\" + 0.005*\"diet\" + 0.005*\"sun\"'),\n",
       " (7,\n",
       "  '0.010*\"pub\" + 0.010*\"affect\" + 0.009*\"according\" + 0.009*\"million\" + 0.009*\"estimated\" + 0.007*\"invented\" + 0.007*\"using\" + 0.006*\"patient\" + 0.006*\"black\" + 0.006*\"effective\" + 0.005*\"clinic\" + 0.005*\"time\" + 0.005*\"use\" + 0.005*\"love\" + 0.004*\"treatment\"'),\n",
       " (8,\n",
       "  '0.094*\"acne\" + 0.067*\"blue\" + 0.053*\"led\" + 0.034*\"red\" + 0.022*\"new\" + 0.018*\"sun\" + 0.017*\"cosmetic\" + 0.015*\"beauty\" + 0.014*\"healing\" + 0.013*\"face\" + 0.013*\"work\" + 0.012*\"help\" + 0.012*\"green\" + 0.011*\"look\" + 0.010*\"wrinkle\"'),\n",
       " (9,\n",
       "  '0.077*\"mask\" + 0.073*\"led\" + 0.051*\"new\" + 0.029*\"color\" + 0.028*\"rejuvenation\" + 0.027*\"photon\" + 0.022*\"face\" + 0.020*\"beauty\" + 0.020*\"acne\" + 0.017*\"red\" + 0.013*\"pain\" + 0.012*\"care\" + 0.012*\"wrinkle\" + 0.011*\"ultrasonic\" + 0.010*\"added\"')]"
      ]
     },
     "execution_count": 13,
     "metadata": {},
     "output_type": "execute_result"
    }
   ],
   "source": [
    "num_topics = 10\n",
    "lda = LdaModel(corpus, num_topics= num_topics,id2word = dictionary)\n",
    "lda.show_topics(num_topics,15)"
   ]
  },
  {
   "cell_type": "code",
   "execution_count": 14,
   "metadata": {
    "collapsed": false
   },
   "outputs": [],
   "source": [
    "assign = []\n",
    "for i in range(len(corpus)):\n",
    "    assign.append(sorted(lda[corpus[i]],key = lambda x:x[1],reverse = True)[0][0])\n",
    "conf_score = []\n",
    "for i in range(len(corpus)):\n",
    "    conf_score.append(sorted(lda[corpus[i]],key = lambda x:x[1],reverse = True)[0][1])"
   ]
  },
  {
   "cell_type": "code",
   "execution_count": 15,
   "metadata": {
    "collapsed": true
   },
   "outputs": [],
   "source": [
    "df_bow = pd.DataFrame({'original_text':content.content.values,\n",
    "             'corpus':corpus,\n",
    "            'assign':assign,\n",
    "            'conf_score':conf_score,\n",
    "                      'bow':cleaned_list})"
   ]
  },
  {
   "cell_type": "code",
   "execution_count": 16,
   "metadata": {
    "collapsed": false
   },
   "outputs": [
    {
     "data": {
      "text/plain": [
       "<matplotlib.axes._subplots.AxesSubplot at 0xe3bd9f0>"
      ]
     },
     "execution_count": 16,
     "metadata": {},
     "output_type": "execute_result"
    },
    {
     "data": {
      "image/png": "[encoded data removed]",
      "text/plain": [
       "<matplotlib.figure.Figure at 0xe3bdab0>"
      ]
     },
     "metadata": {},
     "output_type": "display_data"
    }
   ],
   "source": [
    "df_bow.groupby('assign').count()['original_text'].plot(kind='pie')"
   ]
  },
  {
   "cell_type": "code",
   "execution_count": 17,
   "metadata": {
    "collapsed": false
   },
   "outputs": [
    {
     "data": {
      "text/plain": [
       "<matplotlib.axes._subplots.AxesSubplot at 0xe6074b0>"
      ]
     },
     "execution_count": 17,
     "metadata": {},
     "output_type": "execute_result"
    },
    {
     "data": {
      "image/png": "[encoded data removed]",
      "text/plain": [
       "<matplotlib.figure.Figure at 0xe607730>"
      ]
     },
     "metadata": {},
     "output_type": "display_data"
    }
   ],
   "source": [
    "df_bow['conf_score'].hist()"
   ]
  },
  {
   "cell_type": "code",
   "execution_count": 18,
   "metadata": {
    "collapsed": false
   },
   "outputs": [
    {
     "data": {
      "text/html": [
       "<div>\n",
       "<table border=\"1\" class=\"dataframe\">\n",
       "  <thead>\n",
       "    <tr style=\"text-align: right;\">\n",
       "      <th></th>\n",
       "      <th>bow</th>\n",
       "      <th>original_text</th>\n",
       "    </tr>\n",
       "  </thead>\n",
       "  <tbody>\n",
       "    <tr>\n",
       "      <th>3</th>\n",
       "      <td>[may, face, lotion, lite, review, two, favorit...</td>\n",
       "      <td>Sunday, May 1, 2016\\n\\nGlyDerm Face Lotion Lit...</td>\n",
       "    </tr>\n",
       "    <tr>\n",
       "      <th>15</th>\n",
       "      <td>[eczema, led]</td>\n",
       "      <td>Eczema before and after only 2 Dermalux LED Li...</td>\n",
       "    </tr>\n",
       "    <tr>\n",
       "      <th>25</th>\n",
       "      <td>[present, doc, peel, wonderful, experience]</td>\n",
       "      <td>#DmvNetworks presents\\n\\nDC Derm Docs\\nBotox, ...</td>\n",
       "    </tr>\n",
       "    <tr>\n",
       "      <th>29</th>\n",
       "      <td>[acne, experience]</td>\n",
       "      <td>Acne Light Therapy Treatment Experience people...</td>\n",
       "    </tr>\n",
       "    <tr>\n",
       "      <th>46</th>\n",
       "      <td>[lighting, spa, connection, spa, rejuvenate, w...</td>\n",
       "      <td>Lighting it up @ Spa Connection #spa #skin rej...</td>\n",
       "    </tr>\n",
       "    <tr>\n",
       "      <th>52</th>\n",
       "      <td>[electric, led, eye, care, massage, pen, photo...</td>\n",
       "      <td>2 in 1 Electric LED Therapy Eye Care Massage P...</td>\n",
       "    </tr>\n",
       "    <tr>\n",
       "      <th>64</th>\n",
       "      <td>[remove, brown, sun, spot, red, vein, lead, yo...</td>\n",
       "      <td>RT @GreenSpaVan: #SaturdaySkinCare: #IPL #Phot...</td>\n",
       "    </tr>\n",
       "    <tr>\n",
       "      <th>83</th>\n",
       "      <td>[interested, red, read, skincare]</td>\n",
       "      <td>Interested in having a Red Light Therapy?\\nRea...</td>\n",
       "    </tr>\n",
       "    <tr>\n",
       "      <th>89</th>\n",
       "      <td>[opera, led, mask, action, orchid, spa, wellne...</td>\n",
       "      <td>This is the OPERA LED facial mask in action at...</td>\n",
       "    </tr>\n",
       "    <tr>\n",
       "      <th>98</th>\n",
       "      <td>[angel, kiss, care, led, mask, led, photon, re...</td>\n",
       "      <td>Angel Kiss Facial Care Led Mask - LED Photon T...</td>\n",
       "    </tr>\n",
       "    <tr>\n",
       "      <th>104</th>\n",
       "      <td>[original, acne, severe, acne, blemish, new]</td>\n",
       "      <td>Syro Original BioBeam Acne Severe Acne Light T...</td>\n",
       "    </tr>\n",
       "    <tr>\n",
       "      <th>112</th>\n",
       "      <td>[also, wonder]</td>\n",
       "      <td>Light therapy also does wonders! Led-mask.com</td>\n",
       "    </tr>\n",
       "    <tr>\n",
       "      <th>115</th>\n",
       "      <td>[one, quickest, least, damaging, treatment, ty...</td>\n",
       "      <td>One of the quickest and least damaging treatme...</td>\n",
       "    </tr>\n",
       "    <tr>\n",
       "      <th>118</th>\n",
       "      <td>[zap, acne, spot, device, result, hour, blue, ...</td>\n",
       "      <td>Tanda Zap Acne Spot Treatment Device Results I...</td>\n",
       "    </tr>\n",
       "    <tr>\n",
       "      <th>124</th>\n",
       "      <td>[diode, laser, led, helmet, hair, loss, regrow...</td>\n",
       "      <td>38 Diodes Laser LED Therapy Helmet Hair Loss R...</td>\n",
       "    </tr>\n",
       "    <tr>\n",
       "      <th>135</th>\n",
       "      <td>[led, neck, mask, home, self, care, device]</td>\n",
       "      <td>MILUX LED Facial, Neck MASK Home Esthetics, Se...</td>\n",
       "    </tr>\n",
       "    <tr>\n",
       "      <th>152</th>\n",
       "      <td>[u, want, discover, mask, helping, heal, acne,...</td>\n",
       "      <td>IF u want 2discover how @Neutrogena Light Ther...</td>\n",
       "    </tr>\n",
       "    <tr>\n",
       "      <th>162</th>\n",
       "      <td>[]</td>\n",
       "      <td>RT @vBBlogDirectory: What is #Rosacea? therali...</td>\n",
       "    </tr>\n",
       "    <tr>\n",
       "      <th>167</th>\n",
       "      <td>[also, check, acne, use, home]</td>\n",
       "      <td>@SkinCareTips3 and also check out @LustrePureL...</td>\n",
       "    </tr>\n",
       "    <tr>\n",
       "      <th>169</th>\n",
       "      <td>[maybe, wear, sunglass, shield, tender, eye, r...</td>\n",
       "      <td>@mariskreizman maybe wear sunglasses? To shiel...</td>\n",
       "    </tr>\n",
       "    <tr>\n",
       "      <th>182</th>\n",
       "      <td>[twitter, alternative, beautiful, beauty, blue...</td>\n",
       "      <td>Facebook | Instagram | Twitter\\n\\n#d800 #lucaf...</td>\n",
       "    </tr>\n",
       "    <tr>\n",
       "      <th>197</th>\n",
       "      <td>[contains, help, stimulate, skin, collagen, pr...</td>\n",
       "      <td>Amazon-FR: http://jaxo.space/para/2/fr/B013L81...</td>\n",
       "    </tr>\n",
       "    <tr>\n",
       "      <th>208</th>\n",
       "      <td>[face, treatment, value]</td>\n",
       "      <td>IPL-e-light Photofacial, Face &amp; Neck-Three Tre...</td>\n",
       "    </tr>\n",
       "    <tr>\n",
       "      <th>212</th>\n",
       "      <td>[red, anti, wrinkle, acne, collagen, serum, qu...</td>\n",
       "      <td>LIGHTSTIM RED LIGHT THERAPY ANTI WRINKLES + AC...</td>\n",
       "    </tr>\n",
       "    <tr>\n",
       "      <th>214</th>\n",
       "      <td>[acne, may, cure, acne]</td>\n",
       "      <td>RT @healthwomeninfo: Acne: Light Therapy May C...</td>\n",
       "    </tr>\n",
       "    <tr>\n",
       "      <th>242</th>\n",
       "      <td>[led, visit, facial, quality]</td>\n",
       "      <td>LED light therapy is here!!!!! Visit @QLuxSpa!...</td>\n",
       "    </tr>\n",
       "    <tr>\n",
       "      <th>250</th>\n",
       "      <td>[best, moment, ever, featured, new, acne, mask...</td>\n",
       "      <td>RT @Neutrogena: Best TV moment ever: @TheEllen...</td>\n",
       "    </tr>\n",
       "    <tr>\n",
       "      <th>253</th>\n",
       "      <td>[acne, may, cure, acne]</td>\n",
       "      <td>RT @healthwomeninfo: Acne: Light Therapy May C...</td>\n",
       "    </tr>\n",
       "    <tr>\n",
       "      <th>255</th>\n",
       "      <td>[business, opportunity, k, led, acne, wrinkle,...</td>\n",
       "      <td>RT @JoseGAbreu: Offline Business Opportunity u...</td>\n",
       "    </tr>\n",
       "    <tr>\n",
       "      <th>273</th>\n",
       "      <td>[led, mask, course, winchester]</td>\n",
       "      <td>LED FACIAL MASK COURSE: Hampshire (nr Winchest...</td>\n",
       "    </tr>\n",
       "    <tr>\n",
       "      <th>...</th>\n",
       "      <td>...</td>\n",
       "      <td>...</td>\n",
       "    </tr>\n",
       "    <tr>\n",
       "      <th>7762</th>\n",
       "      <td>[cant, tell, red, work, everything, one, wrink...</td>\n",
       "      <td>I can't tell if red light therapy works for ev...</td>\n",
       "    </tr>\n",
       "    <tr>\n",
       "      <th>7765</th>\n",
       "      <td>[led, news, feed, showcase, breathing, innovat...</td>\n",
       "      <td>LED News Feed: Philips Showcases Breathing and...</td>\n",
       "    </tr>\n",
       "    <tr>\n",
       "      <th>7769</th>\n",
       "      <td>[check, deluxe, age, defying, combination, oxy...</td>\n",
       "      <td>Check out our Deluxe Age Defying Facial! A com...</td>\n",
       "    </tr>\n",
       "    <tr>\n",
       "      <th>7775</th>\n",
       "      <td>[ultrasound, led, galvanic, care, massage, via]</td>\n",
       "      <td>Ultrasound LED Light Therapy Galvanic Anti-Agi...</td>\n",
       "    </tr>\n",
       "    <tr>\n",
       "      <th>7786</th>\n",
       "      <td>[slimming, acne, mask]</td>\n",
       "      <td>#fitlifeforlife #slimming illuMask Acne Light ...</td>\n",
       "    </tr>\n",
       "    <tr>\n",
       "      <th>7790</th>\n",
       "      <td>[]</td>\n",
       "      <td>RT @vBBlogDirectory: What is #Rosacea? therali...</td>\n",
       "    </tr>\n",
       "    <tr>\n",
       "      <th>7791</th>\n",
       "      <td>[laser, great, erasing, acne, scar, amazing, t...</td>\n",
       "      <td>Light therapy and lasers are great for erasing...</td>\n",
       "    </tr>\n",
       "    <tr>\n",
       "      <th>7807</th>\n",
       "      <td>[patented, led, effective, affordable, technol...</td>\n",
       "      <td>LightStim patented LED Light Therapy is the mo...</td>\n",
       "    </tr>\n",
       "    <tr>\n",
       "      <th>7809</th>\n",
       "      <td>[]</td>\n",
       "      <td>RT @vBBlogDirectory: What is #Rosacea? therali...</td>\n",
       "    </tr>\n",
       "    <tr>\n",
       "      <th>7815</th>\n",
       "      <td>[]</td>\n",
       "      <td>What is #Rosacea? theralightinc.com/light-ther...</td>\n",
       "    </tr>\n",
       "    <tr>\n",
       "      <th>7824</th>\n",
       "      <td>[natural, cure, psoriasis, employed, harmony, ...</td>\n",
       "      <td>Natural cures for psoriasis be employed in har...</td>\n",
       "    </tr>\n",
       "    <tr>\n",
       "      <th>7826</th>\n",
       "      <td>[kick, notch, led]</td>\n",
       "      <td>Kick your facial up a notch with LED light the...</td>\n",
       "    </tr>\n",
       "    <tr>\n",
       "      <th>7877</th>\n",
       "      <td>[baby, quasar, plus, extra, powerful, red, dev...</td>\n",
       "      <td>Baby Quasar PLUS is an extra powerful red ligh...</td>\n",
       "    </tr>\n",
       "    <tr>\n",
       "      <th>7878</th>\n",
       "      <td>[get, k, per, hour, cash, per, hour, k, per, h...</td>\n",
       "      <td>I get about 350k per hour at prif and about 1-...</td>\n",
       "    </tr>\n",
       "    <tr>\n",
       "      <th>7884</th>\n",
       "      <td>[absolutely, fabulous, day, spent, walk, direc...</td>\n",
       "      <td>Absolutely fabulous day spent in Huntington LI...</td>\n",
       "    </tr>\n",
       "    <tr>\n",
       "      <th>7886</th>\n",
       "      <td>[diamond, led, radio, frequency, tightening, n...</td>\n",
       "      <td>RT @3dlipoandskin: Diamond Microdermabrasion ?...</td>\n",
       "    </tr>\n",
       "    <tr>\n",
       "      <th>7893</th>\n",
       "      <td>[blue, acne, laser, pen, soft, scar, wrinkle, ...</td>\n",
       "      <td>Blue Light Therapy Acne Laser Pen Soft Scar Wr...</td>\n",
       "    </tr>\n",
       "    <tr>\n",
       "      <th>7897</th>\n",
       "      <td>[beauty, device, sale, remain, flat, due, stru...</td>\n",
       "      <td>\"Beauty device sales remain flat due to a stru...</td>\n",
       "    </tr>\n",
       "    <tr>\n",
       "      <th>7900</th>\n",
       "      <td>[jet, lag, fun, known, medical, community, con...</td>\n",
       "      <td>Jet lag is not fun. \\nKnown by the medical com...</td>\n",
       "    </tr>\n",
       "    <tr>\n",
       "      <th>7914</th>\n",
       "      <td>[received, acne, mask, tried, use, work]</td>\n",
       "      <td>@Neutrogena I just received my light therapy a...</td>\n",
       "    </tr>\n",
       "    <tr>\n",
       "      <th>7936</th>\n",
       "      <td>[think, important, part, article, towards, end...</td>\n",
       "      <td>I think the most important part of this articl...</td>\n",
       "    </tr>\n",
       "    <tr>\n",
       "      <th>7938</th>\n",
       "      <td>[originally, posted, john, mentioned, use, ult...</td>\n",
       "      <td>Originally Posted by John Caton\\n\\nNeckhammer ...</td>\n",
       "    </tr>\n",
       "    <tr>\n",
       "      <th>7943</th>\n",
       "      <td>[]</td>\n",
       "      <td>RT @vBBlogDirectory: What is #Rosacea? therali...</td>\n",
       "    </tr>\n",
       "    <tr>\n",
       "      <th>7946</th>\n",
       "      <td>[radio, frequency, led, photon, beauty]</td>\n",
       "      <td>Mesotherapy Electroporation RF Radio Frequency...</td>\n",
       "    </tr>\n",
       "    <tr>\n",
       "      <th>7948</th>\n",
       "      <td>[]</td>\n",
       "      <td>What Is Anti-Ageing Omnilux Light Therapy For ...</td>\n",
       "    </tr>\n",
       "    <tr>\n",
       "      <th>7950</th>\n",
       "      <td>[led, mask, effect, led, main, kill, bacteria,...</td>\n",
       "      <td>led mask \\nEffects of led facial main\\nKill ba...</td>\n",
       "    </tr>\n",
       "    <tr>\n",
       "      <th>7955</th>\n",
       "      <td>[win, clear, unit, worth]</td>\n",
       "      <td>RT @AttachmentMumma: Win a Lumie Clear Skin Li...</td>\n",
       "    </tr>\n",
       "    <tr>\n",
       "      <th>7960</th>\n",
       "      <td>[smart, sleep, mask, cure, insomnia, jet, lag,...</td>\n",
       "      <td>Can a smart sleep mask cure insomnia and jet l...</td>\n",
       "    </tr>\n",
       "    <tr>\n",
       "      <th>7970</th>\n",
       "      <td>[best, proven, acne, go, deeper, kill, shrink,...</td>\n",
       "      <td>Light therapy is the best proven treatment for...</td>\n",
       "    </tr>\n",
       "    <tr>\n",
       "      <th>7973</th>\n",
       "      <td>[back, facial, acne, removal, black, head, acn...</td>\n",
       "      <td>Back Facials with acne treatment and light the...</td>\n",
       "    </tr>\n",
       "  </tbody>\n",
       "</table>\n",
       "<p>1156 rows × 2 columns</p>\n",
       "</div>"
      ],
      "text/plain": [
       "                                                    bow  \\\n",
       "3     [may, face, lotion, lite, review, two, favorit...   \n",
       "15                                        [eczema, led]   \n",
       "25          [present, doc, peel, wonderful, experience]   \n",
       "29                                   [acne, experience]   \n",
       "46    [lighting, spa, connection, spa, rejuvenate, w...   \n",
       "52    [electric, led, eye, care, massage, pen, photo...   \n",
       "64    [remove, brown, sun, spot, red, vein, lead, yo...   \n",
       "83                    [interested, red, read, skincare]   \n",
       "89    [opera, led, mask, action, orchid, spa, wellne...   \n",
       "98    [angel, kiss, care, led, mask, led, photon, re...   \n",
       "104        [original, acne, severe, acne, blemish, new]   \n",
       "112                                      [also, wonder]   \n",
       "115   [one, quickest, least, damaging, treatment, ty...   \n",
       "118   [zap, acne, spot, device, result, hour, blue, ...   \n",
       "124   [diode, laser, led, helmet, hair, loss, regrow...   \n",
       "135         [led, neck, mask, home, self, care, device]   \n",
       "152   [u, want, discover, mask, helping, heal, acne,...   \n",
       "162                                                  []   \n",
       "167                      [also, check, acne, use, home]   \n",
       "169   [maybe, wear, sunglass, shield, tender, eye, r...   \n",
       "182   [twitter, alternative, beautiful, beauty, blue...   \n",
       "197   [contains, help, stimulate, skin, collagen, pr...   \n",
       "208                            [face, treatment, value]   \n",
       "212   [red, anti, wrinkle, acne, collagen, serum, qu...   \n",
       "214                             [acne, may, cure, acne]   \n",
       "242                       [led, visit, facial, quality]   \n",
       "250   [best, moment, ever, featured, new, acne, mask...   \n",
       "253                             [acne, may, cure, acne]   \n",
       "255   [business, opportunity, k, led, acne, wrinkle,...   \n",
       "273                     [led, mask, course, winchester]   \n",
       "...                                                 ...   \n",
       "7762  [cant, tell, red, work, everything, one, wrink...   \n",
       "7765  [led, news, feed, showcase, breathing, innovat...   \n",
       "7769  [check, deluxe, age, defying, combination, oxy...   \n",
       "7775    [ultrasound, led, galvanic, care, massage, via]   \n",
       "7786                             [slimming, acne, mask]   \n",
       "7790                                                 []   \n",
       "7791  [laser, great, erasing, acne, scar, amazing, t...   \n",
       "7807  [patented, led, effective, affordable, technol...   \n",
       "7809                                                 []   \n",
       "7815                                                 []   \n",
       "7824  [natural, cure, psoriasis, employed, harmony, ...   \n",
       "7826                                 [kick, notch, led]   \n",
       "7877  [baby, quasar, plus, extra, powerful, red, dev...   \n",
       "7878  [get, k, per, hour, cash, per, hour, k, per, h...   \n",
       "7884  [absolutely, fabulous, day, spent, walk, direc...   \n",
       "7886  [diamond, led, radio, frequency, tightening, n...   \n",
       "7893  [blue, acne, laser, pen, soft, scar, wrinkle, ...   \n",
       "7897  [beauty, device, sale, remain, flat, due, stru...   \n",
       "7900  [jet, lag, fun, known, medical, community, con...   \n",
       "7914           [received, acne, mask, tried, use, work]   \n",
       "7936  [think, important, part, article, towards, end...   \n",
       "7938  [originally, posted, john, mentioned, use, ult...   \n",
       "7943                                                 []   \n",
       "7946            [radio, frequency, led, photon, beauty]   \n",
       "7948                                                 []   \n",
       "7950  [led, mask, effect, led, main, kill, bacteria,...   \n",
       "7955                          [win, clear, unit, worth]   \n",
       "7960  [smart, sleep, mask, cure, insomnia, jet, lag,...   \n",
       "7970  [best, proven, acne, go, deeper, kill, shrink,...   \n",
       "7973  [back, facial, acne, removal, black, head, acn...   \n",
       "\n",
       "                                          original_text  \n",
       "3     Sunday, May 1, 2016\\n\\nGlyDerm Face Lotion Lit...  \n",
       "15    Eczema before and after only 2 Dermalux LED Li...  \n",
       "25    #DmvNetworks presents\\n\\nDC Derm Docs\\nBotox, ...  \n",
       "29    Acne Light Therapy Treatment Experience people...  \n",
       "46    Lighting it up @ Spa Connection #spa #skin rej...  \n",
       "52    2 in 1 Electric LED Therapy Eye Care Massage P...  \n",
       "64    RT @GreenSpaVan: #SaturdaySkinCare: #IPL #Phot...  \n",
       "83    Interested in having a Red Light Therapy?\\nRea...  \n",
       "89    This is the OPERA LED facial mask in action at...  \n",
       "98    Angel Kiss Facial Care Led Mask - LED Photon T...  \n",
       "104   Syro Original BioBeam Acne Severe Acne Light T...  \n",
       "112       Light therapy also does wonders! Led-mask.com  \n",
       "115   One of the quickest and least damaging treatme...  \n",
       "118   Tanda Zap Acne Spot Treatment Device Results I...  \n",
       "124   38 Diodes Laser LED Therapy Helmet Hair Loss R...  \n",
       "135   MILUX LED Facial, Neck MASK Home Esthetics, Se...  \n",
       "152   IF u want 2discover how @Neutrogena Light Ther...  \n",
       "162   RT @vBBlogDirectory: What is #Rosacea? therali...  \n",
       "167   @SkinCareTips3 and also check out @LustrePureL...  \n",
       "169   @mariskreizman maybe wear sunglasses? To shiel...  \n",
       "182   Facebook | Instagram | Twitter\\n\\n#d800 #lucaf...  \n",
       "197   Amazon-FR: http://jaxo.space/para/2/fr/B013L81...  \n",
       "208   IPL-e-light Photofacial, Face & Neck-Three Tre...  \n",
       "212   LIGHTSTIM RED LIGHT THERAPY ANTI WRINKLES + AC...  \n",
       "214   RT @healthwomeninfo: Acne: Light Therapy May C...  \n",
       "242   LED light therapy is here!!!!! Visit @QLuxSpa!...  \n",
       "250   RT @Neutrogena: Best TV moment ever: @TheEllen...  \n",
       "253   RT @healthwomeninfo: Acne: Light Therapy May C...  \n",
       "255   RT @JoseGAbreu: Offline Business Opportunity u...  \n",
       "273   LED FACIAL MASK COURSE: Hampshire (nr Winchest...  \n",
       "...                                                 ...  \n",
       "7762  I can't tell if red light therapy works for ev...  \n",
       "7765  LED News Feed: Philips Showcases Breathing and...  \n",
       "7769  Check out our Deluxe Age Defying Facial! A com...  \n",
       "7775  Ultrasound LED Light Therapy Galvanic Anti-Agi...  \n",
       "7786  #fitlifeforlife #slimming illuMask Acne Light ...  \n",
       "7790  RT @vBBlogDirectory: What is #Rosacea? therali...  \n",
       "7791  Light therapy and lasers are great for erasing...  \n",
       "7807  LightStim patented LED Light Therapy is the mo...  \n",
       "7809  RT @vBBlogDirectory: What is #Rosacea? therali...  \n",
       "7815  What is #Rosacea? theralightinc.com/light-ther...  \n",
       "7824  Natural cures for psoriasis be employed in har...  \n",
       "7826  Kick your facial up a notch with LED light the...  \n",
       "7877  Baby Quasar PLUS is an extra powerful red ligh...  \n",
       "7878  I get about 350k per hour at prif and about 1-...  \n",
       "7884  Absolutely fabulous day spent in Huntington LI...  \n",
       "7886  RT @3dlipoandskin: Diamond Microdermabrasion ?...  \n",
       "7893  Blue Light Therapy Acne Laser Pen Soft Scar Wr...  \n",
       "7897  \"Beauty device sales remain flat due to a stru...  \n",
       "7900  Jet lag is not fun. \\nKnown by the medical com...  \n",
       "7914  @Neutrogena I just received my light therapy a...  \n",
       "7936  I think the most important part of this articl...  \n",
       "7938  Originally Posted by John Caton\\n\\nNeckhammer ...  \n",
       "7943  RT @vBBlogDirectory: What is #Rosacea? therali...  \n",
       "7946  Mesotherapy Electroporation RF Radio Frequency...  \n",
       "7948  What Is Anti-Ageing Omnilux Light Therapy For ...  \n",
       "7950  led mask \\nEffects of led facial main\\nKill ba...  \n",
       "7955  RT @AttachmentMumma: Win a Lumie Clear Skin Li...  \n",
       "7960  Can a smart sleep mask cure insomnia and jet l...  \n",
       "7970  Light therapy is the best proven treatment for...  \n",
       "7973  Back Facials with acne treatment and light the...  \n",
       "\n",
       "[1156 rows x 2 columns]"
      ]
     },
     "execution_count": 18,
     "metadata": {},
     "output_type": "execute_result"
    }
   ],
   "source": [
    "df_bow[df_bow['conf_score']<0.5][['bow','original_text']]"
   ]
  },
  {
   "cell_type": "markdown",
   "metadata": {
    "collapsed": true
   },
   "source": [
    "Now we try to use TFIDF"
   ]
  },
  {
   "cell_type": "code",
   "execution_count": 19,
   "metadata": {
    "collapsed": false
   },
   "outputs": [
    {
     "data": {
      "text/plain": [
       "[(0,\n",
       "  '0.026*\"led\" + 0.018*\"cause\" + 0.014*\"red\" + 0.014*\"device\" + 0.011*\"beauty\" + 0.011*\"cell\" + 0.010*\"acne\" + 0.010*\"wavelength\" + 0.009*\"layer\" + 0.009*\"create\" + 0.008*\"healthier\" + 0.008*\"regenerate\" + 0.008*\"laser\" + 0.007*\"newer\" + 0.006*\"like\"'),\n",
       " (1,\n",
       "  '0.040*\"skincare\" + 0.035*\"anti\" + 0.027*\"care\" + 0.022*\"acne\" + 0.021*\"aging\" + 0.019*\"led\" + 0.018*\"min\" + 0.017*\"natural\" + 0.014*\"system\" + 0.014*\"remedy\" + 0.014*\"revive\" + 0.010*\"step\" + 0.010*\"car\" + 0.010*\"improves\" + 0.009*\"spa\"'),\n",
       " (2,\n",
       "  '0.069*\"led\" + 0.053*\"skincare\" + 0.033*\"violet\" + 0.032*\"machine\" + 0.027*\"ultrasound\" + 0.026*\"benefit\" + 0.025*\"photon\" + 0.025*\"care\" + 0.023*\"system\" + 0.022*\"intensity\" + 0.021*\"beauty\" + 0.021*\"ultrasonic\" + 0.019*\"think\" + 0.018*\"wrinkle\" + 0.017*\"mask\"'),\n",
       " (3,\n",
       "  '0.095*\"energy\" + 0.095*\"technology\" + 0.094*\"winter\" + 0.094*\"stop\" + 0.094*\"news\" + 0.094*\"brighten\" + 0.094*\"panel\" + 0.094*\"environment\" + 0.094*\"bus\" + 0.004*\"psoriasis\" + 0.004*\"used\" + 0.003*\"condition\" + 0.002*\"treat\" + 0.002*\"system\" + 0.002*\"serious\"'),\n",
       " (4,\n",
       "  '0.020*\"day\" + 0.016*\"mask\" + 0.016*\"skincare\" + 0.013*\"today\" + 0.012*\"exciting\" + 0.012*\"complete\" + 0.012*\"issue\" + 0.012*\"launching\" + 0.011*\"study\" + 0.009*\"hot\" + 0.009*\"here\" + 0.009*\"industry\" + 0.008*\"sleep\" + 0.008*\"stuff\" + 0.007*\"cancer\"'),\n",
       " (5,\n",
       "  '0.037*\"acne\" + 0.018*\"treat\" + 0.018*\"spot\" + 0.016*\"collagen\" + 0.016*\"wrinkle\" + 0.014*\"led\" + 0.013*\"red\" + 0.011*\"age\" + 0.010*\"pain\" + 0.009*\"freckle\" + 0.009*\"redness\" + 0.009*\"needle\" + 0.009*\"downtime\" + 0.008*\"help\" + 0.008*\"sun\"'),\n",
       " (6,\n",
       "  '0.014*\"hair\" + 0.013*\"laser\" + 0.011*\"may\" + 0.010*\"acne\" + 0.007*\"new\" + 0.007*\"come\" + 0.007*\"following\" + 0.006*\"help\" + 0.006*\"go\" + 0.006*\"symptom\" + 0.006*\"led\" + 0.006*\"use\" + 0.005*\"dark\" + 0.005*\"diet\" + 0.005*\"sun\"'),\n",
       " (7,\n",
       "  '0.010*\"pub\" + 0.010*\"affect\" + 0.009*\"according\" + 0.009*\"million\" + 0.009*\"estimated\" + 0.007*\"invented\" + 0.007*\"using\" + 0.006*\"patient\" + 0.006*\"black\" + 0.006*\"effective\" + 0.005*\"clinic\" + 0.005*\"time\" + 0.005*\"use\" + 0.005*\"love\" + 0.004*\"treatment\"'),\n",
       " (8,\n",
       "  '0.094*\"acne\" + 0.067*\"blue\" + 0.053*\"led\" + 0.034*\"red\" + 0.022*\"new\" + 0.018*\"sun\" + 0.017*\"cosmetic\" + 0.015*\"beauty\" + 0.014*\"healing\" + 0.013*\"face\" + 0.013*\"work\" + 0.012*\"help\" + 0.012*\"green\" + 0.011*\"look\" + 0.010*\"wrinkle\"'),\n",
       " (9,\n",
       "  '0.077*\"mask\" + 0.073*\"led\" + 0.051*\"new\" + 0.029*\"color\" + 0.028*\"rejuvenation\" + 0.027*\"photon\" + 0.022*\"face\" + 0.020*\"beauty\" + 0.020*\"acne\" + 0.017*\"red\" + 0.013*\"pain\" + 0.012*\"care\" + 0.012*\"wrinkle\" + 0.011*\"ultrasonic\" + 0.010*\"added\"')]"
      ]
     },
     "execution_count": 19,
     "metadata": {},
     "output_type": "execute_result"
    }
   ],
   "source": [
    "tfidf = models.TfidfModel(corpus)\n",
    "corpus_tfidf = tfidf[corpus]\n",
    "num_topics = 10\n",
    "lda_tfidf = LdaModel(corpus_tfidf, id2word=dictionary, num_topics=num_topics)\n",
    "lda.show_topics(num_topics,15)"
   ]
  },
  {
   "cell_type": "code",
   "execution_count": 20,
   "metadata": {
    "collapsed": true
   },
   "outputs": [],
   "source": [
    "assign = []\n",
    "for i in range(len(corpus_tfidf)):\n",
    "    assign.append(sorted(lda_tfidf[corpus_tfidf[i]],key = lambda x:x[1],reverse = True)[0][0])\n",
    "conf_score = []\n",
    "for i in range(len(corpus_tfidf)):\n",
    "    conf_score.append(sorted(lda[corpus_tfidf[i]],key = lambda x:x[1],reverse = True)[0][1])"
   ]
  },
  {
   "cell_type": "code",
   "execution_count": 21,
   "metadata": {
    "collapsed": true
   },
   "outputs": [],
   "source": [
    "df_tfidf = pd.DataFrame({'original_text':content.content.values,\n",
    "             'corpus':corpus,\n",
    "            'assign':assign,\n",
    "            'conf_score':conf_score,\n",
    "                      'bow':cleaned_list})"
   ]
  },
  {
   "cell_type": "code",
   "execution_count": 22,
   "metadata": {
    "collapsed": false
   },
   "outputs": [
    {
     "data": {
      "text/plain": [
       "<matplotlib.axes._subplots.AxesSubplot at 0xe659e70>"
      ]
     },
     "execution_count": 22,
     "metadata": {},
     "output_type": "execute_result"
    },
    {
     "data": {
      "image/png": "[encoded data removed]",
      "text/plain": [
       "<matplotlib.figure.Figure at 0xe60f610>"
      ]
     },
     "metadata": {},
     "output_type": "display_data"
    }
   ],
   "source": [
    "df_tfidf['conf_score'].hist()"
   ]
  },
  {
   "cell_type": "code",
   "execution_count": 23,
   "metadata": {
    "collapsed": false
   },
   "outputs": [
    {
     "data": {
      "text/html": [
       "<div>\n",
       "<table border=\"1\" class=\"dataframe\">\n",
       "  <thead>\n",
       "    <tr style=\"text-align: right;\">\n",
       "      <th></th>\n",
       "      <th>bow</th>\n",
       "      <th>original_text</th>\n",
       "    </tr>\n",
       "  </thead>\n",
       "  <tbody>\n",
       "    <tr>\n",
       "      <th>2</th>\n",
       "      <td>[spotted, new, favorite, beauty, acne, mask]</td>\n",
       "      <td>@Star_news spotted @Olivia_Holt with her new f...</td>\n",
       "    </tr>\n",
       "    <tr>\n",
       "      <th>3</th>\n",
       "      <td>[may, face, lotion, lite, review, two, favorit...</td>\n",
       "      <td>Sunday, May 1, 2016\\n\\nGlyDerm Face Lotion Lit...</td>\n",
       "    </tr>\n",
       "    <tr>\n",
       "      <th>25</th>\n",
       "      <td>[present, doc, peel, wonderful, experience]</td>\n",
       "      <td>#DmvNetworks presents\\n\\nDC Derm Docs\\nBotox, ...</td>\n",
       "    </tr>\n",
       "    <tr>\n",
       "      <th>31</th>\n",
       "      <td>[skincare, issue, care]</td>\n",
       "      <td>have any #skincare issues? #olivegold03 and li...</td>\n",
       "    </tr>\n",
       "    <tr>\n",
       "      <th>48</th>\n",
       "      <td>[health, acne, new, blue, color, skincare, acn...</td>\n",
       "      <td>RT @WXU_DEZ_025: #Health #Acne sherif.ws/acne/...</td>\n",
       "    </tr>\n",
       "    <tr>\n",
       "      <th>49</th>\n",
       "      <td>[take, control, skincare]</td>\n",
       "      <td>Take control of your #rosacea with an #IPL #Ph...</td>\n",
       "    </tr>\n",
       "    <tr>\n",
       "      <th>53</th>\n",
       "      <td>[color, led, light, photon, rejuvenation, lift...</td>\n",
       "      <td>4 Colors Led Light Therapy Lights Photon Rejuv...</td>\n",
       "    </tr>\n",
       "    <tr>\n",
       "      <th>63</th>\n",
       "      <td>[improves, appearance, application]</td>\n",
       "      <td>RT @Theralight: #Photorejuvenation improves th...</td>\n",
       "    </tr>\n",
       "    <tr>\n",
       "      <th>83</th>\n",
       "      <td>[interested, red, read, skincare]</td>\n",
       "      <td>Interested in having a Red Light Therapy?\\nRea...</td>\n",
       "    </tr>\n",
       "    <tr>\n",
       "      <th>89</th>\n",
       "      <td>[opera, led, mask, action, orchid, spa, wellne...</td>\n",
       "      <td>This is the OPERA LED facial mask in action at...</td>\n",
       "    </tr>\n",
       "    <tr>\n",
       "      <th>103</th>\n",
       "      <td>[attention, new, led, available, come, get, st]</td>\n",
       "      <td>Attention! New LED light therapy now available...</td>\n",
       "    </tr>\n",
       "    <tr>\n",
       "      <th>121</th>\n",
       "      <td>[photon, mask, led, anti, aging, led, mask]</td>\n",
       "      <td>Photon Skin Facial Mask LED Light Therapy Phot...</td>\n",
       "    </tr>\n",
       "    <tr>\n",
       "      <th>124</th>\n",
       "      <td>[diode, laser, led, helmet, hair, loss, regrow...</td>\n",
       "      <td>38 Diodes Laser LED Therapy Helmet Hair Loss R...</td>\n",
       "    </tr>\n",
       "    <tr>\n",
       "      <th>150</th>\n",
       "      <td>[detail, led, acne, removal, led]</td>\n",
       "      <td>Details:  http://cavitation-slimming.com/Beaut...</td>\n",
       "    </tr>\n",
       "    <tr>\n",
       "      <th>152</th>\n",
       "      <td>[u, want, discover, mask, helping, heal, acne,...</td>\n",
       "      <td>IF u want 2discover how @Neutrogena Light Ther...</td>\n",
       "    </tr>\n",
       "    <tr>\n",
       "      <th>154</th>\n",
       "      <td>[love, led, face, mask, natural, suit, type, p...</td>\n",
       "      <td>Kourtney Kardashian loves the LED Face Mask.. ...</td>\n",
       "    </tr>\n",
       "    <tr>\n",
       "      <th>162</th>\n",
       "      <td>[]</td>\n",
       "      <td>RT @vBBlogDirectory: What is #Rosacea? therali...</td>\n",
       "    </tr>\n",
       "    <tr>\n",
       "      <th>166</th>\n",
       "      <td>[hello, beautiful, say, acne, blue, green]</td>\n",
       "      <td>Hello beautiful skin! Say bye-bye acne! Blue a...</td>\n",
       "    </tr>\n",
       "    <tr>\n",
       "      <th>167</th>\n",
       "      <td>[also, check, acne, use, home]</td>\n",
       "      <td>@SkinCareTips3 and also check out @LustrePureL...</td>\n",
       "    </tr>\n",
       "    <tr>\n",
       "      <th>169</th>\n",
       "      <td>[maybe, wear, sunglass, shield, tender, eye, r...</td>\n",
       "      <td>@mariskreizman maybe wear sunglasses? To shiel...</td>\n",
       "    </tr>\n",
       "    <tr>\n",
       "      <th>182</th>\n",
       "      <td>[twitter, alternative, beautiful, beauty, blue...</td>\n",
       "      <td>Facebook | Instagram | Twitter\\n\\n#d800 #lucaf...</td>\n",
       "    </tr>\n",
       "    <tr>\n",
       "      <th>204</th>\n",
       "      <td>[ready, little, led, thank, led, skincare]</td>\n",
       "      <td>Who is ready for a little LED Light Therapy? Y...</td>\n",
       "    </tr>\n",
       "    <tr>\n",
       "      <th>212</th>\n",
       "      <td>[red, anti, wrinkle, acne, collagen, serum, qu...</td>\n",
       "      <td>LIGHTSTIM RED LIGHT THERAPY ANTI WRINKLES + AC...</td>\n",
       "    </tr>\n",
       "    <tr>\n",
       "      <th>217</th>\n",
       "      <td>[led, photon, mask, skincare, led]</td>\n",
       "      <td>3IN1 JMF LED Photon Facial Mask Skincare LED L...</td>\n",
       "    </tr>\n",
       "    <tr>\n",
       "      <th>231</th>\n",
       "      <td>[red, blue, panel, led, photon]</td>\n",
       "      <td>XL Red Blue Light Therapy Panel. Anti-Aging. L...</td>\n",
       "    </tr>\n",
       "    <tr>\n",
       "      <th>235</th>\n",
       "      <td>[new, mask, photography]</td>\n",
       "      <td>New #DarthVader Instagram by @y.meys // #starw...</td>\n",
       "    </tr>\n",
       "    <tr>\n",
       "      <th>242</th>\n",
       "      <td>[led, visit, facial, quality]</td>\n",
       "      <td>LED light therapy is here!!!!! Visit @QLuxSpa!...</td>\n",
       "    </tr>\n",
       "    <tr>\n",
       "      <th>250</th>\n",
       "      <td>[best, moment, ever, featured, new, acne, mask...</td>\n",
       "      <td>RT @Neutrogena: Best TV moment ever: @TheEllen...</td>\n",
       "    </tr>\n",
       "    <tr>\n",
       "      <th>252</th>\n",
       "      <td>[red, blue, led, photon, activating, wrinkle, ...</td>\n",
       "      <td>RED BLUE Anti-Aging LED Photon Light Therapy.C...</td>\n",
       "    </tr>\n",
       "    <tr>\n",
       "      <th>267</th>\n",
       "      <td>[red, blue, led, photon, activating, wrinkle, ...</td>\n",
       "      <td>RED BLUE Anti-Aging LED Photon Light Therapy.C...</td>\n",
       "    </tr>\n",
       "    <tr>\n",
       "      <th>...</th>\n",
       "      <td>...</td>\n",
       "      <td>...</td>\n",
       "    </tr>\n",
       "    <tr>\n",
       "      <th>7818</th>\n",
       "      <td>[oh, meant, eczema, apparently, thats, suppose...</td>\n",
       "      <td>@AntSac76 oh no I meant that light therapy the...</td>\n",
       "    </tr>\n",
       "    <tr>\n",
       "      <th>7821</th>\n",
       "      <td>[get, ready, summer, laser]</td>\n",
       "      <td>RT @GLClinic: Get your skin ready for summer!\\...</td>\n",
       "    </tr>\n",
       "    <tr>\n",
       "      <th>7824</th>\n",
       "      <td>[natural, cure, psoriasis, employed, harmony, ...</td>\n",
       "      <td>Natural cures for psoriasis be employed in har...</td>\n",
       "    </tr>\n",
       "    <tr>\n",
       "      <th>7826</th>\n",
       "      <td>[kick, notch, led]</td>\n",
       "      <td>Kick your facial up a notch with LED light the...</td>\n",
       "    </tr>\n",
       "    <tr>\n",
       "      <th>7830</th>\n",
       "      <td>[black, mask]</td>\n",
       "      <td>Givenchy Skin Targetters Black For Light Mask ...</td>\n",
       "    </tr>\n",
       "    <tr>\n",
       "      <th>7836</th>\n",
       "      <td>[led, help, rejuvenate, via]</td>\n",
       "      <td>LED therapy to help rejuvenate skin via @holis...</td>\n",
       "    </tr>\n",
       "    <tr>\n",
       "      <th>7842</th>\n",
       "      <td>[daylight, lamp, led, technology, genuine, new]</td>\n",
       "      <td>Beurer TL 30 Daylight Lamp Light Therapy With ...</td>\n",
       "    </tr>\n",
       "    <tr>\n",
       "      <th>7843</th>\n",
       "      <td>[trans, phantom, led, mask, perfect, needling,...</td>\n",
       "      <td>Trans Phantom LED Light Mask Treatment, perfec...</td>\n",
       "    </tr>\n",
       "    <tr>\n",
       "      <th>7845</th>\n",
       "      <td>[trophy, red, device, safe, effective, led, an...</td>\n",
       "      <td>RejuvaliteMD by Trophy Skin. Red Light Therapy...</td>\n",
       "    </tr>\n",
       "    <tr>\n",
       "      <th>7855</th>\n",
       "      <td>[sleep, mask, us, battle, jet, lag, irregular,...</td>\n",
       "      <td>RT @BotDotSleep: Sleep Mask Uses Light Therapy...</td>\n",
       "    </tr>\n",
       "    <tr>\n",
       "      <th>7866</th>\n",
       "      <td>[acne, bad, breakout, highly, suggest, red, re...</td>\n",
       "      <td>If you have acne or have a bad breakout I high...</td>\n",
       "    </tr>\n",
       "    <tr>\n",
       "      <th>7877</th>\n",
       "      <td>[baby, quasar, plus, extra, powerful, red, dev...</td>\n",
       "      <td>Baby Quasar PLUS is an extra powerful red ligh...</td>\n",
       "    </tr>\n",
       "    <tr>\n",
       "      <th>7878</th>\n",
       "      <td>[get, k, per, hour, cash, per, hour, k, per, h...</td>\n",
       "      <td>I get about 350k per hour at prif and about 1-...</td>\n",
       "    </tr>\n",
       "    <tr>\n",
       "      <th>7884</th>\n",
       "      <td>[absolutely, fabulous, day, spent, walk, direc...</td>\n",
       "      <td>Absolutely fabulous day spent in Huntington LI...</td>\n",
       "    </tr>\n",
       "    <tr>\n",
       "      <th>7886</th>\n",
       "      <td>[diamond, led, radio, frequency, tightening, n...</td>\n",
       "      <td>RT @3dlipoandskin: Diamond Microdermabrasion ?...</td>\n",
       "    </tr>\n",
       "    <tr>\n",
       "      <th>7897</th>\n",
       "      <td>[beauty, device, sale, remain, flat, due, stru...</td>\n",
       "      <td>\"Beauty device sales remain flat due to a stru...</td>\n",
       "    </tr>\n",
       "    <tr>\n",
       "      <th>7900</th>\n",
       "      <td>[jet, lag, fun, known, medical, community, con...</td>\n",
       "      <td>Jet lag is not fun. \\nKnown by the medical com...</td>\n",
       "    </tr>\n",
       "    <tr>\n",
       "      <th>7904</th>\n",
       "      <td>[color, led, photon, mask, wrinkle, removal, r...</td>\n",
       "      <td>Colors LED Photon Light Therapy Facial Mask Wr...</td>\n",
       "    </tr>\n",
       "    <tr>\n",
       "      <th>7909</th>\n",
       "      <td>[blue, best, known, acne, confident, summer]</td>\n",
       "      <td>Blue Light Therapy is the best known light tre...</td>\n",
       "    </tr>\n",
       "    <tr>\n",
       "      <th>7912</th>\n",
       "      <td>[red, blue, led, photon, activating, wrinkle, ...</td>\n",
       "      <td>RED BLUE Anti-Aging LED Photon Light Therapy.C...</td>\n",
       "    </tr>\n",
       "    <tr>\n",
       "      <th>7915</th>\n",
       "      <td>[acne, blue, review, talking, acne]</td>\n",
       "      <td>BlueMD - Acne Blue Light Therapy Treatment Rev...</td>\n",
       "    </tr>\n",
       "    <tr>\n",
       "      <th>7936</th>\n",
       "      <td>[think, important, part, article, towards, end...</td>\n",
       "      <td>I think the most important part of this articl...</td>\n",
       "    </tr>\n",
       "    <tr>\n",
       "      <th>7943</th>\n",
       "      <td>[]</td>\n",
       "      <td>RT @vBBlogDirectory: What is #Rosacea? therali...</td>\n",
       "    </tr>\n",
       "    <tr>\n",
       "      <th>7948</th>\n",
       "      <td>[]</td>\n",
       "      <td>What Is Anti-Ageing Omnilux Light Therapy For ...</td>\n",
       "    </tr>\n",
       "    <tr>\n",
       "      <th>7950</th>\n",
       "      <td>[led, mask, effect, led, main, kill, bacteria,...</td>\n",
       "      <td>led mask \\nEffects of led facial main\\nKill ba...</td>\n",
       "    </tr>\n",
       "    <tr>\n",
       "      <th>7955</th>\n",
       "      <td>[win, clear, unit, worth]</td>\n",
       "      <td>RT @AttachmentMumma: Win a Lumie Clear Skin Li...</td>\n",
       "    </tr>\n",
       "    <tr>\n",
       "      <th>7967</th>\n",
       "      <td>[star, sequel, new, acne, mask]</td>\n",
       "      <td>RT @Neutrogena: After the trick-or-treating?s ...</td>\n",
       "    </tr>\n",
       "    <tr>\n",
       "      <th>7970</th>\n",
       "      <td>[best, proven, acne, go, deeper, kill, shrink,...</td>\n",
       "      <td>Light therapy is the best proven treatment for...</td>\n",
       "    </tr>\n",
       "    <tr>\n",
       "      <th>7973</th>\n",
       "      <td>[back, facial, acne, removal, black, head, acn...</td>\n",
       "      <td>Back Facials with acne treatment and light the...</td>\n",
       "    </tr>\n",
       "    <tr>\n",
       "      <th>7989</th>\n",
       "      <td>[color, led, photon, mask, wrinkle, removal, r...</td>\n",
       "      <td>Colors LED Photon Light Therapy Facial Mask Wr...</td>\n",
       "    </tr>\n",
       "  </tbody>\n",
       "</table>\n",
       "<p>1325 rows × 2 columns</p>\n",
       "</div>"
      ],
      "text/plain": [
       "                                                    bow  \\\n",
       "2          [spotted, new, favorite, beauty, acne, mask]   \n",
       "3     [may, face, lotion, lite, review, two, favorit...   \n",
       "25          [present, doc, peel, wonderful, experience]   \n",
       "31                              [skincare, issue, care]   \n",
       "48    [health, acne, new, blue, color, skincare, acn...   \n",
       "49                            [take, control, skincare]   \n",
       "53    [color, led, light, photon, rejuvenation, lift...   \n",
       "63                  [improves, appearance, application]   \n",
       "83                    [interested, red, read, skincare]   \n",
       "89    [opera, led, mask, action, orchid, spa, wellne...   \n",
       "103     [attention, new, led, available, come, get, st]   \n",
       "121         [photon, mask, led, anti, aging, led, mask]   \n",
       "124   [diode, laser, led, helmet, hair, loss, regrow...   \n",
       "150                   [detail, led, acne, removal, led]   \n",
       "152   [u, want, discover, mask, helping, heal, acne,...   \n",
       "154   [love, led, face, mask, natural, suit, type, p...   \n",
       "162                                                  []   \n",
       "166          [hello, beautiful, say, acne, blue, green]   \n",
       "167                      [also, check, acne, use, home]   \n",
       "169   [maybe, wear, sunglass, shield, tender, eye, r...   \n",
       "182   [twitter, alternative, beautiful, beauty, blue...   \n",
       "204          [ready, little, led, thank, led, skincare]   \n",
       "212   [red, anti, wrinkle, acne, collagen, serum, qu...   \n",
       "217                  [led, photon, mask, skincare, led]   \n",
       "231                     [red, blue, panel, led, photon]   \n",
       "235                            [new, mask, photography]   \n",
       "242                       [led, visit, facial, quality]   \n",
       "250   [best, moment, ever, featured, new, acne, mask...   \n",
       "252   [red, blue, led, photon, activating, wrinkle, ...   \n",
       "267   [red, blue, led, photon, activating, wrinkle, ...   \n",
       "...                                                 ...   \n",
       "7818  [oh, meant, eczema, apparently, thats, suppose...   \n",
       "7821                        [get, ready, summer, laser]   \n",
       "7824  [natural, cure, psoriasis, employed, harmony, ...   \n",
       "7826                                 [kick, notch, led]   \n",
       "7830                                      [black, mask]   \n",
       "7836                       [led, help, rejuvenate, via]   \n",
       "7842    [daylight, lamp, led, technology, genuine, new]   \n",
       "7843  [trans, phantom, led, mask, perfect, needling,...   \n",
       "7845  [trophy, red, device, safe, effective, led, an...   \n",
       "7855  [sleep, mask, us, battle, jet, lag, irregular,...   \n",
       "7866  [acne, bad, breakout, highly, suggest, red, re...   \n",
       "7877  [baby, quasar, plus, extra, powerful, red, dev...   \n",
       "7878  [get, k, per, hour, cash, per, hour, k, per, h...   \n",
       "7884  [absolutely, fabulous, day, spent, walk, direc...   \n",
       "7886  [diamond, led, radio, frequency, tightening, n...   \n",
       "7897  [beauty, device, sale, remain, flat, due, stru...   \n",
       "7900  [jet, lag, fun, known, medical, community, con...   \n",
       "7904  [color, led, photon, mask, wrinkle, removal, r...   \n",
       "7909       [blue, best, known, acne, confident, summer]   \n",
       "7912  [red, blue, led, photon, activating, wrinkle, ...   \n",
       "7915                [acne, blue, review, talking, acne]   \n",
       "7936  [think, important, part, article, towards, end...   \n",
       "7943                                                 []   \n",
       "7948                                                 []   \n",
       "7950  [led, mask, effect, led, main, kill, bacteria,...   \n",
       "7955                          [win, clear, unit, worth]   \n",
       "7967                    [star, sequel, new, acne, mask]   \n",
       "7970  [best, proven, acne, go, deeper, kill, shrink,...   \n",
       "7973  [back, facial, acne, removal, black, head, acn...   \n",
       "7989  [color, led, photon, mask, wrinkle, removal, r...   \n",
       "\n",
       "                                          original_text  \n",
       "2     @Star_news spotted @Olivia_Holt with her new f...  \n",
       "3     Sunday, May 1, 2016\\n\\nGlyDerm Face Lotion Lit...  \n",
       "25    #DmvNetworks presents\\n\\nDC Derm Docs\\nBotox, ...  \n",
       "31    have any #skincare issues? #olivegold03 and li...  \n",
       "48    RT @WXU_DEZ_025: #Health #Acne sherif.ws/acne/...  \n",
       "49    Take control of your #rosacea with an #IPL #Ph...  \n",
       "53    4 Colors Led Light Therapy Lights Photon Rejuv...  \n",
       "63    RT @Theralight: #Photorejuvenation improves th...  \n",
       "83    Interested in having a Red Light Therapy?\\nRea...  \n",
       "89    This is the OPERA LED facial mask in action at...  \n",
       "103   Attention! New LED light therapy now available...  \n",
       "121   Photon Skin Facial Mask LED Light Therapy Phot...  \n",
       "124   38 Diodes Laser LED Therapy Helmet Hair Loss R...  \n",
       "150   Details:  http://cavitation-slimming.com/Beaut...  \n",
       "152   IF u want 2discover how @Neutrogena Light Ther...  \n",
       "154   Kourtney Kardashian loves the LED Face Mask.. ...  \n",
       "162   RT @vBBlogDirectory: What is #Rosacea? therali...  \n",
       "166   Hello beautiful skin! Say bye-bye acne! Blue a...  \n",
       "167   @SkinCareTips3 and also check out @LustrePureL...  \n",
       "169   @mariskreizman maybe wear sunglasses? To shiel...  \n",
       "182   Facebook | Instagram | Twitter\\n\\n#d800 #lucaf...  \n",
       "204   Who is ready for a little LED Light Therapy? Y...  \n",
       "212   LIGHTSTIM RED LIGHT THERAPY ANTI WRINKLES + AC...  \n",
       "217   3IN1 JMF LED Photon Facial Mask Skincare LED L...  \n",
       "231   XL Red Blue Light Therapy Panel. Anti-Aging. L...  \n",
       "235   New #DarthVader Instagram by @y.meys // #starw...  \n",
       "242   LED light therapy is here!!!!! Visit @QLuxSpa!...  \n",
       "250   RT @Neutrogena: Best TV moment ever: @TheEllen...  \n",
       "252   RED BLUE Anti-Aging LED Photon Light Therapy.C...  \n",
       "267   RED BLUE Anti-Aging LED Photon Light Therapy.C...  \n",
       "...                                                 ...  \n",
       "7818  @AntSac76 oh no I meant that light therapy the...  \n",
       "7821  RT @GLClinic: Get your skin ready for summer!\\...  \n",
       "7824  Natural cures for psoriasis be employed in har...  \n",
       "7826  Kick your facial up a notch with LED light the...  \n",
       "7830  Givenchy Skin Targetters Black For Light Mask ...  \n",
       "7836  LED therapy to help rejuvenate skin via @holis...  \n",
       "7842  Beurer TL 30 Daylight Lamp Light Therapy With ...  \n",
       "7843  Trans Phantom LED Light Mask Treatment, perfec...  \n",
       "7845  RejuvaliteMD by Trophy Skin. Red Light Therapy...  \n",
       "7855  RT @BotDotSleep: Sleep Mask Uses Light Therapy...  \n",
       "7866  If you have acne or have a bad breakout I high...  \n",
       "7877  Baby Quasar PLUS is an extra powerful red ligh...  \n",
       "7878  I get about 350k per hour at prif and about 1-...  \n",
       "7884  Absolutely fabulous day spent in Huntington LI...  \n",
       "7886  RT @3dlipoandskin: Diamond Microdermabrasion ?...  \n",
       "7897  \"Beauty device sales remain flat due to a stru...  \n",
       "7900  Jet lag is not fun. \\nKnown by the medical com...  \n",
       "7904  Colors LED Photon Light Therapy Facial Mask Wr...  \n",
       "7909  Blue Light Therapy is the best known light tre...  \n",
       "7912  RED BLUE Anti-Aging LED Photon Light Therapy.C...  \n",
       "7915  BlueMD - Acne Blue Light Therapy Treatment Rev...  \n",
       "7936  I think the most important part of this articl...  \n",
       "7943  RT @vBBlogDirectory: What is #Rosacea? therali...  \n",
       "7948  What Is Anti-Ageing Omnilux Light Therapy For ...  \n",
       "7950  led mask \\nEffects of led facial main\\nKill ba...  \n",
       "7955  RT @AttachmentMumma: Win a Lumie Clear Skin Li...  \n",
       "7967  RT @Neutrogena: After the trick-or-treating?s ...  \n",
       "7970  Light therapy is the best proven treatment for...  \n",
       "7973  Back Facials with acne treatment and light the...  \n",
       "7989  Colors LED Photon Light Therapy Facial Mask Wr...  \n",
       "\n",
       "[1325 rows x 2 columns]"
      ]
     },
     "execution_count": 23,
     "metadata": {},
     "output_type": "execute_result"
    }
   ],
   "source": [
    "df_tfidf[df_tfidf['conf_score']<0.5][['bow','original_text']]"
   ]
  },
  {
   "cell_type": "code",
   "execution_count": 24,
   "metadata": {
    "collapsed": true
   },
   "outputs": [],
   "source": [
    "import nltk\n",
    "import itertools\n",
    "from collections import Counter\n",
    "import operator"
   ]
  },
  {
   "cell_type": "code",
   "execution_count": 25,
   "metadata": {
    "collapsed": true
   },
   "outputs": [],
   "source": [
    "corpus_with_pos = list(map(lambda x:nltk.pos_tag(x),cleaned_list))"
   ]
  },
  {
   "cell_type": "code",
   "execution_count": 26,
   "metadata": {
    "collapsed": false
   },
   "outputs": [
    {
     "data": {
      "text/plain": [
       "[('NN', 46353),\n",
       " ('JJ', 16991),\n",
       " ('VBD', 4707),\n",
       " ('VBG', 4108),\n",
       " ('RB', 3319),\n",
       " ('VBN', 2654),\n",
       " ('VB', 2081),\n",
       " ('VBP', 1519),\n",
       " ('NNS', 1293),\n",
       " ('IN', 1263),\n",
       " ('CD', 533),\n",
       " ('VBZ', 470),\n",
       " ('JJR', 457),\n",
       " ('MD', 420),\n",
       " ('JJS', 332),\n",
       " ('FW', 175),\n",
       " ('RBR', 147),\n",
       " ('CC', 139),\n",
       " ('PRP', 137),\n",
       " ('DT', 99),\n",
       " ('NNP', 71),\n",
       " ('RBS', 39),\n",
       " ('RP', 36),\n",
       " ('WP', 33),\n",
       " ('WRB', 18),\n",
       " ('SYM', 12),\n",
       " ('UH', 8),\n",
       " ('EX', 6),\n",
       " ('WDT', 4),\n",
       " ('WP$', 2),\n",
       " ('PRP$', 1)]"
      ]
     },
     "execution_count": 26,
     "metadata": {},
     "output_type": "execute_result"
    }
   ],
   "source": [
    "sorted(dict(Counter(list(map(lambda x: x[1],sum(corpus_with_pos,[]))))).items(),key=operator.itemgetter(1),reverse = True)"
   ]
  },
  {
   "cell_type": "code",
   "execution_count": 27,
   "metadata": {
    "collapsed": false
   },
   "outputs": [
    {
     "name": "stderr",
     "output_type": "stream",
     "text": [
      "C:\\Users\\mnan\\Anaconda3\\lib\\site-packages\\ipykernel\\__main__.py:2: FutureWarning: sort(columns=....) is deprecated, use sort_values(by=.....)\n",
      "  from ipykernel import kernelapp as app\n"
     ]
    },
    {
     "data": {
      "text/plain": [
       "<matplotlib.axes._subplots.AxesSubplot at 0x10f7b210>"
      ]
     },
     "execution_count": 27,
     "metadata": {},
     "output_type": "execute_result"
    },
    {
     "data": {
      "image/png": "[encoded data removed]",
      "text/plain": [
       "<matplotlib.figure.Figure at 0x10cd87b0>"
      ]
     },
     "metadata": {},
     "output_type": "display_data"
    }
   ],
   "source": [
    "count_pos_dict = dict(Counter(list(map(lambda x: x[1],sum(corpus_with_pos,[])))))\n",
    "pd.DataFrame({'count':list(count_pos_dict.values()),'pos':list(count_pos_dict.keys())}).set_index('pos').sort('count',ascending=False).plot(kind = 'bar')"
   ]
  },
  {
   "cell_type": "code",
   "execution_count": 28,
   "metadata": {
    "collapsed": true
   },
   "outputs": [],
   "source": [
    "keep_pos = ['JJ','JJS','JJR','NN','NNP','RB','VB','VBP','VBZ','RBR','VBD','VBN']"
   ]
  },
  {
   "cell_type": "code",
   "execution_count": 29,
   "metadata": {
    "collapsed": false
   },
   "outputs": [
    {
     "data": {
      "text/plain": [
       "[('VBZ', 470),\n",
       " ('VBP', 1519),\n",
       " ('VBD', 4707),\n",
       " ('JJ', 16991),\n",
       " ('NNP', 71),\n",
       " ('JJR', 457),\n",
       " ('NN', 46353),\n",
       " ('JJS', 332),\n",
       " ('VBN', 2654),\n",
       " ('RBR', 147),\n",
       " ('RB', 3319),\n",
       " ('VB', 2081)]"
      ]
     },
     "execution_count": 29,
     "metadata": {},
     "output_type": "execute_result"
    }
   ],
   "source": [
    "list(filter(lambda x: x[0] in keep_pos,dict(Counter(list(map(lambda x: x[1],sum(corpus_with_pos,[]))))).items()))"
   ]
  },
  {
   "cell_type": "code",
   "execution_count": 30,
   "metadata": {
    "collapsed": false
   },
   "outputs": [],
   "source": [
    "filtered_corpus_with_pos=[]\n",
    "for i in corpus_with_pos:\n",
    "    filtered_corpus_with_pos.append(list(filter(lambda x: x[1] in keep_pos,i)))"
   ]
  },
  {
   "cell_type": "code",
   "execution_count": 31,
   "metadata": {
    "collapsed": false
   },
   "outputs": [],
   "source": [
    "filtered_corpus_by_pos = []\n",
    "for i in filtered_corpus_with_pos:\n",
    "    filtered_corpus_by_pos.append(list(map(lambda x: x[0],i)))"
   ]
  },
  {
   "cell_type": "code",
   "execution_count": 32,
   "metadata": {
    "collapsed": false
   },
   "outputs": [],
   "source": [
    "dictionary_pos = Dictionary(filtered_corpus_by_pos)\n",
    "corpus_pos = [dictionary_pos.doc2bow(text) for text in filtered_corpus_by_pos]"
   ]
  },
  {
   "cell_type": "code",
   "execution_count": 33,
   "metadata": {
    "collapsed": false
   },
   "outputs": [
    {
     "data": {
      "text/plain": [
       "[(0,\n",
       "  '0.016*\"downtime\" + 0.015*\"needle\" + 0.015*\"estimated\" + 0.015*\"affect\" + 0.013*\"pain\" + 0.009*\"beauty\" + 0.009*\"led\" + 0.009*\"acne\" + 0.008*\"collagen\" + 0.008*\"rejuvenation\"'),\n",
       " (1,\n",
       "  '0.049*\"blue\" + 0.048*\"acne\" + 0.030*\"red\" + 0.025*\"sun\" + 0.019*\"healing\" + 0.019*\"prevent\" + 0.019*\"new\" + 0.018*\"help\" + 0.015*\"led\" + 0.014*\"matter\"'),\n",
       " (2,\n",
       "  '0.025*\"violet\" + 0.023*\"psoriasis\" + 0.022*\"min\" + 0.020*\"condition\" + 0.020*\"used\" + 0.019*\"treat\" + 0.018*\"serious\" + 0.017*\"acne\" + 0.012*\"system\" + 0.012*\"car\"'),\n",
       " (3,\n",
       "  '0.039*\"photon\" + 0.036*\"mask\" + 0.034*\"led\" + 0.032*\"rejuvenation\" + 0.027*\"beauty\" + 0.027*\"ultrasonic\" + 0.022*\"wrinkle\" + 0.022*\"complete\" + 0.021*\"color\" + 0.020*\"ultrasound\"'),\n",
       " (4,\n",
       "  '0.020*\"solution\" + 0.018*\"cause\" + 0.015*\"issue\" + 0.012*\"get\" + 0.011*\"kind\" + 0.011*\"bring\" + 0.011*\"natural\" + 0.011*\"wavelength\" + 0.011*\"skin\" + 0.010*\"healthier\"'),\n",
       " (5,\n",
       "  '0.042*\"look\" + 0.012*\"treat\" + 0.011*\"age\" + 0.011*\"perfect\" + 0.010*\"love\" + 0.010*\"wish\" + 0.010*\"birthmark\" + 0.009*\"freckle\" + 0.009*\"spot\" + 0.008*\"depression\"'),\n",
       " (6,\n",
       "  '0.064*\"violet\" + 0.055*\"skincare\" + 0.047*\"benefit\" + 0.040*\"mask\" + 0.038*\"new\" + 0.019*\"photo\" + 0.018*\"goodness\" + 0.018*\"light\" + 0.017*\"thank\" + 0.016*\"acne\"'),\n",
       " (7,\n",
       "  '0.013*\"equipment\" + 0.013*\"digital\" + 0.013*\"salon\" + 0.012*\"work\" + 0.011*\"due\" + 0.011*\"led\" + 0.010*\"machine\" + 0.009*\"dermatology\" + 0.009*\"system\" + 0.008*\"skincare\"'),\n",
       " (8,\n",
       "  '0.105*\"environment\" + 0.104*\"bus\" + 0.102*\"brighten\" + 0.099*\"stop\" + 0.099*\"panel\" + 0.096*\"news\" + 0.089*\"energy\" + 0.086*\"technology\" + 0.085*\"winter\" + 0.003*\"remedy\"'),\n",
       " (9,\n",
       "  '0.026*\"think\" + 0.024*\"skincare\" + 0.021*\"stuff\" + 0.019*\"system\" + 0.017*\"spa\" + 0.016*\"got\" + 0.015*\"here\" + 0.014*\"industry\" + 0.013*\"today\" + 0.013*\"hot\"')]"
      ]
     },
     "execution_count": 33,
     "metadata": {},
     "output_type": "execute_result"
    }
   ],
   "source": [
    "tfidf_by_pos = models.TfidfModel(corpus_pos)\n",
    "corpus_by_pos_tfidf = tfidf_by_pos[corpus_pos]\n",
    "num_topics = 10\n",
    "lda_pos_tfidf = LdaModel(corpus_by_pos_tfidf, id2word=dictionary_pos, num_topics=num_topics)\n",
    "lda_pos_tfidf.show_topics(num_topics,10)"
   ]
  },
  {
   "cell_type": "code",
   "execution_count": null,
   "metadata": {
    "collapsed": true
   },
   "outputs": [],
   "source": []
  },
  {
   "cell_type": "code",
   "execution_count": 118,
   "metadata": {
    "collapsed": false
   },
   "outputs": [
    {
     "name": "stderr",
     "output_type": "stream",
     "text": [
      "C:\\Users\\mnan\\Anaconda3\\lib\\site-packages\\gensim\\models\\phrases.py:248: UserWarning: For a faster implementation, use the gensim.models.phrases.Phraser class\n",
      "  warnings.warn(\"For a faster implementation, use the gensim.models.phrases.Phraser class\")\n"
     ]
    }
   ],
   "source": [
    "bigram = gensim.models.Phrases(cleaned_list,min_count=1, threshold=2)\n",
    "dictionary_text_list = list(bigram[cleaned_list])\n",
    "train_text_list = list(bigram[cleaned_list])\n",
    "dictionary_bigram = Dictionary(dictionary_text_list)\n",
    "corpus_bigram = [dictionary_bigram.doc2bow(text) for text in train_text_list]"
   ]
  },
  {
   "cell_type": "code",
   "execution_count": 119,
   "metadata": {
    "collapsed": false
   },
   "outputs": [
    {
     "data": {
      "text/plain": [
       "[(0,\n",
       "  '0.027*\"violet\" + 0.016*\"benefit\" + 0.015*\"skin\" + 0.010*\"help\" + 0.008*\"low\" + 0.007*\"time\" + 0.007*\"black\" + 0.007*\"level\" + 0.006*\"red\" + 0.005*\"body\" + 0.005*\"muscle\" + 0.005*\"one\" + 0.005*\"mask\" + 0.005*\"led\" + 0.004*\"tone\"'),\n",
       " (1,\n",
       "  '0.056*\"led\" + 0.052*\"skin\" + 0.030*\"wrinkle\" + 0.026*\"acne\" + 0.015*\"care\" + 0.012*\"ultrasound\" + 0.012*\"ultrasonic\" + 0.012*\"blue\" + 0.011*\"high\" + 0.011*\"red\" + 0.010*\"intensity\" + 0.009*\"machine\" + 0.009*\"focused\" + 0.009*\"collagen\" + 0.008*\"rt\"'),\n",
       " (2,\n",
       "  '0.019*\"day\" + 0.017*\"new\" + 0.017*\"mask\" + 0.014*\"device\" + 0.013*\"rt\" + 0.013*\"exciting\" + 0.013*\"complete\" + 0.012*\"launching\" + 0.011*\"added\" + 0.007*\"medical\" + 0.007*\"led\" + 0.007*\"pub\" + 0.005*\"acne\" + 0.005*\"patient\" + 0.005*\"health\"'),\n",
       " (3,\n",
       "  '0.099*\"led\" + 0.061*\"mask\" + 0.056*\"skin\" + 0.048*\"acne\" + 0.042*\"beauty\" + 0.040*\"photon\" + 0.040*\"rejuvenation\" + 0.035*\"new\" + 0.028*\"color\" + 0.026*\"blue\" + 0.025*\"red\" + 0.018*\"care\" + 0.016*\"sun\" + 0.014*\"face\" + 0.012*\"healing\"'),\n",
       " (4,\n",
       "  '0.098*\"technology\" + 0.098*\"energy\" + 0.097*\"panel\" + 0.097*\"winter\" + 0.097*\"stop\" + 0.097*\"brighten\" + 0.097*\"news\" + 0.097*\"environment\" + 0.097*\"bus\" + 0.004*\"skin\" + 0.003*\"face\" + 0.003*\"cosmetic\" + 0.003*\"rt\" + 0.003*\"new\" + 0.002*\"red\"'),\n",
       " (5,\n",
       "  '0.016*\"skin\" + 0.014*\"today\" + 0.013*\"led\" + 0.012*\"skincare\" + 0.011*\"rt\" + 0.009*\"hot\" + 0.009*\"here\" + 0.009*\"eye\" + 0.009*\"industry\" + 0.008*\"work\" + 0.008*\"get\" + 0.008*\"acne\" + 0.008*\"stuff\" + 0.008*\"red\" + 0.007*\"dark\"'),\n",
       " (6,\n",
       "  '0.032*\"acne\" + 0.032*\"rt\" + 0.020*\"mask\" + 0.019*\"skin\" + 0.018*\"spot\" + 0.015*\"photo\" + 0.014*\"light\" + 0.013*\"thank\" + 0.011*\"unforgiving\" + 0.011*\"goodness\" + 0.011*\"treat\" + 0.011*\"age\" + 0.010*\"green\" + 0.010*\"symptom\" + 0.009*\"inflammation\"'),\n",
       " (7,\n",
       "  '0.062*\"acne\" + 0.050*\"anti\" + 0.043*\"skin\" + 0.029*\"aging\" + 0.028*\"led\" + 0.028*\"rt\" + 0.025*\"blue\" + 0.022*\"min\" + 0.019*\"care\" + 0.018*\"red\" + 0.018*\"remedy\" + 0.014*\"laser\" + 0.013*\"car\" + 0.011*\"ride\" + 0.011*\"score\"'),\n",
       " (8,\n",
       "  '0.052*\"rt\" + 0.049*\"skin\" + 0.032*\"acne\" + 0.016*\"led\" + 0.013*\"help\" + 0.011*\"natural\" + 0.011*\"blue\" + 0.009*\"problem\" + 0.009*\"beauty\" + 0.009*\"prevent\" + 0.009*\"pain\" + 0.009*\"red\" + 0.009*\"solution\" + 0.009*\"way\" + 0.009*\"people\"'),\n",
       " (9,\n",
       "  '0.093*\"rt\" + 0.077*\"skincare\" + 0.033*\"system\" + 0.030*\"skin\" + 0.020*\"psoriasis\" + 0.019*\"treat\" + 0.016*\"think\" + 0.014*\"used\" + 0.014*\"dermatology\" + 0.014*\"work\" + 0.013*\"condition\" + 0.013*\"look\" + 0.010*\"revive\" + 0.010*\"got\" + 0.010*\"step\"')]"
      ]
     },
     "execution_count": 119,
     "metadata": {},
     "output_type": "execute_result"
    }
   ],
   "source": [
    "num_topics = 10\n",
    "lda_tfidf = LdaModel(corpus_bigram, id2word=dictionary_bigram, num_topics=num_topics)\n",
    "lda.show_topics(num_topics,15)"
   ]
  },
  {
   "cell_type": "markdown",
   "metadata": {},
   "source": [
    "** Look Bad **"
   ]
  },
  {
   "cell_type": "markdown",
   "metadata": {},
   "source": [
    "# Conclusion:"
   ]
  },
  {
   "cell_type": "markdown",
   "metadata": {},
   "source": [
    "#### Bag of Words is the best"
   ]
  },
  {
   "cell_type": "code",
   "execution_count": null,
   "metadata": {
    "collapsed": true
   },
   "outputs": [],
   "source": []
  }
 ],
 "metadata": {
  "anaconda-cloud": {},
  "kernelspec": {
   "display_name": "Python [default]",
   "language": "python",
   "name": "python3"
  },
  "language_info": {
   "codemirror_mode": {
    "name": "ipython",
    "version": 3
   },
   "file_extension": ".py",
   "mimetype": "text/x-python",
   "name": "python",
   "nbconvert_exporter": "python",
   "pygments_lexer": "ipython3",
   "version": "3.5.2"
  }
 },
 "nbformat": 4,
 "nbformat_minor": 1
}
