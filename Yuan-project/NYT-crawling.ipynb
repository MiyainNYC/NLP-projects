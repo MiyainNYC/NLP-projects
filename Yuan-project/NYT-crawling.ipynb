{
 "cells": [
  {
   "cell_type": "code",
   "execution_count": 1,
   "metadata": {
    "collapsed": true
   },
   "outputs": [],
   "source": [
    "from nytimesarticle import articleAPI\n",
    "#api = articleAPI('de1d448e546c4d2499853ed6dab0b025')\n",
    "api = articleAPI('f4beb45eaf134f079867fd5f33b588d5')\n",
    "import time\n",
    "import numpy as np\n",
    "import collections"
   ]
  },
  {
   "cell_type": "code",
   "execution_count": 2,
   "metadata": {
    "collapsed": false
   },
   "outputs": [],
   "source": [
    "def parse_articles(articles):\n",
    "    '''\n",
    "    This function takes in a response to the NYT api and parses\n",
    "    the articles into a list of dictionaries\n",
    "    '''\n",
    "    news = []\n",
    "    try:\n",
    "        if articles['response']['docs'] is not None:\n",
    "            for i in articles['response']['docs']:\n",
    "            \n",
    "                dic = {}\n",
    "                dic['id'] = i['_id']\n",
    "                if i['abstract'] is not None:\n",
    "                    dic['abstract'] = i['abstract'].encode(\"utf8\")\n",
    "                else:\n",
    "                    dic['abstract'] = np.nan\n",
    "                dic['headline'] = i['headline']['main'].encode(\"utf8\")\n",
    "                dic['desk'] = i['news_desk']\n",
    "                dic['date'] = i['pub_date'][0:10] # cutting time of day.\n",
    "                dic['section'] = i['section_name']\n",
    "                if i[\"lead_paragraph\"] is not None:\n",
    "                     dic[\"lead_paragraph\"] = i[\"lead_paragraph\"].encode(\"utf8\")\n",
    "                else:\n",
    "                    dic[\"lead_paragraph\"] = np.nan\n",
    "                dic['source'] = i['source']\n",
    "                dic['type'] = i['type_of_material']\n",
    "                dic['url'] = i['web_url']\n",
    "                dic['word_count'] = i['word_count']\n",
    "        # locations\n",
    "                locations = []\n",
    "                for x in range(0,len(i['keywords'])):\n",
    "                    if 'glocations' in i['keywords'][x]['name']:\n",
    "                        locations.append(i['keywords'][x]['value'])\n",
    "                dic['locations'] = locations\n",
    "        # subject\n",
    "                subjects = []\n",
    "                for x in range(0,len(i['keywords'])):\n",
    "                    if 'subject' in i['keywords'][x]['name']:\n",
    "                        subjects.append(i['keywords'][x]['value'])\n",
    "                dic['subjects'] = subjects \n",
    "                \n",
    "                dic = collections.OrderedDict(sorted(dic.items()))\n",
    "                news.append(dic)\n",
    "            return(news)\n",
    "    except KeyError:\n",
    "        pass"
   ]
  },
  {
   "cell_type": "code",
   "execution_count": 50,
   "metadata": {
    "collapsed": true
   },
   "outputs": [],
   "source": [
    "def get_articles_monthly(date,query):\n",
    "    '''\n",
    "    query by date. Expect fewer than 30 articles each day\n",
    "    \n",
    "    '''\n",
    "    list_month = ['01','02','03','04','05','06','07','08','09','10','11','12']\n",
    "    list_begin_date = ['01','02','03','04','05','06','07','08','09','10','11','12','13','14','15','16','17','18',\n",
    "                      '19','20','21','22','23','24','25','26','27','28','29','30']\n",
    "    list_end_date = ['02','03','04','05','06','07','08','09','10','11','12','13','14','15','16','17','18',\n",
    "                      '19','20','21','22','23','24','25','26','27','28','29','30','31']\n",
    "\n",
    "    all_articles = []\n",
    "    \n",
    "    \n",
    "    for month in list_month:\n",
    "        \n",
    "        try:\n",
    "            \n",
    "            for i in range(0,2):\n",
    "                print i\n",
    "                \n",
    "                for day in zip(list_begin_date,list_end_date):\n",
    "\n",
    "\n",
    "                    articles = api.search(q = query,\n",
    "                                          fq = {'source':['Reuters','AP', 'The New York Times']},\n",
    "                                          begin_date = date + month + str(day[0]),\n",
    "                                          end_date = date + month + str(day[1]),sort='oldest',page = str(i))\n",
    "            \n",
    "                    time.sleep(1)\n",
    "            \n",
    "                    articles = parse_articles(articles)\n",
    "                    print articles\n",
    "                       \n",
    "                    if articles is not None:\n",
    "                        all_articles = all_articles + articles\n",
    "        except ValueError:\n",
    "            pass\n",
    "    \n",
    "    return all_articles"
   ]
  },
  {
   "cell_type": "markdown",
   "metadata": {},
   "source": [
    "** Query Renminbi**"
   ]
  },
  {
   "cell_type": "code",
   "execution_count": 35,
   "metadata": {
    "collapsed": true
   },
   "outputs": [],
   "source": [
    "mkdir dataset"
   ]
  },
  {
   "cell_type": "code",
   "execution_count": 36,
   "metadata": {
    "collapsed": false
   },
   "outputs": [
    {
     "name": "stdout",
     "output_type": "stream",
     "text": [
      "C:\\Users\\mnan\\Desktop\\dataset\n"
     ]
    }
   ],
   "source": [
    "cd dataset"
   ]
  },
  {
   "cell_type": "code",
   "execution_count": 40,
   "metadata": {
    "collapsed": false
   },
   "outputs": [
    {
     "data": {
      "text/plain": [
       "1291"
      ]
     },
     "execution_count": 40,
     "metadata": {},
     "output_type": "execute_result"
    }
   ],
   "source": [
    "len(dataframe_Renminbi)"
   ]
  },
  {
   "cell_type": "code",
   "execution_count": null,
   "metadata": {
    "collapsed": true
   },
   "outputs": [],
   "source": [
    "article_num_Renminbi = 0\n",
    "Renminbi_all = []\n",
    "query = 'Renminbi' or 'Yuan' or 'CNY'\n",
    "\n",
    "for i in range(2016,2017):\n",
    "    print 'Processing ' + str(i) + ' year...'\n",
    "    Renminbi_year =  get_articles_monthly(str(i),query)\n",
    "    if Renminbi_year is not None:\n",
    "        Renminbi_all = Renminbi_all + Renminbi_year\n",
    "dataframe_Renminbi = pd.DataFrame.from_dict(Renminbi_all)\n",
    "dataframe_Renminbi.to_csv('Renminbi.csv',index_label=False)\n",
    "print '--------------'\n",
    "print 'SUM: %d'%len(dataframe_Renminbi) +'articles'"
   ]
  },
  {
   "cell_type": "code",
   "execution_count": null,
   "metadata": {
    "collapsed": true
   },
   "outputs": [],
   "source": [
    "article_num_Yuan = 0\n",
    "Yuan_all = []\n",
    "\n",
    "for i in range(2006,2017):\n",
    "    print 'Processing ' + str(i) + ' year...'\n",
    "    Yuan_year =  get_articles(str(i),'Yuan')\n",
    "    if Yuan_year is not None:\n",
    "        Yuan_all = Yuan_all + Yuan_year\n",
    "dataframe_Yuan = pd.DataFrame.from_dict(Yuan_all)\n",
    "dataframe_Yuan.to_csv('Yuan.csv',index_label=False)\n",
    "print '--------------'\n",
    "print 'SUM: %d'%len(dataframe_Yuan) +'articles'"
   ]
  },
  {
   "cell_type": "code",
   "execution_count": null,
   "metadata": {
    "collapsed": true
   },
   "outputs": [],
   "source": [
    "article_num_CNY = 0\n",
    "CNY_all = []\n",
    "\n",
    "for i in range(2006,2017):\n",
    "    print 'Processing ' + str(i) + ' year...'\n",
    "    CNY_year =  get_articles(str(i),'CNY')\n",
    "    if CNY_year is not None:\n",
    "        CNY_all = CNY_all + CNY_year\n",
    "dataframe_CNY = pd.DataFrame.from_dict(CNY_all)\n",
    "dataframe_CNY.to_csv('CNY.csv',index_label=False)\n",
    "print '--------------'\n",
    "print 'SUM: %d'%len(dataframe_CNY) +'articles'"
   ]
  },
  {
   "cell_type": "code",
   "execution_count": null,
   "metadata": {
    "collapsed": true
   },
   "outputs": [],
   "source": [
    "total = len(dataframe_CNY)+len(dataframe_Yuan)+len(dataframe_Renminbi)\n",
    "print 'All articles: %d'% total"
   ]
  },
  {
   "cell_type": "code",
   "execution_count": null,
   "metadata": {
    "collapsed": true
   },
   "outputs": [],
   "source": []
  }
 ],
 "metadata": {
  "anaconda-cloud": {},
  "kernelspec": {
   "display_name": "Python [default]",
   "language": "python",
   "name": "python2"
  },
  "language_info": {
   "codemirror_mode": {
    "name": "ipython",
    "version": 2
   },
   "file_extension": ".py",
   "mimetype": "text/x-python",
   "name": "python",
   "nbconvert_exporter": "python",
   "pygments_lexer": "ipython2",
   "version": "2.7.12"
  }
 },
 "nbformat": 4,
 "nbformat_minor": 1
}
